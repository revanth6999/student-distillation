{
 "cells": [
  {
   "cell_type": "code",
   "execution_count": 1,
   "id": "8a705841-dccb-41cc-94cf-905e14f2fb80",
   "metadata": {},
   "outputs": [
    {
     "name": "stdout",
     "output_type": "stream",
     "text": [
      "Using mps device\n",
      "Files already downloaded and verified\n",
      "Files already downloaded and verified\n"
     ]
    }
   ],
   "source": [
    "import json\n",
    "import numpy as np\n",
    "import pandas as pd\n",
    "import matplotlib.pyplot as plt\n",
    "import warnings\n",
    "import os\n",
    "import time\n",
    "import torch\n",
    "import torchvision\n",
    "import torchvision.transforms as transforms\n",
    "import torchvision.datasets as datasets\n",
    "from torch.utils.data import DataLoader, random_split\n",
    "import torch.nn as nn\n",
    "import torch.optim as optim\n",
    "import torch.nn.functional as F\n",
    "import wandb\n",
    "warnings.filterwarnings('ignore')\n",
    "\n",
    "device = (\"cuda\" if torch.cuda.is_available() else \"mps\" if torch.backends.mps.is_available() else \"cpu\")\n",
    "print(f\"Using {device} device\")\n",
    "\n",
    "sweep_config = { \"name\": \"Maximize Accuracy\", \"method\": \"bayes\" }\n",
    "sweep_config[\"metric\"] = {\n",
    "    \"name\": \"val_accuracy\",\n",
    "    \"goal\": \"maximize\"\n",
    "}\n",
    "parameters = {\n",
    "    \"dropout\": {\"values\": [0, 0.2, 0.3]},\n",
    "    \"learning_rate\": { \"values\": [0.1, 0.05] },\n",
    "    \"growth_rate\": { \"values\": [ 12, 18 ] },\n",
    "    \"bottleneck\": { \"values\": [True, False]},\n",
    "    \"optimizer\": { \"values\": [\"SGD\", \"Adam\", \"RMSprop\" ] },\n",
    "    \"lr_gamma\": { \"values\": [ 0.1, 0.3 ] },\n",
    "    \"temperature\": { \"values\": [ 0.3, 0.5 ] },\n",
    "    \"weight_decay\": { \"values\": [4e-5, 1e-5] },\n",
    "    \"alpha\": { \"values\": [ 0.5, 0.7, 0.9 ]}\n",
    "}\n",
    "sweep_config[\"parameters\"] = parameters\n",
    "\n",
    "additional_config = {\n",
    "    \"num_epochs\": 5,\n",
    "    \"workers\": 4,\n",
    "    \"batch_size\": 96,\n",
    "    \"momentum\": 0.9,\n",
    "    \"lr_step_size\": 20\n",
    "}\n",
    "\n",
    "import torch\n",
    "from torchvision import datasets, transforms\n",
    "from torch.utils.data import DataLoader\n",
    "\n",
    "train_transform = transforms.Compose([\n",
    "    transforms.RandomCrop(32, padding=4),\n",
    "    transforms.RandomHorizontalFlip(0.5),       \n",
    "    transforms.ToTensor(),    \n",
    "    transforms.Normalize((0.5070754, 0.48655024, 0.44091907), (0.26733398, 0.25643876, 0.2761503))\n",
    "])\n",
    "\n",
    "test_transform = transforms.Compose([\n",
    "    transforms.ToTensor(),\n",
    "    transforms.Normalize((0.5070754, 0.48655024, 0.44091907), (0.26733398, 0.25643876, 0.2761503))\n",
    "])\n",
    "\n",
    "train_dataset = datasets.CIFAR100(root='./data', train=True, download=True, transform=train_transform)\n",
    "test_dataset = datasets.CIFAR100(root='./data', train=False, download=True, transform=test_transform)\n",
    "\n",
    "train_size = int(0.8 * len(train_dataset))\n",
    "val_size = len(train_dataset) - train_size\n",
    "\n",
    "# Split the dataset into training and validation sets\n",
    "train_dataset, test_dataset = random_split(train_dataset, [train_size, val_size])\n",
    "\n",
    "train_loader = DataLoader(train_dataset, batch_size=64, shuffle=True, num_workers=2)\n",
    "val_loader = DataLoader(train_dataset, batch_size=128, shuffle=False, num_workers=2)"
   ]
  },
  {
   "cell_type": "code",
   "execution_count": 2,
   "id": "9731d4b7-dff8-4343-a69c-02c9f60b2193",
   "metadata": {},
   "outputs": [],
   "source": [
    "class DistillationLoss(nn.Module):\n",
    "    def __init__(self, alpha, temperature):\n",
    "        super(DistillationLoss, self).__init__()\n",
    "        self.alpha = alpha\n",
    "        self.temperature = temperature\n",
    "        self.criterion = nn.CrossEntropyLoss()\n",
    "\n",
    "    def forward(self, student_logits, teacher_logits, targets):\n",
    "        student_loss = self.criterion(student_logits, targets)\n",
    "        \n",
    "        distillation_loss = F.kl_div(\n",
    "            F.log_softmax(student_logits / self.temperature, dim=1),\n",
    "            F.softmax(teacher_logits / self.temperature, dim=1),\n",
    "            reduction='batchmean'\n",
    "        ) * (self.temperature ** 2)\n",
    "\n",
    "        loss = self.alpha * student_loss + (1 - self.alpha) * distillation_loss\n",
    "        return loss"
   ]
  },
  {
   "cell_type": "code",
   "execution_count": 3,
   "id": "8f385649-d96e-48d1-9568-259ac5e53bae",
   "metadata": {},
   "outputs": [],
   "source": [
    "def distill(dataloader, teacher, model, epoch, config):\n",
    "    size = len(dataloader.dataset)\n",
    "    model.train()\n",
    "    distillation_criterion = DistillationLoss(config[\"alpha\"], config[\"temperature\"])\n",
    "    if config[\"optimizer\"] != \"Adam\":\n",
    "        optimizer = getattr(torch.optim, config[\"optimizer\"])(model.parameters(), lr=config[\"learning_rate\"], momentum=config[\"momentum\"], weight_decay=config[\"weight_decay\"])\n",
    "    else:\n",
    "        optimizer = getattr(torch.optim, config[\"optimizer\"])(model.parameters(), lr=config[\"learning_rate\"], weight_decay=config[\"weight_decay\"])\n",
    "    scheduler = optim.lr_scheduler.StepLR(optimizer, step_size=config[\"lr_step_size\"], gamma=config[\"lr_gamma\"])\n",
    "\n",
    "    for batch, (X, y) in enumerate(dataloader):\n",
    "        X, y = X.to(device), y.to(device)\n",
    "        with torch.no_grad():\n",
    "            teacher_logits = teacher(X)\n",
    "        student_logits = model(X)\n",
    "        loss = distillation_criterion(student_logits, teacher_logits, y)\n",
    "        loss.backward()\n",
    "        torch.nn.utils.clip_grad_norm_(model.parameters(), max_norm=5.0)\n",
    "        optimizer.step()\n",
    "        optimizer.zero_grad()\n",
    "\n",
    "        if batch % 100 == 0:\n",
    "            print(f\"loss: {loss.item():.6f} [{batch * len(X)}/{size}]\")\n",
    "\n",
    "    scheduler.step()\n",
    "\n",
    "def train(dataloader, teacher, model, config):\n",
    "    for epoch in range(config[\"num_epochs\"]):\n",
    "        distill(dataloader, teacher, model, epoch, config)\n",
    "        test(val_loader, model, nn.CrossEntropyLoss(), epoch)\n",
    "        \n",
    "\n",
    "def test(dataloader, model, loss_fn, epoch):\n",
    "    size = len(dataloader.dataset)\n",
    "    num_batches = len(dataloader)\n",
    "    model.eval()\n",
    "    test_loss, correct = 0, 0\n",
    "    with torch.no_grad():\n",
    "        for X, y in dataloader:\n",
    "            X, y = X.to(device), y.to(device)\n",
    "            pred = model(X)\n",
    "            test_loss += loss_fn(pred, y).item()\n",
    "            correct += (pred.argmax(1) == y).type(torch.float).sum().item()\n",
    "    test_loss /= num_batches\n",
    "    step = epoch * len(dataloader.dataset)\n",
    "    correct /= size\n",
    "    wandb.log({\"epoch\": epoch + 1, \"val_loss\": test_loss, \"val_accuracy\": 100*correct})\n",
    "    print(f\"Test Error: \\n Accuracy: {(100*correct):>0.1f}%, Avg loss: {test_loss:>8f}\\n\")"
   ]
  },
  {
   "cell_type": "code",
   "execution_count": 4,
   "id": "705328ed-3df5-417d-abbf-e2805d08bfef",
   "metadata": {
    "scrolled": true
   },
   "outputs": [
    {
     "name": "stdout",
     "output_type": "stream",
     "text": [
      "Create sweep with ID: sk61moht\n",
      "Sweep URL: https://wandb.ai/ns24z093/distillation/sweeps/sk61moht\n"
     ]
    },
    {
     "name": "stderr",
     "output_type": "stream",
     "text": [
      "\u001b[34m\u001b[1mwandb\u001b[0m: Agent Starting Run: 2crdyhfh with config:\n",
      "\u001b[34m\u001b[1mwandb\u001b[0m: \talpha: 0.9\n",
      "\u001b[34m\u001b[1mwandb\u001b[0m: \tbottleneck: False\n",
      "\u001b[34m\u001b[1mwandb\u001b[0m: \tdropout: 0.2\n",
      "\u001b[34m\u001b[1mwandb\u001b[0m: \tgrowth_rate: 18\n",
      "\u001b[34m\u001b[1mwandb\u001b[0m: \tlearning_rate: 0.1\n",
      "\u001b[34m\u001b[1mwandb\u001b[0m: \tlr_gamma: 0.3\n",
      "\u001b[34m\u001b[1mwandb\u001b[0m: \toptimizer: SGD\n",
      "\u001b[34m\u001b[1mwandb\u001b[0m: \ttemperature: 0.5\n",
      "\u001b[34m\u001b[1mwandb\u001b[0m: \tweight_decay: 1e-05\n",
      "\u001b[34m\u001b[1mwandb\u001b[0m: Currently logged in as: \u001b[33mns24z093\u001b[0m. Use \u001b[1m`wandb login --relogin`\u001b[0m to force relogin\n"
     ]
    },
    {
     "data": {
      "text/html": [
       "wandb version 0.18.7 is available!  To upgrade, please run:\n",
       " $ pip install wandb --upgrade"
      ],
      "text/plain": [
       "<IPython.core.display.HTML object>"
      ]
     },
     "metadata": {},
     "output_type": "display_data"
    },
    {
     "data": {
      "text/html": [
       "Tracking run with wandb version 0.16.5"
      ],
      "text/plain": [
       "<IPython.core.display.HTML object>"
      ]
     },
     "metadata": {},
     "output_type": "display_data"
    },
    {
     "data": {
      "text/html": [
       "Run data is saved locally in <code>/Users/revanth/Documents/Assignments/CV/TPA/wandb/run-20241120_231954-2crdyhfh</code>"
      ],
      "text/plain": [
       "<IPython.core.display.HTML object>"
      ]
     },
     "metadata": {},
     "output_type": "display_data"
    },
    {
     "data": {
      "text/html": [
       "Syncing run <strong><a href='https://wandb.ai/ns24z093/distillation/runs/2crdyhfh/workspace' target=\"_blank\">jumping-sweep-1</a></strong> to <a href='https://wandb.ai/ns24z093/distillation' target=\"_blank\">Weights & Biases</a> (<a href='https://wandb.me/run' target=\"_blank\">docs</a>)<br/>Sweep page: <a href='https://wandb.ai/ns24z093/distillation/sweeps/sk61moht' target=\"_blank\">https://wandb.ai/ns24z093/distillation/sweeps/sk61moht</a>"
      ],
      "text/plain": [
       "<IPython.core.display.HTML object>"
      ]
     },
     "metadata": {},
     "output_type": "display_data"
    },
    {
     "data": {
      "text/html": [
       " View project at <a href='https://wandb.ai/ns24z093/distillation' target=\"_blank\">https://wandb.ai/ns24z093/distillation</a>"
      ],
      "text/plain": [
       "<IPython.core.display.HTML object>"
      ]
     },
     "metadata": {},
     "output_type": "display_data"
    },
    {
     "data": {
      "text/html": [
       " View sweep at <a href='https://wandb.ai/ns24z093/distillation/sweeps/sk61moht' target=\"_blank\">https://wandb.ai/ns24z093/distillation/sweeps/sk61moht</a>"
      ],
      "text/plain": [
       "<IPython.core.display.HTML object>"
      ]
     },
     "metadata": {},
     "output_type": "display_data"
    },
    {
     "data": {
      "text/html": [
       " View run at <a href='https://wandb.ai/ns24z093/distillation/runs/2crdyhfh/workspace' target=\"_blank\">https://wandb.ai/ns24z093/distillation/runs/2crdyhfh/workspace</a>"
      ],
      "text/plain": [
       "<IPython.core.display.HTML object>"
      ]
     },
     "metadata": {},
     "output_type": "display_data"
    },
    {
     "name": "stdout",
     "output_type": "stream",
     "text": [
      "Run name:  SGD / lr_0.1 / alpha_0.9 / dropout_0.2 / growth_18 / bottleneck_False / lr_gamma_0.3 / temp_0.5 / weight_decay_1e-05\n",
      "loss: 4.343318 [0/40000]\n",
      "loss: 3.859285 [6400/40000]\n",
      "loss: 3.709062 [12800/40000]\n",
      "loss: 3.670708 [19200/40000]\n",
      "loss: 3.487759 [25600/40000]\n",
      "loss: 3.308788 [32000/40000]\n",
      "loss: 3.315468 [38400/40000]\n",
      "Test Error: \n",
      " Accuracy: 16.1%, Avg loss: 3.534078\n",
      "\n",
      "loss: 3.041099 [0/40000]\n",
      "loss: 3.071847 [6400/40000]\n",
      "loss: 3.053597 [12800/40000]\n",
      "loss: 2.859319 [19200/40000]\n"
     ]
    },
    {
     "name": "stderr",
     "output_type": "stream",
     "text": [
      "wandb: ERROR Error while calling W&B API: context deadline exceeded (<Response [500]>)\n",
      "wandb: ERROR Error while calling W&B API: context deadline exceeded (<Response [500]>)\n",
      "wandb: ERROR Error while calling W&B API: context deadline exceeded (<Response [500]>)\n"
     ]
    },
    {
     "name": "stdout",
     "output_type": "stream",
     "text": [
      "loss: 2.759206 [25600/40000]\n"
     ]
    },
    {
     "name": "stderr",
     "output_type": "stream",
     "text": [
      "\u001b[34m\u001b[1mwandb\u001b[0m: \u001b[32m\u001b[41mERROR\u001b[0m Error while calling W&B API: context deadline exceeded (<Response [500]>)\n"
     ]
    },
    {
     "name": "stdout",
     "output_type": "stream",
     "text": [
      "loss: 3.033726 [32000/40000]\n",
      "loss: 2.613445 [38400/40000]\n",
      "Test Error: \n",
      " Accuracy: 26.3%, Avg loss: 2.936484\n",
      "\n",
      "loss: 2.581277 [0/40000]\n",
      "loss: 2.543010 [6400/40000]\n",
      "loss: 2.460025 [12800/40000]\n",
      "loss: 2.156973 [19200/40000]\n",
      "loss: 2.468884 [25600/40000]\n",
      "loss: 2.394630 [32000/40000]\n",
      "loss: 2.399888 [38400/40000]\n",
      "Test Error: \n",
      " Accuracy: 37.3%, Avg loss: 2.388005\n",
      "\n",
      "loss: 1.878180 [0/40000]\n",
      "loss: 1.934017 [6400/40000]\n",
      "loss: 1.873981 [12800/40000]\n",
      "loss: 2.027224 [19200/40000]\n",
      "loss: 1.825794 [25600/40000]\n",
      "loss: 1.886956 [32000/40000]\n",
      "loss: 1.921530 [38400/40000]\n",
      "Test Error: \n",
      " Accuracy: 43.4%, Avg loss: 2.113359\n",
      "\n",
      "loss: 1.407056 [0/40000]\n",
      "loss: 1.782660 [6400/40000]\n",
      "loss: 1.575007 [12800/40000]\n",
      "loss: 1.604043 [19200/40000]\n",
      "loss: 1.985956 [25600/40000]\n",
      "loss: 2.049354 [32000/40000]\n",
      "loss: 1.890427 [38400/40000]\n",
      "Test Error: \n",
      " Accuracy: 49.1%, Avg loss: 1.843174\n",
      "\n"
     ]
    },
    {
     "data": {
      "application/vnd.jupyter.widget-view+json": {
       "model_id": "",
       "version_major": 2,
       "version_minor": 0
      },
      "text/plain": [
       "VBox(children=(Label(value='0.001 MB of 0.001 MB uploaded\\r'), FloatProgress(value=1.0, max=1.0)))"
      ]
     },
     "metadata": {},
     "output_type": "display_data"
    },
    {
     "data": {
      "text/html": [
       "<style>\n",
       "    table.wandb td:nth-child(1) { padding: 0 10px; text-align: left ; width: auto;} td:nth-child(2) {text-align: left ; width: 100%}\n",
       "    .wandb-row { display: flex; flex-direction: row; flex-wrap: wrap; justify-content: flex-start; width: 100% }\n",
       "    .wandb-col { display: flex; flex-direction: column; flex-basis: 100%; flex: 1; padding: 10px; }\n",
       "    </style>\n",
       "<div class=\"wandb-row\"><div class=\"wandb-col\"><h3>Run history:</h3><br/><table class=\"wandb\"><tr><td>epoch</td><td>▁▃▅▆█</td></tr><tr><td>val_accuracy</td><td>▁▃▅▇█</td></tr><tr><td>val_loss</td><td>█▆▃▂▁</td></tr></table><br/></div><div class=\"wandb-col\"><h3>Run summary:</h3><br/><table class=\"wandb\"><tr><td>epoch</td><td>5</td></tr><tr><td>val_accuracy</td><td>49.1275</td></tr><tr><td>val_loss</td><td>1.84317</td></tr></table><br/></div></div>"
      ],
      "text/plain": [
       "<IPython.core.display.HTML object>"
      ]
     },
     "metadata": {},
     "output_type": "display_data"
    },
    {
     "data": {
      "text/html": [
       " View run <strong style=\"color:#cdcd00\">jumping-sweep-1</strong> at: <a href='https://wandb.ai/ns24z093/distillation/runs/2crdyhfh/workspace' target=\"_blank\">https://wandb.ai/ns24z093/distillation/runs/2crdyhfh/workspace</a><br/>Synced 6 W&B file(s), 0 media file(s), 0 artifact file(s) and 0 other file(s)"
      ],
      "text/plain": [
       "<IPython.core.display.HTML object>"
      ]
     },
     "metadata": {},
     "output_type": "display_data"
    },
    {
     "data": {
      "text/html": [
       "Find logs at: <code>./wandb/run-20241120_231954-2crdyhfh/logs</code>"
      ],
      "text/plain": [
       "<IPython.core.display.HTML object>"
      ]
     },
     "metadata": {},
     "output_type": "display_data"
    },
    {
     "name": "stderr",
     "output_type": "stream",
     "text": [
      "\u001b[34m\u001b[1mwandb\u001b[0m: Sweep Agent: Waiting for job.\n",
      "\u001b[34m\u001b[1mwandb\u001b[0m: Job received.\n",
      "\u001b[34m\u001b[1mwandb\u001b[0m: Agent Starting Run: tb3khmyg with config:\n",
      "\u001b[34m\u001b[1mwandb\u001b[0m: \talpha: 0.5\n",
      "\u001b[34m\u001b[1mwandb\u001b[0m: \tbottleneck: True\n",
      "\u001b[34m\u001b[1mwandb\u001b[0m: \tdropout: 0.3\n",
      "\u001b[34m\u001b[1mwandb\u001b[0m: \tgrowth_rate: 12\n",
      "\u001b[34m\u001b[1mwandb\u001b[0m: \tlearning_rate: 0.05\n",
      "\u001b[34m\u001b[1mwandb\u001b[0m: \tlr_gamma: 0.3\n",
      "\u001b[34m\u001b[1mwandb\u001b[0m: \toptimizer: SGD\n",
      "\u001b[34m\u001b[1mwandb\u001b[0m: \ttemperature: 0.5\n",
      "\u001b[34m\u001b[1mwandb\u001b[0m: \tweight_decay: 4e-05\n"
     ]
    },
    {
     "data": {
      "application/vnd.jupyter.widget-view+json": {
       "model_id": "63352aecc3484251a96ff62d6c2c0d8f",
       "version_major": 2,
       "version_minor": 0
      },
      "text/plain": [
       "VBox(children=(Label(value='Waiting for wandb.init()...\\r'), FloatProgress(value=0.011223609255587992, max=1.0…"
      ]
     },
     "metadata": {},
     "output_type": "display_data"
    },
    {
     "data": {
      "text/html": [
       "wandb version 0.18.7 is available!  To upgrade, please run:\n",
       " $ pip install wandb --upgrade"
      ],
      "text/plain": [
       "<IPython.core.display.HTML object>"
      ]
     },
     "metadata": {},
     "output_type": "display_data"
    },
    {
     "data": {
      "text/html": [
       "Tracking run with wandb version 0.16.5"
      ],
      "text/plain": [
       "<IPython.core.display.HTML object>"
      ]
     },
     "metadata": {},
     "output_type": "display_data"
    },
    {
     "data": {
      "text/html": [
       "Run data is saved locally in <code>/Users/revanth/Documents/Assignments/CV/TPA/wandb/run-20241120_234701-tb3khmyg</code>"
      ],
      "text/plain": [
       "<IPython.core.display.HTML object>"
      ]
     },
     "metadata": {},
     "output_type": "display_data"
    },
    {
     "data": {
      "text/html": [
       "Syncing run <strong><a href='https://wandb.ai/ns24z093/distillation/runs/tb3khmyg/workspace' target=\"_blank\">rich-sweep-2</a></strong> to <a href='https://wandb.ai/ns24z093/distillation' target=\"_blank\">Weights & Biases</a> (<a href='https://wandb.me/run' target=\"_blank\">docs</a>)<br/>Sweep page: <a href='https://wandb.ai/ns24z093/distillation/sweeps/sk61moht' target=\"_blank\">https://wandb.ai/ns24z093/distillation/sweeps/sk61moht</a>"
      ],
      "text/plain": [
       "<IPython.core.display.HTML object>"
      ]
     },
     "metadata": {},
     "output_type": "display_data"
    },
    {
     "data": {
      "text/html": [
       " View project at <a href='https://wandb.ai/ns24z093/distillation' target=\"_blank\">https://wandb.ai/ns24z093/distillation</a>"
      ],
      "text/plain": [
       "<IPython.core.display.HTML object>"
      ]
     },
     "metadata": {},
     "output_type": "display_data"
    },
    {
     "data": {
      "text/html": [
       " View sweep at <a href='https://wandb.ai/ns24z093/distillation/sweeps/sk61moht' target=\"_blank\">https://wandb.ai/ns24z093/distillation/sweeps/sk61moht</a>"
      ],
      "text/plain": [
       "<IPython.core.display.HTML object>"
      ]
     },
     "metadata": {},
     "output_type": "display_data"
    },
    {
     "data": {
      "text/html": [
       " View run at <a href='https://wandb.ai/ns24z093/distillation/runs/tb3khmyg/workspace' target=\"_blank\">https://wandb.ai/ns24z093/distillation/runs/tb3khmyg/workspace</a>"
      ],
      "text/plain": [
       "<IPython.core.display.HTML object>"
      ]
     },
     "metadata": {},
     "output_type": "display_data"
    },
    {
     "name": "stdout",
     "output_type": "stream",
     "text": [
      "Run name:  SGD / lr_0.05 / alpha_0.5 / dropout_0.3 / growth_12 / bottleneck_True / lr_gamma_0.3 / temp_0.5 / weight_decay_4e-05\n",
      "loss: 2.959397 [0/40000]\n",
      "loss: 2.658882 [6400/40000]\n",
      "loss: 2.317399 [12800/40000]\n",
      "loss: 2.654253 [19200/40000]\n",
      "loss: 2.267381 [25600/40000]\n",
      "loss: 2.257029 [32000/40000]\n",
      "loss: 2.192196 [38400/40000]\n",
      "Test Error: \n",
      " Accuracy: 16.5%, Avg loss: 3.489289\n",
      "\n",
      "loss: 2.038930 [0/40000]\n",
      "loss: 2.115407 [6400/40000]\n",
      "loss: 2.182278 [12800/40000]\n",
      "loss: 2.018296 [19200/40000]\n",
      "loss: 1.998276 [25600/40000]\n",
      "loss: 2.020421 [32000/40000]\n",
      "loss: 1.725979 [38400/40000]\n",
      "Test Error: \n",
      " Accuracy: 25.8%, Avg loss: 2.946883\n",
      "\n",
      "loss: 1.783864 [0/40000]\n",
      "loss: 1.635890 [6400/40000]\n",
      "loss: 2.073668 [12800/40000]\n",
      "loss: 1.805214 [19200/40000]\n",
      "loss: 1.653458 [25600/40000]\n",
      "loss: 1.591893 [32000/40000]\n",
      "loss: 1.769951 [38400/40000]\n",
      "Test Error: \n",
      " Accuracy: 33.9%, Avg loss: 2.562788\n",
      "\n",
      "loss: 1.638171 [0/40000]\n",
      "loss: 1.499069 [6400/40000]\n",
      "loss: 1.223448 [12800/40000]\n",
      "loss: 1.389364 [19200/40000]\n",
      "loss: 1.474752 [25600/40000]\n",
      "loss: 1.326988 [32000/40000]\n",
      "loss: 1.292140 [38400/40000]\n",
      "Test Error: \n",
      " Accuracy: 39.5%, Avg loss: 2.275956\n",
      "\n",
      "loss: 1.356885 [0/40000]\n",
      "loss: 1.459026 [6400/40000]\n",
      "loss: 1.385448 [12800/40000]\n",
      "loss: 1.568422 [19200/40000]\n",
      "loss: 1.302573 [25600/40000]\n",
      "loss: 1.474034 [32000/40000]\n",
      "loss: 1.358580 [38400/40000]\n",
      "Test Error: \n",
      " Accuracy: 44.0%, Avg loss: 2.080063\n",
      "\n"
     ]
    },
    {
     "data": {
      "application/vnd.jupyter.widget-view+json": {
       "model_id": "",
       "version_major": 2,
       "version_minor": 0
      },
      "text/plain": [
       "VBox(children=(Label(value='0.001 MB of 0.013 MB uploaded\\r'), FloatProgress(value=0.07366246348934957, max=1.…"
      ]
     },
     "metadata": {},
     "output_type": "display_data"
    },
    {
     "data": {
      "text/html": [
       "<style>\n",
       "    table.wandb td:nth-child(1) { padding: 0 10px; text-align: left ; width: auto;} td:nth-child(2) {text-align: left ; width: 100%}\n",
       "    .wandb-row { display: flex; flex-direction: row; flex-wrap: wrap; justify-content: flex-start; width: 100% }\n",
       "    .wandb-col { display: flex; flex-direction: column; flex-basis: 100%; flex: 1; padding: 10px; }\n",
       "    </style>\n",
       "<div class=\"wandb-row\"><div class=\"wandb-col\"><h3>Run history:</h3><br/><table class=\"wandb\"><tr><td>epoch</td><td>▁▃▅▆█</td></tr><tr><td>val_accuracy</td><td>▁▃▅▇█</td></tr><tr><td>val_loss</td><td>█▅▃▂▁</td></tr></table><br/></div><div class=\"wandb-col\"><h3>Run summary:</h3><br/><table class=\"wandb\"><tr><td>epoch</td><td>5</td></tr><tr><td>val_accuracy</td><td>44.0475</td></tr><tr><td>val_loss</td><td>2.08006</td></tr></table><br/></div></div>"
      ],
      "text/plain": [
       "<IPython.core.display.HTML object>"
      ]
     },
     "metadata": {},
     "output_type": "display_data"
    },
    {
     "data": {
      "text/html": [
       " View run <strong style=\"color:#cdcd00\">rich-sweep-2</strong> at: <a href='https://wandb.ai/ns24z093/distillation/runs/tb3khmyg/workspace' target=\"_blank\">https://wandb.ai/ns24z093/distillation/runs/tb3khmyg/workspace</a><br/>Synced 6 W&B file(s), 0 media file(s), 0 artifact file(s) and 0 other file(s)"
      ],
      "text/plain": [
       "<IPython.core.display.HTML object>"
      ]
     },
     "metadata": {},
     "output_type": "display_data"
    },
    {
     "data": {
      "text/html": [
       "Find logs at: <code>./wandb/run-20241120_234701-tb3khmyg/logs</code>"
      ],
      "text/plain": [
       "<IPython.core.display.HTML object>"
      ]
     },
     "metadata": {},
     "output_type": "display_data"
    },
    {
     "name": "stderr",
     "output_type": "stream",
     "text": [
      "\u001b[34m\u001b[1mwandb\u001b[0m: Agent Starting Run: 0mn1dne4 with config:\n",
      "\u001b[34m\u001b[1mwandb\u001b[0m: \talpha: 0.7\n",
      "\u001b[34m\u001b[1mwandb\u001b[0m: \tbottleneck: False\n",
      "\u001b[34m\u001b[1mwandb\u001b[0m: \tdropout: 0\n",
      "\u001b[34m\u001b[1mwandb\u001b[0m: \tgrowth_rate: 12\n",
      "\u001b[34m\u001b[1mwandb\u001b[0m: \tlearning_rate: 0.1\n",
      "\u001b[34m\u001b[1mwandb\u001b[0m: \tlr_gamma: 0.1\n",
      "\u001b[34m\u001b[1mwandb\u001b[0m: \toptimizer: Adam\n",
      "\u001b[34m\u001b[1mwandb\u001b[0m: \ttemperature: 0.3\n",
      "\u001b[34m\u001b[1mwandb\u001b[0m: \tweight_decay: 1e-05\n"
     ]
    },
    {
     "data": {
      "application/vnd.jupyter.widget-view+json": {
       "model_id": "844bc2f9518a4b679756a8c5b9539d05",
       "version_major": 2,
       "version_minor": 0
      },
      "text/plain": [
       "VBox(children=(Label(value='Waiting for wandb.init()...\\r'), FloatProgress(value=0.011223418055548488, max=1.0…"
      ]
     },
     "metadata": {},
     "output_type": "display_data"
    },
    {
     "data": {
      "text/html": [
       "wandb version 0.18.7 is available!  To upgrade, please run:\n",
       " $ pip install wandb --upgrade"
      ],
      "text/plain": [
       "<IPython.core.display.HTML object>"
      ]
     },
     "metadata": {},
     "output_type": "display_data"
    },
    {
     "data": {
      "text/html": [
       "Tracking run with wandb version 0.16.5"
      ],
      "text/plain": [
       "<IPython.core.display.HTML object>"
      ]
     },
     "metadata": {},
     "output_type": "display_data"
    },
    {
     "data": {
      "text/html": [
       "Run data is saved locally in <code>/Users/revanth/Documents/Assignments/CV/TPA/wandb/run-20241121_001348-0mn1dne4</code>"
      ],
      "text/plain": [
       "<IPython.core.display.HTML object>"
      ]
     },
     "metadata": {},
     "output_type": "display_data"
    },
    {
     "data": {
      "text/html": [
       "Syncing run <strong><a href='https://wandb.ai/ns24z093/distillation/runs/0mn1dne4/workspace' target=\"_blank\">lucky-sweep-3</a></strong> to <a href='https://wandb.ai/ns24z093/distillation' target=\"_blank\">Weights & Biases</a> (<a href='https://wandb.me/run' target=\"_blank\">docs</a>)<br/>Sweep page: <a href='https://wandb.ai/ns24z093/distillation/sweeps/sk61moht' target=\"_blank\">https://wandb.ai/ns24z093/distillation/sweeps/sk61moht</a>"
      ],
      "text/plain": [
       "<IPython.core.display.HTML object>"
      ]
     },
     "metadata": {},
     "output_type": "display_data"
    },
    {
     "data": {
      "text/html": [
       " View project at <a href='https://wandb.ai/ns24z093/distillation' target=\"_blank\">https://wandb.ai/ns24z093/distillation</a>"
      ],
      "text/plain": [
       "<IPython.core.display.HTML object>"
      ]
     },
     "metadata": {},
     "output_type": "display_data"
    },
    {
     "data": {
      "text/html": [
       " View sweep at <a href='https://wandb.ai/ns24z093/distillation/sweeps/sk61moht' target=\"_blank\">https://wandb.ai/ns24z093/distillation/sweeps/sk61moht</a>"
      ],
      "text/plain": [
       "<IPython.core.display.HTML object>"
      ]
     },
     "metadata": {},
     "output_type": "display_data"
    },
    {
     "data": {
      "text/html": [
       " View run at <a href='https://wandb.ai/ns24z093/distillation/runs/0mn1dne4/workspace' target=\"_blank\">https://wandb.ai/ns24z093/distillation/runs/0mn1dne4/workspace</a>"
      ],
      "text/plain": [
       "<IPython.core.display.HTML object>"
      ]
     },
     "metadata": {},
     "output_type": "display_data"
    },
    {
     "name": "stdout",
     "output_type": "stream",
     "text": [
      "Run name:  Adam / lr_0.1 / alpha_0.7 / dropout_0 / growth_12 / bottleneck_False / lr_gamma_0.1 / temp_0.3 / weight_decay_1e-05\n",
      "loss: 3.393914 [0/40000]\n",
      "loss: 3.261738 [6400/40000]\n",
      "loss: 3.333615 [12800/40000]\n",
      "loss: 3.190885 [19200/40000]\n",
      "loss: 3.183601 [25600/40000]\n",
      "loss: 3.117500 [32000/40000]\n",
      "loss: 3.127318 [38400/40000]\n",
      "Test Error: \n",
      " Accuracy: 3.2%, Avg loss: 4.339481\n",
      "\n",
      "loss: 3.182307 [0/40000]\n",
      "loss: 3.063886 [6400/40000]\n",
      "loss: 3.009709 [12800/40000]\n",
      "loss: 3.007939 [19200/40000]\n",
      "loss: 3.015509 [25600/40000]\n",
      "loss: 3.074695 [32000/40000]\n",
      "loss: 2.933464 [38400/40000]\n",
      "Test Error: \n",
      " Accuracy: 3.4%, Avg loss: 4.306521\n",
      "\n",
      "loss: 3.203881 [0/40000]\n",
      "loss: 3.170161 [6400/40000]\n",
      "loss: 3.002965 [12800/40000]\n",
      "loss: 3.109426 [19200/40000]\n",
      "loss: 2.876787 [25600/40000]\n",
      "loss: 2.890200 [32000/40000]\n",
      "loss: 2.910312 [38400/40000]\n",
      "Test Error: \n",
      " Accuracy: 5.1%, Avg loss: 4.642931\n",
      "\n",
      "loss: 2.869914 [0/40000]\n",
      "loss: 2.906414 [6400/40000]\n",
      "loss: 2.975931 [12800/40000]\n",
      "loss: 3.009435 [19200/40000]\n",
      "loss: 2.790966 [25600/40000]\n",
      "loss: 2.847063 [32000/40000]\n",
      "loss: 2.981208 [38400/40000]\n",
      "Test Error: \n",
      " Accuracy: 2.8%, Avg loss: 11.077928\n",
      "\n",
      "loss: 2.907423 [0/40000]\n",
      "loss: 2.857246 [6400/40000]\n",
      "loss: 2.735751 [12800/40000]\n",
      "loss: 2.829657 [19200/40000]\n",
      "loss: 2.901523 [25600/40000]\n",
      "loss: 2.701551 [32000/40000]\n",
      "loss: 2.730430 [38400/40000]\n",
      "Test Error: \n",
      " Accuracy: 7.7%, Avg loss: 4.010553\n",
      "\n"
     ]
    },
    {
     "data": {
      "application/vnd.jupyter.widget-view+json": {
       "model_id": "",
       "version_major": 2,
       "version_minor": 0
      },
      "text/plain": [
       "VBox(children=(Label(value='0.001 MB of 0.001 MB uploaded\\r'), FloatProgress(value=1.0, max=1.0)))"
      ]
     },
     "metadata": {},
     "output_type": "display_data"
    },
    {
     "data": {
      "text/html": [
       "<style>\n",
       "    table.wandb td:nth-child(1) { padding: 0 10px; text-align: left ; width: auto;} td:nth-child(2) {text-align: left ; width: 100%}\n",
       "    .wandb-row { display: flex; flex-direction: row; flex-wrap: wrap; justify-content: flex-start; width: 100% }\n",
       "    .wandb-col { display: flex; flex-direction: column; flex-basis: 100%; flex: 1; padding: 10px; }\n",
       "    </style>\n",
       "<div class=\"wandb-row\"><div class=\"wandb-col\"><h3>Run history:</h3><br/><table class=\"wandb\"><tr><td>epoch</td><td>▁▃▅▆█</td></tr><tr><td>val_accuracy</td><td>▂▂▄▁█</td></tr><tr><td>val_loss</td><td>▁▁▂█▁</td></tr></table><br/></div><div class=\"wandb-col\"><h3>Run summary:</h3><br/><table class=\"wandb\"><tr><td>epoch</td><td>5</td></tr><tr><td>val_accuracy</td><td>7.735</td></tr><tr><td>val_loss</td><td>4.01055</td></tr></table><br/></div></div>"
      ],
      "text/plain": [
       "<IPython.core.display.HTML object>"
      ]
     },
     "metadata": {},
     "output_type": "display_data"
    },
    {
     "data": {
      "text/html": [
       " View run <strong style=\"color:#cdcd00\">lucky-sweep-3</strong> at: <a href='https://wandb.ai/ns24z093/distillation/runs/0mn1dne4/workspace' target=\"_blank\">https://wandb.ai/ns24z093/distillation/runs/0mn1dne4/workspace</a><br/>Synced 6 W&B file(s), 0 media file(s), 0 artifact file(s) and 0 other file(s)"
      ],
      "text/plain": [
       "<IPython.core.display.HTML object>"
      ]
     },
     "metadata": {},
     "output_type": "display_data"
    },
    {
     "data": {
      "text/html": [
       "Find logs at: <code>./wandb/run-20241121_001348-0mn1dne4/logs</code>"
      ],
      "text/plain": [
       "<IPython.core.display.HTML object>"
      ]
     },
     "metadata": {},
     "output_type": "display_data"
    },
    {
     "name": "stderr",
     "output_type": "stream",
     "text": [
      "\u001b[34m\u001b[1mwandb\u001b[0m: Sweep Agent: Waiting for job.\n",
      "\u001b[34m\u001b[1mwandb\u001b[0m: Job received.\n",
      "\u001b[34m\u001b[1mwandb\u001b[0m: Agent Starting Run: s83363rh with config:\n",
      "\u001b[34m\u001b[1mwandb\u001b[0m: \talpha: 0.9\n",
      "\u001b[34m\u001b[1mwandb\u001b[0m: \tbottleneck: True\n",
      "\u001b[34m\u001b[1mwandb\u001b[0m: \tdropout: 0.2\n",
      "\u001b[34m\u001b[1mwandb\u001b[0m: \tgrowth_rate: 12\n",
      "\u001b[34m\u001b[1mwandb\u001b[0m: \tlearning_rate: 0.05\n",
      "\u001b[34m\u001b[1mwandb\u001b[0m: \tlr_gamma: 0.3\n",
      "\u001b[34m\u001b[1mwandb\u001b[0m: \toptimizer: RMSprop\n",
      "\u001b[34m\u001b[1mwandb\u001b[0m: \ttemperature: 0.5\n",
      "\u001b[34m\u001b[1mwandb\u001b[0m: \tweight_decay: 4e-05\n",
      "\u001b[34m\u001b[1mwandb\u001b[0m: W&B API key is configured. Use \u001b[1m`wandb login --relogin`\u001b[0m to force relogin\n"
     ]
    },
    {
     "data": {
      "application/vnd.jupyter.widget-view+json": {
       "model_id": "1d8e04eeec204cedbea6253ba267c52b",
       "version_major": 2,
       "version_minor": 0
      },
      "text/plain": [
       "VBox(children=(Label(value='Waiting for wandb.init()...\\r'), FloatProgress(value=0.011218862500067593, max=1.0…"
      ]
     },
     "metadata": {},
     "output_type": "display_data"
    },
    {
     "data": {
      "text/html": [
       "wandb version 0.18.7 is available!  To upgrade, please run:\n",
       " $ pip install wandb --upgrade"
      ],
      "text/plain": [
       "<IPython.core.display.HTML object>"
      ]
     },
     "metadata": {},
     "output_type": "display_data"
    },
    {
     "data": {
      "text/html": [
       "Tracking run with wandb version 0.16.5"
      ],
      "text/plain": [
       "<IPython.core.display.HTML object>"
      ]
     },
     "metadata": {},
     "output_type": "display_data"
    },
    {
     "data": {
      "text/html": [
       "Run data is saved locally in <code>/Users/revanth/Documents/Assignments/CV/TPA/wandb/run-20241121_004354-s83363rh</code>"
      ],
      "text/plain": [
       "<IPython.core.display.HTML object>"
      ]
     },
     "metadata": {},
     "output_type": "display_data"
    },
    {
     "data": {
      "text/html": [
       "Syncing run <strong><a href='https://wandb.ai/ns24z093/distillation/runs/s83363rh/workspace' target=\"_blank\">wild-sweep-4</a></strong> to <a href='https://wandb.ai/ns24z093/distillation' target=\"_blank\">Weights & Biases</a> (<a href='https://wandb.me/run' target=\"_blank\">docs</a>)<br/>Sweep page: <a href='https://wandb.ai/ns24z093/distillation/sweeps/sk61moht' target=\"_blank\">https://wandb.ai/ns24z093/distillation/sweeps/sk61moht</a>"
      ],
      "text/plain": [
       "<IPython.core.display.HTML object>"
      ]
     },
     "metadata": {},
     "output_type": "display_data"
    },
    {
     "data": {
      "text/html": [
       " View project at <a href='https://wandb.ai/ns24z093/distillation' target=\"_blank\">https://wandb.ai/ns24z093/distillation</a>"
      ],
      "text/plain": [
       "<IPython.core.display.HTML object>"
      ]
     },
     "metadata": {},
     "output_type": "display_data"
    },
    {
     "data": {
      "text/html": [
       " View sweep at <a href='https://wandb.ai/ns24z093/distillation/sweeps/sk61moht' target=\"_blank\">https://wandb.ai/ns24z093/distillation/sweeps/sk61moht</a>"
      ],
      "text/plain": [
       "<IPython.core.display.HTML object>"
      ]
     },
     "metadata": {},
     "output_type": "display_data"
    },
    {
     "data": {
      "text/html": [
       " View run at <a href='https://wandb.ai/ns24z093/distillation/runs/s83363rh/workspace' target=\"_blank\">https://wandb.ai/ns24z093/distillation/runs/s83363rh/workspace</a>"
      ],
      "text/plain": [
       "<IPython.core.display.HTML object>"
      ]
     },
     "metadata": {},
     "output_type": "display_data"
    },
    {
     "name": "stdout",
     "output_type": "stream",
     "text": [
      "Run name:  RMSprop / lr_0.05 / alpha_0.9 / dropout_0.2 / growth_12 / bottleneck_True / lr_gamma_0.3 / temp_0.5 / weight_decay_4e-05\n",
      "loss: 4.265295 [0/40000]\n"
     ]
    },
    {
     "name": "stderr",
     "output_type": "stream",
     "text": [
      "wandb: ERROR Error while calling W&B API: context deadline exceeded (<Response [500]>)\n"
     ]
    },
    {
     "name": "stdout",
     "output_type": "stream",
     "text": [
      "loss: 4.797584 [6400/40000]\n",
      "loss: 4.322650 [12800/40000]\n",
      "loss: 4.330664 [19200/40000]\n",
      "loss: 4.698223 [25600/40000]\n",
      "loss: 4.291952 [32000/40000]\n",
      "loss: 4.447123 [38400/40000]\n",
      "Test Error: \n",
      " Accuracy: 1.2%, Avg loss: 9.054632\n",
      "\n",
      "loss: 4.386692 [0/40000]\n",
      "loss: 4.494320 [6400/40000]\n",
      "loss: 4.220326 [12800/40000]\n",
      "loss: 4.440357 [19200/40000]\n",
      "loss: 4.406767 [25600/40000]\n",
      "loss: 4.352552 [32000/40000]\n",
      "loss: 4.430954 [38400/40000]\n",
      "Test Error: \n",
      " Accuracy: 1.0%, Avg loss: 350.516412\n",
      "\n",
      "loss: 4.613198 [0/40000]\n",
      "loss: 4.877012 [6400/40000]\n",
      "loss: 4.426882 [12800/40000]\n",
      "loss: 4.490308 [19200/40000]\n",
      "loss: 4.314939 [25600/40000]\n",
      "loss: 4.327379 [32000/40000]\n",
      "loss: 4.391150 [38400/40000]\n",
      "Test Error: \n",
      " Accuracy: 1.3%, Avg loss: 367.473149\n",
      "\n",
      "loss: 4.390847 [0/40000]\n",
      "loss: 8.081509 [6400/40000]\n",
      "loss: 4.348940 [12800/40000]\n",
      "loss: 4.468610 [19200/40000]\n",
      "loss: 4.356429 [25600/40000]\n",
      "loss: 4.386706 [32000/40000]\n",
      "loss: 4.406091 [38400/40000]\n",
      "Test Error: \n",
      " Accuracy: 1.0%, Avg loss: 19.416457\n",
      "\n",
      "loss: 4.337761 [0/40000]\n",
      "loss: 4.852362 [6400/40000]\n",
      "loss: 4.280892 [12800/40000]\n",
      "loss: 4.402816 [19200/40000]\n",
      "loss: 4.335358 [25600/40000]\n",
      "loss: 4.949935 [32000/40000]\n",
      "loss: 4.424953 [38400/40000]\n",
      "Test Error: \n",
      " Accuracy: 1.0%, Avg loss: 1471.985498\n",
      "\n"
     ]
    },
    {
     "data": {
      "application/vnd.jupyter.widget-view+json": {
       "model_id": "",
       "version_major": 2,
       "version_minor": 0
      },
      "text/plain": [
       "VBox(children=(Label(value='0.001 MB of 0.001 MB uploaded\\r'), FloatProgress(value=1.0, max=1.0)))"
      ]
     },
     "metadata": {},
     "output_type": "display_data"
    },
    {
     "data": {
      "text/html": [
       "<style>\n",
       "    table.wandb td:nth-child(1) { padding: 0 10px; text-align: left ; width: auto;} td:nth-child(2) {text-align: left ; width: 100%}\n",
       "    .wandb-row { display: flex; flex-direction: row; flex-wrap: wrap; justify-content: flex-start; width: 100% }\n",
       "    .wandb-col { display: flex; flex-direction: column; flex-basis: 100%; flex: 1; padding: 10px; }\n",
       "    </style>\n",
       "<div class=\"wandb-row\"><div class=\"wandb-col\"><h3>Run history:</h3><br/><table class=\"wandb\"><tr><td>epoch</td><td>▁▃▅▆█</td></tr><tr><td>val_accuracy</td><td>▆▁█▂▁</td></tr><tr><td>val_loss</td><td>▁▃▃▁█</td></tr></table><br/></div><div class=\"wandb-col\"><h3>Run summary:</h3><br/><table class=\"wandb\"><tr><td>epoch</td><td>5</td></tr><tr><td>val_accuracy</td><td>1.0</td></tr><tr><td>val_loss</td><td>1471.9855</td></tr></table><br/></div></div>"
      ],
      "text/plain": [
       "<IPython.core.display.HTML object>"
      ]
     },
     "metadata": {},
     "output_type": "display_data"
    },
    {
     "data": {
      "text/html": [
       " View run <strong style=\"color:#cdcd00\">wild-sweep-4</strong> at: <a href='https://wandb.ai/ns24z093/distillation/runs/s83363rh/workspace' target=\"_blank\">https://wandb.ai/ns24z093/distillation/runs/s83363rh/workspace</a><br/>Synced 6 W&B file(s), 0 media file(s), 0 artifact file(s) and 0 other file(s)"
      ],
      "text/plain": [
       "<IPython.core.display.HTML object>"
      ]
     },
     "metadata": {},
     "output_type": "display_data"
    },
    {
     "data": {
      "text/html": [
       "Find logs at: <code>./wandb/run-20241121_004354-s83363rh/logs</code>"
      ],
      "text/plain": [
       "<IPython.core.display.HTML object>"
      ]
     },
     "metadata": {},
     "output_type": "display_data"
    },
    {
     "name": "stderr",
     "output_type": "stream",
     "text": [
      "\u001b[34m\u001b[1mwandb\u001b[0m: Agent Starting Run: eaiyzer4 with config:\n",
      "\u001b[34m\u001b[1mwandb\u001b[0m: \talpha: 0.7\n",
      "\u001b[34m\u001b[1mwandb\u001b[0m: \tbottleneck: False\n",
      "\u001b[34m\u001b[1mwandb\u001b[0m: \tdropout: 0\n",
      "\u001b[34m\u001b[1mwandb\u001b[0m: \tgrowth_rate: 18\n",
      "\u001b[34m\u001b[1mwandb\u001b[0m: \tlearning_rate: 0.05\n",
      "\u001b[34m\u001b[1mwandb\u001b[0m: \tlr_gamma: 0.1\n",
      "\u001b[34m\u001b[1mwandb\u001b[0m: \toptimizer: Adam\n",
      "\u001b[34m\u001b[1mwandb\u001b[0m: \ttemperature: 0.5\n",
      "\u001b[34m\u001b[1mwandb\u001b[0m: \tweight_decay: 4e-05\n"
     ]
    },
    {
     "data": {
      "application/vnd.jupyter.widget-view+json": {
       "model_id": "ef7234848fd1493b8b88b5647f35766e",
       "version_major": 2,
       "version_minor": 0
      },
      "text/plain": [
       "VBox(children=(Label(value='Waiting for wandb.init()...\\r'), FloatProgress(value=0.011223675933272009, max=1.0…"
      ]
     },
     "metadata": {},
     "output_type": "display_data"
    },
    {
     "data": {
      "text/html": [
       "wandb version 0.18.7 is available!  To upgrade, please run:\n",
       " $ pip install wandb --upgrade"
      ],
      "text/plain": [
       "<IPython.core.display.HTML object>"
      ]
     },
     "metadata": {},
     "output_type": "display_data"
    },
    {
     "data": {
      "text/html": [
       "Tracking run with wandb version 0.16.5"
      ],
      "text/plain": [
       "<IPython.core.display.HTML object>"
      ]
     },
     "metadata": {},
     "output_type": "display_data"
    },
    {
     "data": {
      "text/html": [
       "Run data is saved locally in <code>/Users/revanth/Documents/Assignments/CV/TPA/wandb/run-20241121_011322-eaiyzer4</code>"
      ],
      "text/plain": [
       "<IPython.core.display.HTML object>"
      ]
     },
     "metadata": {},
     "output_type": "display_data"
    },
    {
     "data": {
      "text/html": [
       "Syncing run <strong><a href='https://wandb.ai/ns24z093/distillation/runs/eaiyzer4/workspace' target=\"_blank\">fancy-sweep-5</a></strong> to <a href='https://wandb.ai/ns24z093/distillation' target=\"_blank\">Weights & Biases</a> (<a href='https://wandb.me/run' target=\"_blank\">docs</a>)<br/>Sweep page: <a href='https://wandb.ai/ns24z093/distillation/sweeps/sk61moht' target=\"_blank\">https://wandb.ai/ns24z093/distillation/sweeps/sk61moht</a>"
      ],
      "text/plain": [
       "<IPython.core.display.HTML object>"
      ]
     },
     "metadata": {},
     "output_type": "display_data"
    },
    {
     "data": {
      "text/html": [
       " View project at <a href='https://wandb.ai/ns24z093/distillation' target=\"_blank\">https://wandb.ai/ns24z093/distillation</a>"
      ],
      "text/plain": [
       "<IPython.core.display.HTML object>"
      ]
     },
     "metadata": {},
     "output_type": "display_data"
    },
    {
     "data": {
      "text/html": [
       " View sweep at <a href='https://wandb.ai/ns24z093/distillation/sweeps/sk61moht' target=\"_blank\">https://wandb.ai/ns24z093/distillation/sweeps/sk61moht</a>"
      ],
      "text/plain": [
       "<IPython.core.display.HTML object>"
      ]
     },
     "metadata": {},
     "output_type": "display_data"
    },
    {
     "data": {
      "text/html": [
       " View run at <a href='https://wandb.ai/ns24z093/distillation/runs/eaiyzer4/workspace' target=\"_blank\">https://wandb.ai/ns24z093/distillation/runs/eaiyzer4/workspace</a>"
      ],
      "text/plain": [
       "<IPython.core.display.HTML object>"
      ]
     },
     "metadata": {},
     "output_type": "display_data"
    },
    {
     "name": "stdout",
     "output_type": "stream",
     "text": [
      "Run name:  Adam / lr_0.05 / alpha_0.7 / dropout_0 / growth_18 / bottleneck_False / lr_gamma_0.1 / temp_0.5 / weight_decay_4e-05\n",
      "loss: 3.660249 [0/40000]\n",
      "loss: 3.413182 [6400/40000]\n",
      "loss: 3.287546 [12800/40000]\n",
      "loss: 3.380669 [19200/40000]\n",
      "loss: 3.318784 [25600/40000]\n",
      "loss: 3.256132 [32000/40000]\n",
      "loss: 3.192126 [38400/40000]\n",
      "Test Error: \n",
      " Accuracy: 4.5%, Avg loss: 4.239957\n",
      "\n",
      "loss: 3.262769 [0/40000]\n",
      "loss: 3.244479 [6400/40000]\n",
      "loss: 3.122771 [12800/40000]\n",
      "loss: 3.246646 [19200/40000]\n",
      "loss: 3.148272 [25600/40000]\n",
      "loss: 3.063935 [32000/40000]\n",
      "loss: 2.958948 [38400/40000]\n",
      "Test Error: \n",
      " Accuracy: 6.8%, Avg loss: 4.021687\n",
      "\n",
      "loss: 3.076134 [0/40000]\n",
      "loss: 3.377604 [6400/40000]\n",
      "loss: 3.068630 [12800/40000]\n",
      "loss: 3.181702 [19200/40000]\n",
      "loss: 2.988222 [25600/40000]\n",
      "loss: 2.974760 [32000/40000]\n",
      "loss: 3.181623 [38400/40000]\n",
      "Test Error: \n",
      " Accuracy: 9.2%, Avg loss: 3.886974\n",
      "\n",
      "loss: 2.757160 [0/40000]\n",
      "loss: 2.892049 [6400/40000]\n",
      "loss: 3.096702 [12800/40000]\n",
      "loss: 2.873559 [19200/40000]\n",
      "loss: 2.875634 [25600/40000]\n",
      "loss: 3.147362 [32000/40000]\n",
      "loss: 3.087348 [38400/40000]\n",
      "Test Error: \n",
      " Accuracy: 10.5%, Avg loss: 3.831065\n",
      "\n",
      "loss: 2.995967 [0/40000]\n",
      "loss: 2.810016 [6400/40000]\n",
      "loss: 2.756320 [12800/40000]\n",
      "loss: 2.832930 [19200/40000]\n",
      "loss: 3.002791 [25600/40000]\n",
      "loss: 3.248205 [32000/40000]\n",
      "loss: 3.046907 [38400/40000]\n",
      "Test Error: \n",
      " Accuracy: 7.8%, Avg loss: 4.043738\n",
      "\n"
     ]
    },
    {
     "data": {
      "application/vnd.jupyter.widget-view+json": {
       "model_id": "",
       "version_major": 2,
       "version_minor": 0
      },
      "text/plain": [
       "VBox(children=(Label(value='0.001 MB of 0.001 MB uploaded\\r'), FloatProgress(value=1.0, max=1.0)))"
      ]
     },
     "metadata": {},
     "output_type": "display_data"
    },
    {
     "data": {
      "text/html": [
       "<style>\n",
       "    table.wandb td:nth-child(1) { padding: 0 10px; text-align: left ; width: auto;} td:nth-child(2) {text-align: left ; width: 100%}\n",
       "    .wandb-row { display: flex; flex-direction: row; flex-wrap: wrap; justify-content: flex-start; width: 100% }\n",
       "    .wandb-col { display: flex; flex-direction: column; flex-basis: 100%; flex: 1; padding: 10px; }\n",
       "    </style>\n",
       "<div class=\"wandb-row\"><div class=\"wandb-col\"><h3>Run history:</h3><br/><table class=\"wandb\"><tr><td>epoch</td><td>▁▃▅▆█</td></tr><tr><td>val_accuracy</td><td>▁▄▆█▅</td></tr><tr><td>val_loss</td><td>█▄▂▁▅</td></tr></table><br/></div><div class=\"wandb-col\"><h3>Run summary:</h3><br/><table class=\"wandb\"><tr><td>epoch</td><td>5</td></tr><tr><td>val_accuracy</td><td>7.8275</td></tr><tr><td>val_loss</td><td>4.04374</td></tr></table><br/></div></div>"
      ],
      "text/plain": [
       "<IPython.core.display.HTML object>"
      ]
     },
     "metadata": {},
     "output_type": "display_data"
    },
    {
     "data": {
      "text/html": [
       " View run <strong style=\"color:#cdcd00\">fancy-sweep-5</strong> at: <a href='https://wandb.ai/ns24z093/distillation/runs/eaiyzer4/workspace' target=\"_blank\">https://wandb.ai/ns24z093/distillation/runs/eaiyzer4/workspace</a><br/>Synced 6 W&B file(s), 0 media file(s), 0 artifact file(s) and 0 other file(s)"
      ],
      "text/plain": [
       "<IPython.core.display.HTML object>"
      ]
     },
     "metadata": {},
     "output_type": "display_data"
    },
    {
     "data": {
      "text/html": [
       "Find logs at: <code>./wandb/run-20241121_011322-eaiyzer4/logs</code>"
      ],
      "text/plain": [
       "<IPython.core.display.HTML object>"
      ]
     },
     "metadata": {},
     "output_type": "display_data"
    },
    {
     "name": "stderr",
     "output_type": "stream",
     "text": [
      "\u001b[34m\u001b[1mwandb\u001b[0m: Agent Starting Run: bmhh213z with config:\n",
      "\u001b[34m\u001b[1mwandb\u001b[0m: \talpha: 0.9\n",
      "\u001b[34m\u001b[1mwandb\u001b[0m: \tbottleneck: True\n",
      "\u001b[34m\u001b[1mwandb\u001b[0m: \tdropout: 0.3\n",
      "\u001b[34m\u001b[1mwandb\u001b[0m: \tgrowth_rate: 18\n",
      "\u001b[34m\u001b[1mwandb\u001b[0m: \tlearning_rate: 0.1\n",
      "\u001b[34m\u001b[1mwandb\u001b[0m: \tlr_gamma: 0.3\n",
      "\u001b[34m\u001b[1mwandb\u001b[0m: \toptimizer: Adam\n",
      "\u001b[34m\u001b[1mwandb\u001b[0m: \ttemperature: 0.5\n",
      "\u001b[34m\u001b[1mwandb\u001b[0m: \tweight_decay: 1e-05\n"
     ]
    },
    {
     "data": {
      "application/vnd.jupyter.widget-view+json": {
       "model_id": "74252edaaf2449eeb441128ffea0cabf",
       "version_major": 2,
       "version_minor": 0
      },
      "text/plain": [
       "VBox(children=(Label(value='Waiting for wandb.init()...\\r'), FloatProgress(value=0.011223493977740872, max=1.0…"
      ]
     },
     "metadata": {},
     "output_type": "display_data"
    },
    {
     "data": {
      "text/html": [
       "wandb version 0.18.7 is available!  To upgrade, please run:\n",
       " $ pip install wandb --upgrade"
      ],
      "text/plain": [
       "<IPython.core.display.HTML object>"
      ]
     },
     "metadata": {},
     "output_type": "display_data"
    },
    {
     "data": {
      "text/html": [
       "Tracking run with wandb version 0.16.5"
      ],
      "text/plain": [
       "<IPython.core.display.HTML object>"
      ]
     },
     "metadata": {},
     "output_type": "display_data"
    },
    {
     "data": {
      "text/html": [
       "Run data is saved locally in <code>/Users/revanth/Documents/Assignments/CV/TPA/wandb/run-20241121_014310-bmhh213z</code>"
      ],
      "text/plain": [
       "<IPython.core.display.HTML object>"
      ]
     },
     "metadata": {},
     "output_type": "display_data"
    },
    {
     "data": {
      "text/html": [
       "Syncing run <strong><a href='https://wandb.ai/ns24z093/distillation/runs/bmhh213z/workspace' target=\"_blank\">legendary-sweep-6</a></strong> to <a href='https://wandb.ai/ns24z093/distillation' target=\"_blank\">Weights & Biases</a> (<a href='https://wandb.me/run' target=\"_blank\">docs</a>)<br/>Sweep page: <a href='https://wandb.ai/ns24z093/distillation/sweeps/sk61moht' target=\"_blank\">https://wandb.ai/ns24z093/distillation/sweeps/sk61moht</a>"
      ],
      "text/plain": [
       "<IPython.core.display.HTML object>"
      ]
     },
     "metadata": {},
     "output_type": "display_data"
    },
    {
     "data": {
      "text/html": [
       " View project at <a href='https://wandb.ai/ns24z093/distillation' target=\"_blank\">https://wandb.ai/ns24z093/distillation</a>"
      ],
      "text/plain": [
       "<IPython.core.display.HTML object>"
      ]
     },
     "metadata": {},
     "output_type": "display_data"
    },
    {
     "data": {
      "text/html": [
       " View sweep at <a href='https://wandb.ai/ns24z093/distillation/sweeps/sk61moht' target=\"_blank\">https://wandb.ai/ns24z093/distillation/sweeps/sk61moht</a>"
      ],
      "text/plain": [
       "<IPython.core.display.HTML object>"
      ]
     },
     "metadata": {},
     "output_type": "display_data"
    },
    {
     "data": {
      "text/html": [
       " View run at <a href='https://wandb.ai/ns24z093/distillation/runs/bmhh213z/workspace' target=\"_blank\">https://wandb.ai/ns24z093/distillation/runs/bmhh213z/workspace</a>"
      ],
      "text/plain": [
       "<IPython.core.display.HTML object>"
      ]
     },
     "metadata": {},
     "output_type": "display_data"
    },
    {
     "name": "stdout",
     "output_type": "stream",
     "text": [
      "Run name:  Adam / lr_0.1 / alpha_0.9 / dropout_0.3 / growth_18 / bottleneck_True / lr_gamma_0.3 / temp_0.5 / weight_decay_1e-05\n",
      "loss: 4.278213 [0/40000]\n",
      "loss: 4.121851 [6400/40000]\n",
      "loss: 4.194000 [12800/40000]\n",
      "loss: 4.144911 [19200/40000]\n",
      "loss: 3.935740 [25600/40000]\n",
      "loss: 4.109190 [32000/40000]\n",
      "loss: 3.948375 [38400/40000]\n",
      "Test Error: \n",
      " Accuracy: 4.2%, Avg loss: 4.351579\n",
      "\n",
      "loss: 4.081284 [0/40000]\n",
      "loss: 3.721755 [6400/40000]\n",
      "loss: 3.691903 [12800/40000]\n",
      "loss: 3.755623 [19200/40000]\n",
      "loss: 3.782952 [25600/40000]\n",
      "loss: 3.666044 [32000/40000]\n",
      "loss: 3.773466 [38400/40000]\n",
      "Test Error: \n",
      " Accuracy: 3.2%, Avg loss: 5.246836\n",
      "\n",
      "loss: 3.794428 [0/40000]\n",
      "loss: 3.651362 [6400/40000]\n",
      "loss: 3.589965 [12800/40000]\n",
      "loss: 3.797123 [19200/40000]\n",
      "loss: 3.793657 [25600/40000]\n",
      "loss: 3.591815 [32000/40000]\n",
      "loss: 3.713839 [38400/40000]\n",
      "Test Error: \n",
      " Accuracy: 6.3%, Avg loss: 5.368992\n",
      "\n",
      "loss: 3.454129 [0/40000]\n",
      "loss: 3.500636 [6400/40000]\n",
      "loss: 3.349344 [12800/40000]\n",
      "loss: 3.949766 [19200/40000]\n",
      "loss: 3.612420 [25600/40000]\n",
      "loss: 3.505015 [32000/40000]\n",
      "loss: 3.544469 [38400/40000]\n",
      "Test Error: \n",
      " Accuracy: 5.7%, Avg loss: 4.353549\n",
      "\n",
      "loss: 3.300266 [0/40000]\n",
      "loss: 3.760883 [6400/40000]\n",
      "loss: 3.827757 [12800/40000]\n",
      "loss: 3.659260 [19200/40000]\n",
      "loss: 3.475112 [25600/40000]\n",
      "loss: 3.674290 [32000/40000]\n",
      "loss: 3.523152 [38400/40000]\n",
      "Test Error: \n",
      " Accuracy: 8.1%, Avg loss: 4.035843\n",
      "\n"
     ]
    },
    {
     "data": {
      "application/vnd.jupyter.widget-view+json": {
       "model_id": "",
       "version_major": 2,
       "version_minor": 0
      },
      "text/plain": [
       "VBox(children=(Label(value='0.001 MB of 0.001 MB uploaded\\r'), FloatProgress(value=1.0, max=1.0)))"
      ]
     },
     "metadata": {},
     "output_type": "display_data"
    },
    {
     "data": {
      "text/html": [
       "<style>\n",
       "    table.wandb td:nth-child(1) { padding: 0 10px; text-align: left ; width: auto;} td:nth-child(2) {text-align: left ; width: 100%}\n",
       "    .wandb-row { display: flex; flex-direction: row; flex-wrap: wrap; justify-content: flex-start; width: 100% }\n",
       "    .wandb-col { display: flex; flex-direction: column; flex-basis: 100%; flex: 1; padding: 10px; }\n",
       "    </style>\n",
       "<div class=\"wandb-row\"><div class=\"wandb-col\"><h3>Run history:</h3><br/><table class=\"wandb\"><tr><td>epoch</td><td>▁▃▅▆█</td></tr><tr><td>val_accuracy</td><td>▂▁▅▅█</td></tr><tr><td>val_loss</td><td>▃▇█▃▁</td></tr></table><br/></div><div class=\"wandb-col\"><h3>Run summary:</h3><br/><table class=\"wandb\"><tr><td>epoch</td><td>5</td></tr><tr><td>val_accuracy</td><td>8.1425</td></tr><tr><td>val_loss</td><td>4.03584</td></tr></table><br/></div></div>"
      ],
      "text/plain": [
       "<IPython.core.display.HTML object>"
      ]
     },
     "metadata": {},
     "output_type": "display_data"
    },
    {
     "data": {
      "text/html": [
       " View run <strong style=\"color:#cdcd00\">legendary-sweep-6</strong> at: <a href='https://wandb.ai/ns24z093/distillation/runs/bmhh213z/workspace' target=\"_blank\">https://wandb.ai/ns24z093/distillation/runs/bmhh213z/workspace</a><br/>Synced 6 W&B file(s), 0 media file(s), 0 artifact file(s) and 0 other file(s)"
      ],
      "text/plain": [
       "<IPython.core.display.HTML object>"
      ]
     },
     "metadata": {},
     "output_type": "display_data"
    },
    {
     "data": {
      "text/html": [
       "Find logs at: <code>./wandb/run-20241121_014310-bmhh213z/logs</code>"
      ],
      "text/plain": [
       "<IPython.core.display.HTML object>"
      ]
     },
     "metadata": {},
     "output_type": "display_data"
    },
    {
     "name": "stderr",
     "output_type": "stream",
     "text": [
      "\u001b[34m\u001b[1mwandb\u001b[0m: Agent Starting Run: h1clptr5 with config:\n",
      "\u001b[34m\u001b[1mwandb\u001b[0m: \talpha: 0.9\n",
      "\u001b[34m\u001b[1mwandb\u001b[0m: \tbottleneck: True\n",
      "\u001b[34m\u001b[1mwandb\u001b[0m: \tdropout: 0.2\n",
      "\u001b[34m\u001b[1mwandb\u001b[0m: \tgrowth_rate: 18\n",
      "\u001b[34m\u001b[1mwandb\u001b[0m: \tlearning_rate: 0.05\n",
      "\u001b[34m\u001b[1mwandb\u001b[0m: \tlr_gamma: 0.1\n",
      "\u001b[34m\u001b[1mwandb\u001b[0m: \toptimizer: RMSprop\n",
      "\u001b[34m\u001b[1mwandb\u001b[0m: \ttemperature: 0.5\n",
      "\u001b[34m\u001b[1mwandb\u001b[0m: \tweight_decay: 4e-05\n"
     ]
    },
    {
     "data": {
      "text/html": [
       "wandb version 0.18.7 is available!  To upgrade, please run:\n",
       " $ pip install wandb --upgrade"
      ],
      "text/plain": [
       "<IPython.core.display.HTML object>"
      ]
     },
     "metadata": {},
     "output_type": "display_data"
    },
    {
     "data": {
      "text/html": [
       "Tracking run with wandb version 0.16.5"
      ],
      "text/plain": [
       "<IPython.core.display.HTML object>"
      ]
     },
     "metadata": {},
     "output_type": "display_data"
    },
    {
     "data": {
      "text/html": [
       "Run data is saved locally in <code>/Users/revanth/Documents/Assignments/CV/TPA/wandb/run-20241121_021258-h1clptr5</code>"
      ],
      "text/plain": [
       "<IPython.core.display.HTML object>"
      ]
     },
     "metadata": {},
     "output_type": "display_data"
    },
    {
     "data": {
      "text/html": [
       "Syncing run <strong><a href='https://wandb.ai/ns24z093/distillation/runs/h1clptr5/workspace' target=\"_blank\">prime-sweep-7</a></strong> to <a href='https://wandb.ai/ns24z093/distillation' target=\"_blank\">Weights & Biases</a> (<a href='https://wandb.me/run' target=\"_blank\">docs</a>)<br/>Sweep page: <a href='https://wandb.ai/ns24z093/distillation/sweeps/sk61moht' target=\"_blank\">https://wandb.ai/ns24z093/distillation/sweeps/sk61moht</a>"
      ],
      "text/plain": [
       "<IPython.core.display.HTML object>"
      ]
     },
     "metadata": {},
     "output_type": "display_data"
    },
    {
     "data": {
      "text/html": [
       " View project at <a href='https://wandb.ai/ns24z093/distillation' target=\"_blank\">https://wandb.ai/ns24z093/distillation</a>"
      ],
      "text/plain": [
       "<IPython.core.display.HTML object>"
      ]
     },
     "metadata": {},
     "output_type": "display_data"
    },
    {
     "data": {
      "text/html": [
       " View sweep at <a href='https://wandb.ai/ns24z093/distillation/sweeps/sk61moht' target=\"_blank\">https://wandb.ai/ns24z093/distillation/sweeps/sk61moht</a>"
      ],
      "text/plain": [
       "<IPython.core.display.HTML object>"
      ]
     },
     "metadata": {},
     "output_type": "display_data"
    },
    {
     "data": {
      "text/html": [
       " View run at <a href='https://wandb.ai/ns24z093/distillation/runs/h1clptr5/workspace' target=\"_blank\">https://wandb.ai/ns24z093/distillation/runs/h1clptr5/workspace</a>"
      ],
      "text/plain": [
       "<IPython.core.display.HTML object>"
      ]
     },
     "metadata": {},
     "output_type": "display_data"
    },
    {
     "name": "stdout",
     "output_type": "stream",
     "text": [
      "Run name:  RMSprop / lr_0.05 / alpha_0.9 / dropout_0.2 / growth_18 / bottleneck_True / lr_gamma_0.1 / temp_0.5 / weight_decay_4e-05\n",
      "loss: 4.306247 [0/40000]\n",
      "loss: 11.629231 [6400/40000]\n",
      "loss: 7.207847 [12800/40000]\n",
      "loss: 4.904413 [19200/40000]\n",
      "loss: 4.448657 [25600/40000]\n",
      "loss: 4.631292 [32000/40000]\n",
      "loss: 4.376763 [38400/40000]\n",
      "Test Error: \n",
      " Accuracy: 1.6%, Avg loss: 5.971328\n",
      "\n",
      "loss: 4.407309 [0/40000]\n",
      "loss: 4.785070 [6400/40000]\n",
      "loss: 4.752174 [12800/40000]\n",
      "loss: 4.808119 [19200/40000]\n",
      "loss: 4.654322 [25600/40000]\n",
      "loss: 4.268241 [32000/40000]\n",
      "loss: 4.317183 [38400/40000]\n",
      "Test Error: \n",
      " Accuracy: 0.7%, Avg loss: 20.591696\n",
      "\n",
      "loss: 4.606661 [0/40000]\n",
      "loss: 4.338557 [6400/40000]\n",
      "loss: 4.441094 [12800/40000]\n",
      "loss: 4.452987 [19200/40000]\n",
      "loss: 4.422584 [25600/40000]\n",
      "loss: 4.372622 [32000/40000]\n",
      "loss: 4.367122 [38400/40000]\n",
      "Test Error: \n",
      " Accuracy: 0.9%, Avg loss: 168.877825\n",
      "\n",
      "loss: 4.352106 [0/40000]\n",
      "loss: 5.295310 [6400/40000]\n",
      "loss: 4.708655 [12800/40000]\n",
      "loss: 4.431078 [19200/40000]\n",
      "loss: 4.669298 [25600/40000]\n",
      "loss: 4.386007 [32000/40000]\n",
      "loss: 4.482098 [38400/40000]\n",
      "Test Error: \n",
      " Accuracy: 1.0%, Avg loss: 13.274726\n",
      "\n",
      "loss: 4.353248 [0/40000]\n",
      "loss: 4.381455 [6400/40000]\n",
      "loss: 4.800462 [12800/40000]\n",
      "loss: 4.384820 [19200/40000]\n",
      "loss: 4.382683 [25600/40000]\n",
      "loss: 4.535081 [32000/40000]\n",
      "loss: 4.527112 [38400/40000]\n",
      "Test Error: \n",
      " Accuracy: 1.0%, Avg loss: 57.189927\n",
      "\n"
     ]
    },
    {
     "data": {
      "application/vnd.jupyter.widget-view+json": {
       "model_id": "",
       "version_major": 2,
       "version_minor": 0
      },
      "text/plain": [
       "VBox(children=(Label(value='0.001 MB of 0.001 MB uploaded\\r'), FloatProgress(value=1.0, max=1.0)))"
      ]
     },
     "metadata": {},
     "output_type": "display_data"
    },
    {
     "data": {
      "text/html": [
       "<style>\n",
       "    table.wandb td:nth-child(1) { padding: 0 10px; text-align: left ; width: auto;} td:nth-child(2) {text-align: left ; width: 100%}\n",
       "    .wandb-row { display: flex; flex-direction: row; flex-wrap: wrap; justify-content: flex-start; width: 100% }\n",
       "    .wandb-col { display: flex; flex-direction: column; flex-basis: 100%; flex: 1; padding: 10px; }\n",
       "    </style>\n",
       "<div class=\"wandb-row\"><div class=\"wandb-col\"><h3>Run history:</h3><br/><table class=\"wandb\"><tr><td>epoch</td><td>▁▃▅▆█</td></tr><tr><td>val_accuracy</td><td>█▁▂▃▃</td></tr><tr><td>val_loss</td><td>▁▂█▁▃</td></tr></table><br/></div><div class=\"wandb-col\"><h3>Run summary:</h3><br/><table class=\"wandb\"><tr><td>epoch</td><td>5</td></tr><tr><td>val_accuracy</td><td>0.9725</td></tr><tr><td>val_loss</td><td>57.18993</td></tr></table><br/></div></div>"
      ],
      "text/plain": [
       "<IPython.core.display.HTML object>"
      ]
     },
     "metadata": {},
     "output_type": "display_data"
    },
    {
     "data": {
      "text/html": [
       " View run <strong style=\"color:#cdcd00\">prime-sweep-7</strong> at: <a href='https://wandb.ai/ns24z093/distillation/runs/h1clptr5/workspace' target=\"_blank\">https://wandb.ai/ns24z093/distillation/runs/h1clptr5/workspace</a><br/>Synced 6 W&B file(s), 0 media file(s), 0 artifact file(s) and 0 other file(s)"
      ],
      "text/plain": [
       "<IPython.core.display.HTML object>"
      ]
     },
     "metadata": {},
     "output_type": "display_data"
    },
    {
     "data": {
      "text/html": [
       "Find logs at: <code>./wandb/run-20241121_021258-h1clptr5/logs</code>"
      ],
      "text/plain": [
       "<IPython.core.display.HTML object>"
      ]
     },
     "metadata": {},
     "output_type": "display_data"
    },
    {
     "name": "stderr",
     "output_type": "stream",
     "text": [
      "\u001b[34m\u001b[1mwandb\u001b[0m: Sweep Agent: Waiting for job.\n",
      "\u001b[34m\u001b[1mwandb\u001b[0m: Job received.\n",
      "\u001b[34m\u001b[1mwandb\u001b[0m: Agent Starting Run: wybv6jqx with config:\n",
      "\u001b[34m\u001b[1mwandb\u001b[0m: \talpha: 0.7\n",
      "\u001b[34m\u001b[1mwandb\u001b[0m: \tbottleneck: True\n",
      "\u001b[34m\u001b[1mwandb\u001b[0m: \tdropout: 0\n",
      "\u001b[34m\u001b[1mwandb\u001b[0m: \tgrowth_rate: 12\n",
      "\u001b[34m\u001b[1mwandb\u001b[0m: \tlearning_rate: 0.05\n",
      "\u001b[34m\u001b[1mwandb\u001b[0m: \tlr_gamma: 0.3\n",
      "\u001b[34m\u001b[1mwandb\u001b[0m: \toptimizer: SGD\n",
      "\u001b[34m\u001b[1mwandb\u001b[0m: \ttemperature: 0.3\n",
      "\u001b[34m\u001b[1mwandb\u001b[0m: \tweight_decay: 4e-05\n"
     ]
    },
    {
     "data": {
      "text/html": [
       "wandb version 0.18.7 is available!  To upgrade, please run:\n",
       " $ pip install wandb --upgrade"
      ],
      "text/plain": [
       "<IPython.core.display.HTML object>"
      ]
     },
     "metadata": {},
     "output_type": "display_data"
    },
    {
     "data": {
      "text/html": [
       "Tracking run with wandb version 0.16.5"
      ],
      "text/plain": [
       "<IPython.core.display.HTML object>"
      ]
     },
     "metadata": {},
     "output_type": "display_data"
    },
    {
     "data": {
      "text/html": [
       "Run data is saved locally in <code>/Users/revanth/Documents/Assignments/CV/TPA/wandb/run-20241121_024235-wybv6jqx</code>"
      ],
      "text/plain": [
       "<IPython.core.display.HTML object>"
      ]
     },
     "metadata": {},
     "output_type": "display_data"
    },
    {
     "data": {
      "text/html": [
       "Syncing run <strong><a href='https://wandb.ai/ns24z093/distillation/runs/wybv6jqx/workspace' target=\"_blank\">fearless-sweep-8</a></strong> to <a href='https://wandb.ai/ns24z093/distillation' target=\"_blank\">Weights & Biases</a> (<a href='https://wandb.me/run' target=\"_blank\">docs</a>)<br/>Sweep page: <a href='https://wandb.ai/ns24z093/distillation/sweeps/sk61moht' target=\"_blank\">https://wandb.ai/ns24z093/distillation/sweeps/sk61moht</a>"
      ],
      "text/plain": [
       "<IPython.core.display.HTML object>"
      ]
     },
     "metadata": {},
     "output_type": "display_data"
    },
    {
     "data": {
      "text/html": [
       " View project at <a href='https://wandb.ai/ns24z093/distillation' target=\"_blank\">https://wandb.ai/ns24z093/distillation</a>"
      ],
      "text/plain": [
       "<IPython.core.display.HTML object>"
      ]
     },
     "metadata": {},
     "output_type": "display_data"
    },
    {
     "data": {
      "text/html": [
       " View sweep at <a href='https://wandb.ai/ns24z093/distillation/sweeps/sk61moht' target=\"_blank\">https://wandb.ai/ns24z093/distillation/sweeps/sk61moht</a>"
      ],
      "text/plain": [
       "<IPython.core.display.HTML object>"
      ]
     },
     "metadata": {},
     "output_type": "display_data"
    },
    {
     "data": {
      "text/html": [
       " View run at <a href='https://wandb.ai/ns24z093/distillation/runs/wybv6jqx/workspace' target=\"_blank\">https://wandb.ai/ns24z093/distillation/runs/wybv6jqx/workspace</a>"
      ],
      "text/plain": [
       "<IPython.core.display.HTML object>"
      ]
     },
     "metadata": {},
     "output_type": "display_data"
    },
    {
     "name": "stdout",
     "output_type": "stream",
     "text": [
      "Run name:  SGD / lr_0.05 / alpha_0.7 / dropout_0 / growth_12 / bottleneck_True / lr_gamma_0.3 / temp_0.3 / weight_decay_4e-05\n",
      "loss: 3.343158 [0/40000]\n",
      "loss: 3.072527 [6400/40000]\n",
      "loss: 2.803607 [12800/40000]\n",
      "loss: 2.810993 [19200/40000]\n",
      "loss: 3.029817 [25600/40000]\n",
      "loss: 2.631893 [32000/40000]\n",
      "loss: 2.651509 [38400/40000]\n",
      "Test Error: \n",
      " Accuracy: 15.4%, Avg loss: 3.531409\n",
      "\n",
      "loss: 2.537847 [0/40000]\n",
      "loss: 2.581179 [6400/40000]\n",
      "loss: 2.388868 [12800/40000]\n",
      "loss: 2.301183 [19200/40000]\n",
      "loss: 2.230112 [25600/40000]\n",
      "loss: 2.120758 [32000/40000]\n",
      "loss: 1.988944 [38400/40000]\n",
      "Test Error: \n",
      " Accuracy: 27.0%, Avg loss: 2.853239\n",
      "\n",
      "loss: 2.105553 [0/40000]\n",
      "loss: 2.025631 [6400/40000]\n",
      "loss: 2.171468 [12800/40000]\n",
      "loss: 1.929065 [19200/40000]\n",
      "loss: 2.069127 [25600/40000]\n",
      "loss: 1.840333 [32000/40000]\n",
      "loss: 1.562930 [38400/40000]\n",
      "Test Error: \n",
      " Accuracy: 33.5%, Avg loss: 2.538361\n",
      "\n",
      "loss: 2.010887 [0/40000]\n",
      "loss: 1.732815 [6400/40000]\n",
      "loss: 1.865995 [12800/40000]\n",
      "loss: 1.782575 [19200/40000]\n",
      "loss: 1.654031 [25600/40000]\n",
      "loss: 1.629100 [32000/40000]\n",
      "loss: 1.697967 [38400/40000]\n",
      "Test Error: \n",
      " Accuracy: 39.1%, Avg loss: 2.309954\n",
      "\n",
      "loss: 1.533717 [0/40000]\n",
      "loss: 1.525738 [6400/40000]\n",
      "loss: 1.635713 [12800/40000]\n",
      "loss: 1.665071 [19200/40000]\n",
      "loss: 1.633146 [25600/40000]\n",
      "loss: 1.481441 [32000/40000]\n",
      "loss: 1.692563 [38400/40000]\n",
      "Test Error: \n",
      " Accuracy: 44.0%, Avg loss: 2.069498\n",
      "\n"
     ]
    },
    {
     "data": {
      "application/vnd.jupyter.widget-view+json": {
       "model_id": "",
       "version_major": 2,
       "version_minor": 0
      },
      "text/plain": [
       "VBox(children=(Label(value='0.001 MB of 0.001 MB uploaded\\r'), FloatProgress(value=1.0, max=1.0)))"
      ]
     },
     "metadata": {},
     "output_type": "display_data"
    },
    {
     "data": {
      "text/html": [
       "<style>\n",
       "    table.wandb td:nth-child(1) { padding: 0 10px; text-align: left ; width: auto;} td:nth-child(2) {text-align: left ; width: 100%}\n",
       "    .wandb-row { display: flex; flex-direction: row; flex-wrap: wrap; justify-content: flex-start; width: 100% }\n",
       "    .wandb-col { display: flex; flex-direction: column; flex-basis: 100%; flex: 1; padding: 10px; }\n",
       "    </style>\n",
       "<div class=\"wandb-row\"><div class=\"wandb-col\"><h3>Run history:</h3><br/><table class=\"wandb\"><tr><td>epoch</td><td>▁▃▅▆█</td></tr><tr><td>val_accuracy</td><td>▁▄▅▇█</td></tr><tr><td>val_loss</td><td>█▅▃▂▁</td></tr></table><br/></div><div class=\"wandb-col\"><h3>Run summary:</h3><br/><table class=\"wandb\"><tr><td>epoch</td><td>5</td></tr><tr><td>val_accuracy</td><td>43.97</td></tr><tr><td>val_loss</td><td>2.0695</td></tr></table><br/></div></div>"
      ],
      "text/plain": [
       "<IPython.core.display.HTML object>"
      ]
     },
     "metadata": {},
     "output_type": "display_data"
    },
    {
     "data": {
      "text/html": [
       " View run <strong style=\"color:#cdcd00\">fearless-sweep-8</strong> at: <a href='https://wandb.ai/ns24z093/distillation/runs/wybv6jqx/workspace' target=\"_blank\">https://wandb.ai/ns24z093/distillation/runs/wybv6jqx/workspace</a><br/>Synced 6 W&B file(s), 0 media file(s), 0 artifact file(s) and 0 other file(s)"
      ],
      "text/plain": [
       "<IPython.core.display.HTML object>"
      ]
     },
     "metadata": {},
     "output_type": "display_data"
    },
    {
     "data": {
      "text/html": [
       "Find logs at: <code>./wandb/run-20241121_024235-wybv6jqx/logs</code>"
      ],
      "text/plain": [
       "<IPython.core.display.HTML object>"
      ]
     },
     "metadata": {},
     "output_type": "display_data"
    },
    {
     "name": "stderr",
     "output_type": "stream",
     "text": [
      "\u001b[34m\u001b[1mwandb\u001b[0m: Agent Starting Run: 9lwzcd4o with config:\n",
      "\u001b[34m\u001b[1mwandb\u001b[0m: \talpha: 0.7\n",
      "\u001b[34m\u001b[1mwandb\u001b[0m: \tbottleneck: True\n",
      "\u001b[34m\u001b[1mwandb\u001b[0m: \tdropout: 0.2\n",
      "\u001b[34m\u001b[1mwandb\u001b[0m: \tgrowth_rate: 12\n",
      "\u001b[34m\u001b[1mwandb\u001b[0m: \tlearning_rate: 0.05\n",
      "\u001b[34m\u001b[1mwandb\u001b[0m: \tlr_gamma: 0.1\n",
      "\u001b[34m\u001b[1mwandb\u001b[0m: \toptimizer: RMSprop\n",
      "\u001b[34m\u001b[1mwandb\u001b[0m: \ttemperature: 0.5\n",
      "\u001b[34m\u001b[1mwandb\u001b[0m: \tweight_decay: 4e-05\n"
     ]
    },
    {
     "data": {
      "application/vnd.jupyter.widget-view+json": {
       "model_id": "c69730d866e44a66b906b0c88dc43d29",
       "version_major": 2,
       "version_minor": 0
      },
      "text/plain": [
       "VBox(children=(Label(value='Waiting for wandb.init()...\\r'), FloatProgress(value=0.011223597688755641, max=1.0…"
      ]
     },
     "metadata": {},
     "output_type": "display_data"
    },
    {
     "data": {
      "text/html": [
       "wandb version 0.18.7 is available!  To upgrade, please run:\n",
       " $ pip install wandb --upgrade"
      ],
      "text/plain": [
       "<IPython.core.display.HTML object>"
      ]
     },
     "metadata": {},
     "output_type": "display_data"
    },
    {
     "data": {
      "text/html": [
       "Tracking run with wandb version 0.16.5"
      ],
      "text/plain": [
       "<IPython.core.display.HTML object>"
      ]
     },
     "metadata": {},
     "output_type": "display_data"
    },
    {
     "data": {
      "text/html": [
       "Run data is saved locally in <code>/Users/revanth/Documents/Assignments/CV/TPA/wandb/run-20241121_030926-9lwzcd4o</code>"
      ],
      "text/plain": [
       "<IPython.core.display.HTML object>"
      ]
     },
     "metadata": {},
     "output_type": "display_data"
    },
    {
     "data": {
      "text/html": [
       "Syncing run <strong><a href='https://wandb.ai/ns24z093/distillation/runs/9lwzcd4o/workspace' target=\"_blank\">leafy-sweep-9</a></strong> to <a href='https://wandb.ai/ns24z093/distillation' target=\"_blank\">Weights & Biases</a> (<a href='https://wandb.me/run' target=\"_blank\">docs</a>)<br/>Sweep page: <a href='https://wandb.ai/ns24z093/distillation/sweeps/sk61moht' target=\"_blank\">https://wandb.ai/ns24z093/distillation/sweeps/sk61moht</a>"
      ],
      "text/plain": [
       "<IPython.core.display.HTML object>"
      ]
     },
     "metadata": {},
     "output_type": "display_data"
    },
    {
     "data": {
      "text/html": [
       " View project at <a href='https://wandb.ai/ns24z093/distillation' target=\"_blank\">https://wandb.ai/ns24z093/distillation</a>"
      ],
      "text/plain": [
       "<IPython.core.display.HTML object>"
      ]
     },
     "metadata": {},
     "output_type": "display_data"
    },
    {
     "data": {
      "text/html": [
       " View sweep at <a href='https://wandb.ai/ns24z093/distillation/sweeps/sk61moht' target=\"_blank\">https://wandb.ai/ns24z093/distillation/sweeps/sk61moht</a>"
      ],
      "text/plain": [
       "<IPython.core.display.HTML object>"
      ]
     },
     "metadata": {},
     "output_type": "display_data"
    },
    {
     "data": {
      "text/html": [
       " View run at <a href='https://wandb.ai/ns24z093/distillation/runs/9lwzcd4o/workspace' target=\"_blank\">https://wandb.ai/ns24z093/distillation/runs/9lwzcd4o/workspace</a>"
      ],
      "text/plain": [
       "<IPython.core.display.HTML object>"
      ]
     },
     "metadata": {},
     "output_type": "display_data"
    },
    {
     "name": "stdout",
     "output_type": "stream",
     "text": [
      "Run name:  RMSprop / lr_0.05 / alpha_0.7 / dropout_0.2 / growth_12 / bottleneck_True / lr_gamma_0.1 / temp_0.5 / weight_decay_4e-05\n",
      "loss: 3.595114 [0/40000]\n",
      "loss: 3.995954 [6400/40000]\n",
      "loss: 4.056948 [12800/40000]\n",
      "loss: 3.632473 [19200/40000]\n",
      "loss: 3.766059 [25600/40000]\n",
      "loss: 3.596190 [32000/40000]\n",
      "loss: 3.766304 [38400/40000]\n",
      "Test Error: \n",
      " Accuracy: 1.3%, Avg loss: 4.794957\n",
      "\n",
      "loss: 3.663815 [0/40000]\n",
      "loss: 3.759430 [6400/40000]\n",
      "loss: 3.593078 [12800/40000]\n",
      "loss: 3.637517 [19200/40000]\n",
      "loss: 3.625576 [25600/40000]\n",
      "loss: 3.670685 [32000/40000]\n",
      "loss: 3.702896 [38400/40000]\n",
      "Test Error: \n",
      " Accuracy: 1.2%, Avg loss: 274.362918\n",
      "\n",
      "loss: 3.998927 [0/40000]\n",
      "loss: 4.482728 [6400/40000]\n",
      "loss: 3.703066 [12800/40000]\n",
      "loss: 3.916018 [19200/40000]\n",
      "loss: 3.706710 [25600/40000]\n",
      "loss: 3.640208 [32000/40000]\n",
      "loss: 3.637635 [38400/40000]\n",
      "Test Error: \n",
      " Accuracy: 1.0%, Avg loss: 18.830607\n",
      "\n",
      "loss: 3.729365 [0/40000]\n",
      "loss: 4.179500 [6400/40000]\n",
      "loss: 3.949374 [12800/40000]\n",
      "loss: 3.866669 [19200/40000]\n",
      "loss: 3.778756 [25600/40000]\n",
      "loss: 3.650161 [32000/40000]\n",
      "loss: 3.688964 [38400/40000]\n",
      "Test Error: \n",
      " Accuracy: 1.0%, Avg loss: 1095.982197\n",
      "\n",
      "loss: 3.765336 [0/40000]\n",
      "loss: 4.171619 [6400/40000]\n",
      "loss: 3.943428 [12800/40000]\n",
      "loss: 3.663471 [19200/40000]\n",
      "loss: 3.803229 [25600/40000]\n",
      "loss: 3.685445 [32000/40000]\n",
      "loss: 3.614351 [38400/40000]\n",
      "Test Error: \n",
      " Accuracy: 1.0%, Avg loss: 4.738239\n",
      "\n"
     ]
    },
    {
     "data": {
      "application/vnd.jupyter.widget-view+json": {
       "model_id": "",
       "version_major": 2,
       "version_minor": 0
      },
      "text/plain": [
       "VBox(children=(Label(value='0.001 MB of 0.001 MB uploaded\\r'), FloatProgress(value=1.0, max=1.0)))"
      ]
     },
     "metadata": {},
     "output_type": "display_data"
    },
    {
     "data": {
      "text/html": [
       "<style>\n",
       "    table.wandb td:nth-child(1) { padding: 0 10px; text-align: left ; width: auto;} td:nth-child(2) {text-align: left ; width: 100%}\n",
       "    .wandb-row { display: flex; flex-direction: row; flex-wrap: wrap; justify-content: flex-start; width: 100% }\n",
       "    .wandb-col { display: flex; flex-direction: column; flex-basis: 100%; flex: 1; padding: 10px; }\n",
       "    </style>\n",
       "<div class=\"wandb-row\"><div class=\"wandb-col\"><h3>Run history:</h3><br/><table class=\"wandb\"><tr><td>epoch</td><td>▁▃▅▆█</td></tr><tr><td>val_accuracy</td><td>█▆▂▂▁</td></tr><tr><td>val_loss</td><td>▁▃▁█▁</td></tr></table><br/></div><div class=\"wandb-col\"><h3>Run summary:</h3><br/><table class=\"wandb\"><tr><td>epoch</td><td>5</td></tr><tr><td>val_accuracy</td><td>0.9775</td></tr><tr><td>val_loss</td><td>4.73824</td></tr></table><br/></div></div>"
      ],
      "text/plain": [
       "<IPython.core.display.HTML object>"
      ]
     },
     "metadata": {},
     "output_type": "display_data"
    },
    {
     "data": {
      "text/html": [
       " View run <strong style=\"color:#cdcd00\">leafy-sweep-9</strong> at: <a href='https://wandb.ai/ns24z093/distillation/runs/9lwzcd4o/workspace' target=\"_blank\">https://wandb.ai/ns24z093/distillation/runs/9lwzcd4o/workspace</a><br/>Synced 6 W&B file(s), 0 media file(s), 0 artifact file(s) and 0 other file(s)"
      ],
      "text/plain": [
       "<IPython.core.display.HTML object>"
      ]
     },
     "metadata": {},
     "output_type": "display_data"
    },
    {
     "data": {
      "text/html": [
       "Find logs at: <code>./wandb/run-20241121_030926-9lwzcd4o/logs</code>"
      ],
      "text/plain": [
       "<IPython.core.display.HTML object>"
      ]
     },
     "metadata": {},
     "output_type": "display_data"
    },
    {
     "name": "stderr",
     "output_type": "stream",
     "text": [
      "\u001b[34m\u001b[1mwandb\u001b[0m: Sweep Agent: Waiting for job.\n",
      "\u001b[34m\u001b[1mwandb\u001b[0m: Job received.\n",
      "\u001b[34m\u001b[1mwandb\u001b[0m: Agent Starting Run: 75m52hnk with config:\n",
      "\u001b[34m\u001b[1mwandb\u001b[0m: \talpha: 0.9\n",
      "\u001b[34m\u001b[1mwandb\u001b[0m: \tbottleneck: False\n",
      "\u001b[34m\u001b[1mwandb\u001b[0m: \tdropout: 0.2\n",
      "\u001b[34m\u001b[1mwandb\u001b[0m: \tgrowth_rate: 18\n",
      "\u001b[34m\u001b[1mwandb\u001b[0m: \tlearning_rate: 0.05\n",
      "\u001b[34m\u001b[1mwandb\u001b[0m: \tlr_gamma: 0.3\n",
      "\u001b[34m\u001b[1mwandb\u001b[0m: \toptimizer: SGD\n",
      "\u001b[34m\u001b[1mwandb\u001b[0m: \ttemperature: 0.5\n",
      "\u001b[34m\u001b[1mwandb\u001b[0m: \tweight_decay: 4e-05\n"
     ]
    },
    {
     "data": {
      "application/vnd.jupyter.widget-view+json": {
       "model_id": "400c46fa4d754374b469f9c5de27ee9e",
       "version_major": 2,
       "version_minor": 0
      },
      "text/plain": [
       "VBox(children=(Label(value='Waiting for wandb.init()...\\r'), FloatProgress(value=0.011223750466726617, max=1.0…"
      ]
     },
     "metadata": {},
     "output_type": "display_data"
    },
    {
     "data": {
      "text/html": [
       "wandb version 0.18.7 is available!  To upgrade, please run:\n",
       " $ pip install wandb --upgrade"
      ],
      "text/plain": [
       "<IPython.core.display.HTML object>"
      ]
     },
     "metadata": {},
     "output_type": "display_data"
    },
    {
     "data": {
      "text/html": [
       "Tracking run with wandb version 0.16.5"
      ],
      "text/plain": [
       "<IPython.core.display.HTML object>"
      ]
     },
     "metadata": {},
     "output_type": "display_data"
    },
    {
     "data": {
      "text/html": [
       "Run data is saved locally in <code>/Users/revanth/Documents/Assignments/CV/TPA/wandb/run-20241121_033930-75m52hnk</code>"
      ],
      "text/plain": [
       "<IPython.core.display.HTML object>"
      ]
     },
     "metadata": {},
     "output_type": "display_data"
    },
    {
     "data": {
      "text/html": [
       "Syncing run <strong><a href='https://wandb.ai/ns24z093/distillation/runs/75m52hnk/workspace' target=\"_blank\">glorious-sweep-10</a></strong> to <a href='https://wandb.ai/ns24z093/distillation' target=\"_blank\">Weights & Biases</a> (<a href='https://wandb.me/run' target=\"_blank\">docs</a>)<br/>Sweep page: <a href='https://wandb.ai/ns24z093/distillation/sweeps/sk61moht' target=\"_blank\">https://wandb.ai/ns24z093/distillation/sweeps/sk61moht</a>"
      ],
      "text/plain": [
       "<IPython.core.display.HTML object>"
      ]
     },
     "metadata": {},
     "output_type": "display_data"
    },
    {
     "data": {
      "text/html": [
       " View project at <a href='https://wandb.ai/ns24z093/distillation' target=\"_blank\">https://wandb.ai/ns24z093/distillation</a>"
      ],
      "text/plain": [
       "<IPython.core.display.HTML object>"
      ]
     },
     "metadata": {},
     "output_type": "display_data"
    },
    {
     "data": {
      "text/html": [
       " View sweep at <a href='https://wandb.ai/ns24z093/distillation/sweeps/sk61moht' target=\"_blank\">https://wandb.ai/ns24z093/distillation/sweeps/sk61moht</a>"
      ],
      "text/plain": [
       "<IPython.core.display.HTML object>"
      ]
     },
     "metadata": {},
     "output_type": "display_data"
    },
    {
     "data": {
      "text/html": [
       " View run at <a href='https://wandb.ai/ns24z093/distillation/runs/75m52hnk/workspace' target=\"_blank\">https://wandb.ai/ns24z093/distillation/runs/75m52hnk/workspace</a>"
      ],
      "text/plain": [
       "<IPython.core.display.HTML object>"
      ]
     },
     "metadata": {},
     "output_type": "display_data"
    },
    {
     "name": "stdout",
     "output_type": "stream",
     "text": [
      "Run name:  SGD / lr_0.05 / alpha_0.9 / dropout_0.2 / growth_18 / bottleneck_False / lr_gamma_0.3 / temp_0.5 / weight_decay_4e-05\n",
      "loss: 4.314622 [0/40000]\n",
      "loss: 3.787286 [6400/40000]\n",
      "loss: 3.690921 [12800/40000]\n",
      "loss: 3.864851 [19200/40000]\n",
      "loss: 3.481808 [25600/40000]\n",
      "loss: 3.335868 [32000/40000]\n",
      "loss: 3.464485 [38400/40000]\n",
      "Test Error: \n",
      " Accuracy: 17.0%, Avg loss: 3.404584\n",
      "\n",
      "loss: 3.124171 [0/40000]\n",
      "loss: 3.101824 [6400/40000]\n",
      "loss: 3.207647 [12800/40000]\n",
      "loss: 3.037912 [19200/40000]\n",
      "loss: 2.720607 [25600/40000]\n",
      "loss: 2.794789 [32000/40000]\n",
      "loss: 2.623399 [38400/40000]\n",
      "Test Error: \n",
      " Accuracy: 27.4%, Avg loss: 2.866600\n",
      "\n",
      "loss: 2.567890 [0/40000]\n",
      "loss: 2.560680 [6400/40000]\n",
      "loss: 2.644041 [12800/40000]\n",
      "loss: 2.432384 [19200/40000]\n",
      "loss: 2.296749 [25600/40000]\n",
      "loss: 2.519578 [32000/40000]\n",
      "loss: 2.504173 [38400/40000]\n",
      "Test Error: \n",
      " Accuracy: 31.9%, Avg loss: 2.631236\n",
      "\n",
      "loss: 2.267893 [0/40000]\n",
      "loss: 2.184081 [6400/40000]\n",
      "loss: 2.196723 [12800/40000]\n",
      "loss: 1.959490 [19200/40000]\n",
      "loss: 1.880195 [25600/40000]\n",
      "loss: 2.157406 [32000/40000]\n",
      "loss: 1.894688 [38400/40000]\n",
      "Test Error: \n",
      " Accuracy: 44.0%, Avg loss: 2.085041\n",
      "\n",
      "loss: 1.883178 [0/40000]\n",
      "loss: 2.057912 [6400/40000]\n",
      "loss: 1.619356 [12800/40000]\n",
      "loss: 1.811701 [19200/40000]\n",
      "loss: 1.793063 [25600/40000]\n",
      "loss: 1.942767 [32000/40000]\n",
      "loss: 1.990636 [38400/40000]\n",
      "Test Error: \n",
      " Accuracy: 47.5%, Avg loss: 1.903782\n",
      "\n"
     ]
    },
    {
     "data": {
      "application/vnd.jupyter.widget-view+json": {
       "model_id": "",
       "version_major": 2,
       "version_minor": 0
      },
      "text/plain": [
       "VBox(children=(Label(value='0.001 MB of 0.001 MB uploaded\\r'), FloatProgress(value=1.0, max=1.0)))"
      ]
     },
     "metadata": {},
     "output_type": "display_data"
    },
    {
     "data": {
      "text/html": [
       "<style>\n",
       "    table.wandb td:nth-child(1) { padding: 0 10px; text-align: left ; width: auto;} td:nth-child(2) {text-align: left ; width: 100%}\n",
       "    .wandb-row { display: flex; flex-direction: row; flex-wrap: wrap; justify-content: flex-start; width: 100% }\n",
       "    .wandb-col { display: flex; flex-direction: column; flex-basis: 100%; flex: 1; padding: 10px; }\n",
       "    </style>\n",
       "<div class=\"wandb-row\"><div class=\"wandb-col\"><h3>Run history:</h3><br/><table class=\"wandb\"><tr><td>epoch</td><td>▁▃▅▆█</td></tr><tr><td>val_accuracy</td><td>▁▃▄▇█</td></tr><tr><td>val_loss</td><td>█▅▄▂▁</td></tr></table><br/></div><div class=\"wandb-col\"><h3>Run summary:</h3><br/><table class=\"wandb\"><tr><td>epoch</td><td>5</td></tr><tr><td>val_accuracy</td><td>47.4975</td></tr><tr><td>val_loss</td><td>1.90378</td></tr></table><br/></div></div>"
      ],
      "text/plain": [
       "<IPython.core.display.HTML object>"
      ]
     },
     "metadata": {},
     "output_type": "display_data"
    },
    {
     "data": {
      "text/html": [
       " View run <strong style=\"color:#cdcd00\">glorious-sweep-10</strong> at: <a href='https://wandb.ai/ns24z093/distillation/runs/75m52hnk/workspace' target=\"_blank\">https://wandb.ai/ns24z093/distillation/runs/75m52hnk/workspace</a><br/>Synced 6 W&B file(s), 0 media file(s), 0 artifact file(s) and 0 other file(s)"
      ],
      "text/plain": [
       "<IPython.core.display.HTML object>"
      ]
     },
     "metadata": {},
     "output_type": "display_data"
    },
    {
     "data": {
      "text/html": [
       "Find logs at: <code>./wandb/run-20241121_033930-75m52hnk/logs</code>"
      ],
      "text/plain": [
       "<IPython.core.display.HTML object>"
      ]
     },
     "metadata": {},
     "output_type": "display_data"
    },
    {
     "name": "stderr",
     "output_type": "stream",
     "text": [
      "\u001b[34m\u001b[1mwandb\u001b[0m: Agent Starting Run: qnj1uh7o with config:\n",
      "\u001b[34m\u001b[1mwandb\u001b[0m: \talpha: 0.9\n",
      "\u001b[34m\u001b[1mwandb\u001b[0m: \tbottleneck: False\n",
      "\u001b[34m\u001b[1mwandb\u001b[0m: \tdropout: 0.3\n",
      "\u001b[34m\u001b[1mwandb\u001b[0m: \tgrowth_rate: 18\n",
      "\u001b[34m\u001b[1mwandb\u001b[0m: \tlearning_rate: 0.05\n",
      "\u001b[34m\u001b[1mwandb\u001b[0m: \tlr_gamma: 0.3\n",
      "\u001b[34m\u001b[1mwandb\u001b[0m: \toptimizer: SGD\n",
      "\u001b[34m\u001b[1mwandb\u001b[0m: \ttemperature: 0.5\n",
      "\u001b[34m\u001b[1mwandb\u001b[0m: \tweight_decay: 4e-05\n"
     ]
    },
    {
     "data": {
      "application/vnd.jupyter.widget-view+json": {
       "model_id": "6ef49f51089545a38b0f95b790ba5314",
       "version_major": 2,
       "version_minor": 0
      },
      "text/plain": [
       "VBox(children=(Label(value='Waiting for wandb.init()...\\r'), FloatProgress(value=0.011223099533203317, max=1.0…"
      ]
     },
     "metadata": {},
     "output_type": "display_data"
    },
    {
     "data": {
      "text/html": [
       "wandb version 0.18.7 is available!  To upgrade, please run:\n",
       " $ pip install wandb --upgrade"
      ],
      "text/plain": [
       "<IPython.core.display.HTML object>"
      ]
     },
     "metadata": {},
     "output_type": "display_data"
    },
    {
     "data": {
      "text/html": [
       "Tracking run with wandb version 0.16.5"
      ],
      "text/plain": [
       "<IPython.core.display.HTML object>"
      ]
     },
     "metadata": {},
     "output_type": "display_data"
    },
    {
     "data": {
      "text/html": [
       "Run data is saved locally in <code>/Users/revanth/Documents/Assignments/CV/TPA/wandb/run-20241121_040619-qnj1uh7o</code>"
      ],
      "text/plain": [
       "<IPython.core.display.HTML object>"
      ]
     },
     "metadata": {},
     "output_type": "display_data"
    },
    {
     "data": {
      "text/html": [
       "Syncing run <strong><a href='https://wandb.ai/ns24z093/distillation/runs/qnj1uh7o/workspace' target=\"_blank\">fluent-sweep-11</a></strong> to <a href='https://wandb.ai/ns24z093/distillation' target=\"_blank\">Weights & Biases</a> (<a href='https://wandb.me/run' target=\"_blank\">docs</a>)<br/>Sweep page: <a href='https://wandb.ai/ns24z093/distillation/sweeps/sk61moht' target=\"_blank\">https://wandb.ai/ns24z093/distillation/sweeps/sk61moht</a>"
      ],
      "text/plain": [
       "<IPython.core.display.HTML object>"
      ]
     },
     "metadata": {},
     "output_type": "display_data"
    },
    {
     "data": {
      "text/html": [
       " View project at <a href='https://wandb.ai/ns24z093/distillation' target=\"_blank\">https://wandb.ai/ns24z093/distillation</a>"
      ],
      "text/plain": [
       "<IPython.core.display.HTML object>"
      ]
     },
     "metadata": {},
     "output_type": "display_data"
    },
    {
     "data": {
      "text/html": [
       " View sweep at <a href='https://wandb.ai/ns24z093/distillation/sweeps/sk61moht' target=\"_blank\">https://wandb.ai/ns24z093/distillation/sweeps/sk61moht</a>"
      ],
      "text/plain": [
       "<IPython.core.display.HTML object>"
      ]
     },
     "metadata": {},
     "output_type": "display_data"
    },
    {
     "data": {
      "text/html": [
       " View run at <a href='https://wandb.ai/ns24z093/distillation/runs/qnj1uh7o/workspace' target=\"_blank\">https://wandb.ai/ns24z093/distillation/runs/qnj1uh7o/workspace</a>"
      ],
      "text/plain": [
       "<IPython.core.display.HTML object>"
      ]
     },
     "metadata": {},
     "output_type": "display_data"
    },
    {
     "name": "stdout",
     "output_type": "stream",
     "text": [
      "Run name:  SGD / lr_0.05 / alpha_0.9 / dropout_0.3 / growth_18 / bottleneck_False / lr_gamma_0.3 / temp_0.5 / weight_decay_4e-05\n",
      "loss: 4.298599 [0/40000]\n",
      "loss: 3.846824 [6400/40000]\n",
      "loss: 3.528808 [12800/40000]\n",
      "loss: 3.368920 [19200/40000]\n",
      "loss: 3.578658 [25600/40000]\n",
      "loss: 3.297917 [32000/40000]\n",
      "loss: 3.299170 [38400/40000]\n",
      "Test Error: \n",
      " Accuracy: 16.2%, Avg loss: 3.473619\n",
      "\n",
      "loss: 3.481165 [0/40000]\n",
      "loss: 3.223503 [6400/40000]\n",
      "loss: 3.238327 [12800/40000]\n",
      "loss: 3.287432 [19200/40000]\n",
      "loss: 3.070650 [25600/40000]\n",
      "loss: 2.700750 [32000/40000]\n",
      "loss: 2.441479 [38400/40000]\n",
      "Test Error: \n",
      " Accuracy: 27.6%, Avg loss: 2.820260\n",
      "\n",
      "loss: 2.845160 [0/40000]\n",
      "loss: 2.546674 [6400/40000]\n",
      "loss: 2.528852 [12800/40000]\n",
      "loss: 2.188390 [19200/40000]\n",
      "loss: 2.304164 [25600/40000]\n",
      "loss: 2.483366 [32000/40000]\n",
      "loss: 2.338350 [38400/40000]\n",
      "Test Error: \n",
      " Accuracy: 38.0%, Avg loss: 2.348241\n",
      "\n",
      "loss: 2.264133 [0/40000]\n",
      "loss: 1.998160 [6400/40000]\n",
      "loss: 2.256293 [12800/40000]\n",
      "loss: 2.134583 [19200/40000]\n",
      "loss: 2.315449 [25600/40000]\n",
      "loss: 2.135012 [32000/40000]\n",
      "loss: 2.170818 [38400/40000]\n",
      "Test Error: \n",
      " Accuracy: 41.3%, Avg loss: 2.158362\n",
      "\n",
      "loss: 1.880560 [0/40000]\n",
      "loss: 2.026729 [6400/40000]\n",
      "loss: 2.042486 [12800/40000]\n",
      "loss: 1.918081 [19200/40000]\n",
      "loss: 1.830522 [25600/40000]\n",
      "loss: 1.726655 [32000/40000]\n",
      "loss: 1.807901 [38400/40000]\n",
      "Test Error: \n",
      " Accuracy: 46.9%, Avg loss: 1.948692\n",
      "\n"
     ]
    },
    {
     "data": {
      "application/vnd.jupyter.widget-view+json": {
       "model_id": "",
       "version_major": 2,
       "version_minor": 0
      },
      "text/plain": [
       "VBox(children=(Label(value='0.001 MB of 0.001 MB uploaded\\r'), FloatProgress(value=1.0, max=1.0)))"
      ]
     },
     "metadata": {},
     "output_type": "display_data"
    },
    {
     "data": {
      "text/html": [
       "<style>\n",
       "    table.wandb td:nth-child(1) { padding: 0 10px; text-align: left ; width: auto;} td:nth-child(2) {text-align: left ; width: 100%}\n",
       "    .wandb-row { display: flex; flex-direction: row; flex-wrap: wrap; justify-content: flex-start; width: 100% }\n",
       "    .wandb-col { display: flex; flex-direction: column; flex-basis: 100%; flex: 1; padding: 10px; }\n",
       "    </style>\n",
       "<div class=\"wandb-row\"><div class=\"wandb-col\"><h3>Run history:</h3><br/><table class=\"wandb\"><tr><td>epoch</td><td>▁▃▅▆█</td></tr><tr><td>val_accuracy</td><td>▁▄▆▇█</td></tr><tr><td>val_loss</td><td>█▅▃▂▁</td></tr></table><br/></div><div class=\"wandb-col\"><h3>Run summary:</h3><br/><table class=\"wandb\"><tr><td>epoch</td><td>5</td></tr><tr><td>val_accuracy</td><td>46.8525</td></tr><tr><td>val_loss</td><td>1.94869</td></tr></table><br/></div></div>"
      ],
      "text/plain": [
       "<IPython.core.display.HTML object>"
      ]
     },
     "metadata": {},
     "output_type": "display_data"
    },
    {
     "data": {
      "text/html": [
       " View run <strong style=\"color:#cdcd00\">fluent-sweep-11</strong> at: <a href='https://wandb.ai/ns24z093/distillation/runs/qnj1uh7o/workspace' target=\"_blank\">https://wandb.ai/ns24z093/distillation/runs/qnj1uh7o/workspace</a><br/>Synced 6 W&B file(s), 0 media file(s), 0 artifact file(s) and 0 other file(s)"
      ],
      "text/plain": [
       "<IPython.core.display.HTML object>"
      ]
     },
     "metadata": {},
     "output_type": "display_data"
    },
    {
     "data": {
      "text/html": [
       "Find logs at: <code>./wandb/run-20241121_040619-qnj1uh7o/logs</code>"
      ],
      "text/plain": [
       "<IPython.core.display.HTML object>"
      ]
     },
     "metadata": {},
     "output_type": "display_data"
    },
    {
     "name": "stderr",
     "output_type": "stream",
     "text": [
      "\u001b[34m\u001b[1mwandb\u001b[0m: Sweep Agent: Waiting for job.\n",
      "\u001b[34m\u001b[1mwandb\u001b[0m: Job received.\n",
      "\u001b[34m\u001b[1mwandb\u001b[0m: Agent Starting Run: w0pbisv9 with config:\n",
      "\u001b[34m\u001b[1mwandb\u001b[0m: \talpha: 0.7\n",
      "\u001b[34m\u001b[1mwandb\u001b[0m: \tbottleneck: False\n",
      "\u001b[34m\u001b[1mwandb\u001b[0m: \tdropout: 0.3\n",
      "\u001b[34m\u001b[1mwandb\u001b[0m: \tgrowth_rate: 18\n",
      "\u001b[34m\u001b[1mwandb\u001b[0m: \tlearning_rate: 0.05\n",
      "\u001b[34m\u001b[1mwandb\u001b[0m: \tlr_gamma: 0.3\n",
      "\u001b[34m\u001b[1mwandb\u001b[0m: \toptimizer: SGD\n",
      "\u001b[34m\u001b[1mwandb\u001b[0m: \ttemperature: 0.5\n",
      "\u001b[34m\u001b[1mwandb\u001b[0m: \tweight_decay: 4e-05\n"
     ]
    },
    {
     "data": {
      "application/vnd.jupyter.widget-view+json": {
       "model_id": "d63c69d21f8843b09abafecd11fd5163",
       "version_major": 2,
       "version_minor": 0
      },
      "text/plain": [
       "VBox(children=(Label(value='Waiting for wandb.init()...\\r'), FloatProgress(value=0.011223321755662458, max=1.0…"
      ]
     },
     "metadata": {},
     "output_type": "display_data"
    },
    {
     "data": {
      "text/html": [
       "wandb version 0.18.7 is available!  To upgrade, please run:\n",
       " $ pip install wandb --upgrade"
      ],
      "text/plain": [
       "<IPython.core.display.HTML object>"
      ]
     },
     "metadata": {},
     "output_type": "display_data"
    },
    {
     "data": {
      "text/html": [
       "Tracking run with wandb version 0.16.5"
      ],
      "text/plain": [
       "<IPython.core.display.HTML object>"
      ]
     },
     "metadata": {},
     "output_type": "display_data"
    },
    {
     "data": {
      "text/html": [
       "Run data is saved locally in <code>/Users/revanth/Documents/Assignments/CV/TPA/wandb/run-20241121_043316-w0pbisv9</code>"
      ],
      "text/plain": [
       "<IPython.core.display.HTML object>"
      ]
     },
     "metadata": {},
     "output_type": "display_data"
    },
    {
     "data": {
      "text/html": [
       "Syncing run <strong><a href='https://wandb.ai/ns24z093/distillation/runs/w0pbisv9/workspace' target=\"_blank\">giddy-sweep-12</a></strong> to <a href='https://wandb.ai/ns24z093/distillation' target=\"_blank\">Weights & Biases</a> (<a href='https://wandb.me/run' target=\"_blank\">docs</a>)<br/>Sweep page: <a href='https://wandb.ai/ns24z093/distillation/sweeps/sk61moht' target=\"_blank\">https://wandb.ai/ns24z093/distillation/sweeps/sk61moht</a>"
      ],
      "text/plain": [
       "<IPython.core.display.HTML object>"
      ]
     },
     "metadata": {},
     "output_type": "display_data"
    },
    {
     "data": {
      "text/html": [
       " View project at <a href='https://wandb.ai/ns24z093/distillation' target=\"_blank\">https://wandb.ai/ns24z093/distillation</a>"
      ],
      "text/plain": [
       "<IPython.core.display.HTML object>"
      ]
     },
     "metadata": {},
     "output_type": "display_data"
    },
    {
     "data": {
      "text/html": [
       " View sweep at <a href='https://wandb.ai/ns24z093/distillation/sweeps/sk61moht' target=\"_blank\">https://wandb.ai/ns24z093/distillation/sweeps/sk61moht</a>"
      ],
      "text/plain": [
       "<IPython.core.display.HTML object>"
      ]
     },
     "metadata": {},
     "output_type": "display_data"
    },
    {
     "data": {
      "text/html": [
       " View run at <a href='https://wandb.ai/ns24z093/distillation/runs/w0pbisv9/workspace' target=\"_blank\">https://wandb.ai/ns24z093/distillation/runs/w0pbisv9/workspace</a>"
      ],
      "text/plain": [
       "<IPython.core.display.HTML object>"
      ]
     },
     "metadata": {},
     "output_type": "display_data"
    },
    {
     "name": "stdout",
     "output_type": "stream",
     "text": [
      "Run name:  SGD / lr_0.05 / alpha_0.7 / dropout_0.3 / growth_18 / bottleneck_False / lr_gamma_0.3 / temp_0.5 / weight_decay_4e-05\n",
      "loss: 3.629009 [0/40000]\n",
      "loss: 3.285404 [6400/40000]\n",
      "loss: 3.082648 [12800/40000]\n",
      "loss: 2.983084 [19200/40000]\n",
      "loss: 2.964281 [25600/40000]\n",
      "loss: 2.726713 [32000/40000]\n",
      "loss: 2.573498 [38400/40000]\n",
      "Test Error: \n",
      " Accuracy: 16.2%, Avg loss: 3.457644\n",
      "\n",
      "loss: 2.768394 [0/40000]\n",
      "loss: 2.915216 [6400/40000]\n",
      "loss: 2.285378 [12800/40000]\n",
      "loss: 2.730334 [19200/40000]\n",
      "loss: 2.220136 [25600/40000]\n",
      "loss: 2.425975 [32000/40000]\n",
      "loss: 2.161753 [38400/40000]\n",
      "Test Error: \n",
      " Accuracy: 23.9%, Avg loss: 3.020901\n",
      "\n",
      "loss: 2.240609 [0/40000]\n",
      "loss: 2.006033 [6400/40000]\n",
      "loss: 1.735214 [12800/40000]\n",
      "loss: 2.202931 [19200/40000]\n",
      "loss: 1.894111 [25600/40000]\n",
      "loss: 2.145629 [32000/40000]\n",
      "loss: 1.772503 [38400/40000]\n",
      "Test Error: \n",
      " Accuracy: 31.8%, Avg loss: 2.672827\n",
      "\n",
      "loss: 1.913939 [0/40000]\n",
      "loss: 1.857010 [6400/40000]\n",
      "loss: 1.654243 [12800/40000]\n",
      "loss: 1.576182 [19200/40000]\n",
      "loss: 1.851572 [25600/40000]\n",
      "loss: 1.575827 [32000/40000]\n",
      "loss: 1.419351 [38400/40000]\n",
      "Test Error: \n",
      " Accuracy: 40.7%, Avg loss: 2.191566\n",
      "\n",
      "loss: 1.882944 [0/40000]\n",
      "loss: 1.627505 [6400/40000]\n",
      "loss: 1.375772 [12800/40000]\n",
      "loss: 1.364957 [19200/40000]\n",
      "loss: 1.570140 [25600/40000]\n",
      "loss: 1.602845 [32000/40000]\n",
      "loss: 1.674477 [38400/40000]\n",
      "Test Error: \n",
      " Accuracy: 45.1%, Avg loss: 2.008032\n",
      "\n"
     ]
    },
    {
     "data": {
      "application/vnd.jupyter.widget-view+json": {
       "model_id": "",
       "version_major": 2,
       "version_minor": 0
      },
      "text/plain": [
       "VBox(children=(Label(value='0.001 MB of 0.013 MB uploaded\\r'), FloatProgress(value=0.07358906839370863, max=1.…"
      ]
     },
     "metadata": {},
     "output_type": "display_data"
    },
    {
     "data": {
      "text/html": [
       "<style>\n",
       "    table.wandb td:nth-child(1) { padding: 0 10px; text-align: left ; width: auto;} td:nth-child(2) {text-align: left ; width: 100%}\n",
       "    .wandb-row { display: flex; flex-direction: row; flex-wrap: wrap; justify-content: flex-start; width: 100% }\n",
       "    .wandb-col { display: flex; flex-direction: column; flex-basis: 100%; flex: 1; padding: 10px; }\n",
       "    </style>\n",
       "<div class=\"wandb-row\"><div class=\"wandb-col\"><h3>Run history:</h3><br/><table class=\"wandb\"><tr><td>epoch</td><td>▁▃▅▆█</td></tr><tr><td>val_accuracy</td><td>▁▃▅▇█</td></tr><tr><td>val_loss</td><td>█▆▄▂▁</td></tr></table><br/></div><div class=\"wandb-col\"><h3>Run summary:</h3><br/><table class=\"wandb\"><tr><td>epoch</td><td>5</td></tr><tr><td>val_accuracy</td><td>45.13</td></tr><tr><td>val_loss</td><td>2.00803</td></tr></table><br/></div></div>"
      ],
      "text/plain": [
       "<IPython.core.display.HTML object>"
      ]
     },
     "metadata": {},
     "output_type": "display_data"
    },
    {
     "data": {
      "text/html": [
       " View run <strong style=\"color:#cdcd00\">giddy-sweep-12</strong> at: <a href='https://wandb.ai/ns24z093/distillation/runs/w0pbisv9/workspace' target=\"_blank\">https://wandb.ai/ns24z093/distillation/runs/w0pbisv9/workspace</a><br/>Synced 6 W&B file(s), 0 media file(s), 0 artifact file(s) and 0 other file(s)"
      ],
      "text/plain": [
       "<IPython.core.display.HTML object>"
      ]
     },
     "metadata": {},
     "output_type": "display_data"
    },
    {
     "data": {
      "text/html": [
       "Find logs at: <code>./wandb/run-20241121_043316-w0pbisv9/logs</code>"
      ],
      "text/plain": [
       "<IPython.core.display.HTML object>"
      ]
     },
     "metadata": {},
     "output_type": "display_data"
    },
    {
     "name": "stderr",
     "output_type": "stream",
     "text": [
      "\u001b[34m\u001b[1mwandb\u001b[0m: Sweep Agent: Waiting for job.\n",
      "\u001b[34m\u001b[1mwandb\u001b[0m: Job received.\n",
      "\u001b[34m\u001b[1mwandb\u001b[0m: Agent Starting Run: aed25owh with config:\n",
      "\u001b[34m\u001b[1mwandb\u001b[0m: \talpha: 0.9\n",
      "\u001b[34m\u001b[1mwandb\u001b[0m: \tbottleneck: False\n",
      "\u001b[34m\u001b[1mwandb\u001b[0m: \tdropout: 0.3\n",
      "\u001b[34m\u001b[1mwandb\u001b[0m: \tgrowth_rate: 18\n",
      "\u001b[34m\u001b[1mwandb\u001b[0m: \tlearning_rate: 0.05\n",
      "\u001b[34m\u001b[1mwandb\u001b[0m: \tlr_gamma: 0.3\n",
      "\u001b[34m\u001b[1mwandb\u001b[0m: \toptimizer: SGD\n",
      "\u001b[34m\u001b[1mwandb\u001b[0m: \ttemperature: 0.5\n",
      "\u001b[34m\u001b[1mwandb\u001b[0m: \tweight_decay: 1e-05\n"
     ]
    },
    {
     "data": {
      "application/vnd.jupyter.widget-view+json": {
       "model_id": "4667362527a94308b305baaf37971483",
       "version_major": 2,
       "version_minor": 0
      },
      "text/plain": [
       "VBox(children=(Label(value='Waiting for wandb.init()...\\r'), FloatProgress(value=0.011223912500039053, max=1.0…"
      ]
     },
     "metadata": {},
     "output_type": "display_data"
    },
    {
     "data": {
      "text/html": [
       "wandb version 0.18.7 is available!  To upgrade, please run:\n",
       " $ pip install wandb --upgrade"
      ],
      "text/plain": [
       "<IPython.core.display.HTML object>"
      ]
     },
     "metadata": {},
     "output_type": "display_data"
    },
    {
     "data": {
      "text/html": [
       "Tracking run with wandb version 0.16.5"
      ],
      "text/plain": [
       "<IPython.core.display.HTML object>"
      ]
     },
     "metadata": {},
     "output_type": "display_data"
    },
    {
     "data": {
      "text/html": [
       "Run data is saved locally in <code>/Users/revanth/Documents/Assignments/CV/TPA/wandb/run-20241121_050010-aed25owh</code>"
      ],
      "text/plain": [
       "<IPython.core.display.HTML object>"
      ]
     },
     "metadata": {},
     "output_type": "display_data"
    },
    {
     "data": {
      "text/html": [
       "Syncing run <strong><a href='https://wandb.ai/ns24z093/distillation/runs/aed25owh/workspace' target=\"_blank\">major-sweep-13</a></strong> to <a href='https://wandb.ai/ns24z093/distillation' target=\"_blank\">Weights & Biases</a> (<a href='https://wandb.me/run' target=\"_blank\">docs</a>)<br/>Sweep page: <a href='https://wandb.ai/ns24z093/distillation/sweeps/sk61moht' target=\"_blank\">https://wandb.ai/ns24z093/distillation/sweeps/sk61moht</a>"
      ],
      "text/plain": [
       "<IPython.core.display.HTML object>"
      ]
     },
     "metadata": {},
     "output_type": "display_data"
    },
    {
     "data": {
      "text/html": [
       " View project at <a href='https://wandb.ai/ns24z093/distillation' target=\"_blank\">https://wandb.ai/ns24z093/distillation</a>"
      ],
      "text/plain": [
       "<IPython.core.display.HTML object>"
      ]
     },
     "metadata": {},
     "output_type": "display_data"
    },
    {
     "data": {
      "text/html": [
       " View sweep at <a href='https://wandb.ai/ns24z093/distillation/sweeps/sk61moht' target=\"_blank\">https://wandb.ai/ns24z093/distillation/sweeps/sk61moht</a>"
      ],
      "text/plain": [
       "<IPython.core.display.HTML object>"
      ]
     },
     "metadata": {},
     "output_type": "display_data"
    },
    {
     "data": {
      "text/html": [
       " View run at <a href='https://wandb.ai/ns24z093/distillation/runs/aed25owh/workspace' target=\"_blank\">https://wandb.ai/ns24z093/distillation/runs/aed25owh/workspace</a>"
      ],
      "text/plain": [
       "<IPython.core.display.HTML object>"
      ]
     },
     "metadata": {},
     "output_type": "display_data"
    },
    {
     "name": "stdout",
     "output_type": "stream",
     "text": [
      "Run name:  SGD / lr_0.05 / alpha_0.9 / dropout_0.3 / growth_18 / bottleneck_False / lr_gamma_0.3 / temp_0.5 / weight_decay_1e-05\n",
      "loss: 4.271152 [0/40000]\n",
      "loss: 3.852246 [6400/40000]\n",
      "loss: 3.620556 [12800/40000]\n",
      "loss: 3.465893 [19200/40000]\n",
      "loss: 3.248549 [25600/40000]\n",
      "loss: 3.440275 [32000/40000]\n",
      "loss: 3.151579 [38400/40000]\n",
      "Test Error: \n",
      " Accuracy: 16.4%, Avg loss: 3.460166\n",
      "\n",
      "loss: 3.167067 [0/40000]\n",
      "loss: 2.903201 [6400/40000]\n",
      "loss: 3.000974 [12800/40000]\n",
      "loss: 2.701319 [19200/40000]\n",
      "loss: 2.745051 [25600/40000]\n",
      "loss: 2.580399 [32000/40000]\n",
      "loss: 2.914092 [38400/40000]\n",
      "Test Error: \n",
      " Accuracy: 26.8%, Avg loss: 2.871243\n",
      "\n",
      "loss: 2.556648 [0/40000]\n",
      "loss: 2.634104 [6400/40000]\n",
      "loss: 2.321227 [12800/40000]\n",
      "loss: 2.651322 [19200/40000]\n",
      "loss: 2.404831 [25600/40000]\n",
      "loss: 2.372994 [32000/40000]\n",
      "loss: 2.348025 [38400/40000]\n",
      "Test Error: \n",
      " Accuracy: 35.4%, Avg loss: 2.461956\n",
      "\n",
      "loss: 2.378511 [0/40000]\n",
      "loss: 2.288824 [6400/40000]\n",
      "loss: 2.255254 [12800/40000]\n",
      "loss: 2.230013 [19200/40000]\n",
      "loss: 1.951764 [25600/40000]\n",
      "loss: 1.960647 [32000/40000]\n",
      "loss: 2.063660 [38400/40000]\n",
      "Test Error: \n",
      " Accuracy: 38.5%, Avg loss: 2.310451\n",
      "\n",
      "loss: 2.028442 [0/40000]\n",
      "loss: 1.770334 [6400/40000]\n",
      "loss: 1.888811 [12800/40000]\n",
      "loss: 2.033001 [19200/40000]\n",
      "loss: 2.109779 [25600/40000]\n",
      "loss: 1.907020 [32000/40000]\n",
      "loss: 1.712960 [38400/40000]\n",
      "Test Error: \n",
      " Accuracy: 45.3%, Avg loss: 2.034496\n",
      "\n"
     ]
    },
    {
     "data": {
      "application/vnd.jupyter.widget-view+json": {
       "model_id": "",
       "version_major": 2,
       "version_minor": 0
      },
      "text/plain": [
       "VBox(children=(Label(value='0.001 MB of 0.001 MB uploaded\\r'), FloatProgress(value=1.0, max=1.0)))"
      ]
     },
     "metadata": {},
     "output_type": "display_data"
    },
    {
     "data": {
      "text/html": [
       "<style>\n",
       "    table.wandb td:nth-child(1) { padding: 0 10px; text-align: left ; width: auto;} td:nth-child(2) {text-align: left ; width: 100%}\n",
       "    .wandb-row { display: flex; flex-direction: row; flex-wrap: wrap; justify-content: flex-start; width: 100% }\n",
       "    .wandb-col { display: flex; flex-direction: column; flex-basis: 100%; flex: 1; padding: 10px; }\n",
       "    </style>\n",
       "<div class=\"wandb-row\"><div class=\"wandb-col\"><h3>Run history:</h3><br/><table class=\"wandb\"><tr><td>epoch</td><td>▁▃▅▆█</td></tr><tr><td>val_accuracy</td><td>▁▄▆▆█</td></tr><tr><td>val_loss</td><td>█▅▃▂▁</td></tr></table><br/></div><div class=\"wandb-col\"><h3>Run summary:</h3><br/><table class=\"wandb\"><tr><td>epoch</td><td>5</td></tr><tr><td>val_accuracy</td><td>45.3325</td></tr><tr><td>val_loss</td><td>2.0345</td></tr></table><br/></div></div>"
      ],
      "text/plain": [
       "<IPython.core.display.HTML object>"
      ]
     },
     "metadata": {},
     "output_type": "display_data"
    },
    {
     "data": {
      "text/html": [
       " View run <strong style=\"color:#cdcd00\">major-sweep-13</strong> at: <a href='https://wandb.ai/ns24z093/distillation/runs/aed25owh/workspace' target=\"_blank\">https://wandb.ai/ns24z093/distillation/runs/aed25owh/workspace</a><br/>Synced 6 W&B file(s), 0 media file(s), 0 artifact file(s) and 0 other file(s)"
      ],
      "text/plain": [
       "<IPython.core.display.HTML object>"
      ]
     },
     "metadata": {},
     "output_type": "display_data"
    },
    {
     "data": {
      "text/html": [
       "Find logs at: <code>./wandb/run-20241121_050010-aed25owh/logs</code>"
      ],
      "text/plain": [
       "<IPython.core.display.HTML object>"
      ]
     },
     "metadata": {},
     "output_type": "display_data"
    },
    {
     "name": "stderr",
     "output_type": "stream",
     "text": [
      "\u001b[34m\u001b[1mwandb\u001b[0m: Sweep Agent: Waiting for job.\n",
      "\u001b[34m\u001b[1mwandb\u001b[0m: Job received.\n",
      "\u001b[34m\u001b[1mwandb\u001b[0m: Agent Starting Run: ts0ytjs3 with config:\n",
      "\u001b[34m\u001b[1mwandb\u001b[0m: \talpha: 0.9\n",
      "\u001b[34m\u001b[1mwandb\u001b[0m: \tbottleneck: False\n",
      "\u001b[34m\u001b[1mwandb\u001b[0m: \tdropout: 0.3\n",
      "\u001b[34m\u001b[1mwandb\u001b[0m: \tgrowth_rate: 18\n",
      "\u001b[34m\u001b[1mwandb\u001b[0m: \tlearning_rate: 0.05\n",
      "\u001b[34m\u001b[1mwandb\u001b[0m: \tlr_gamma: 0.3\n",
      "\u001b[34m\u001b[1mwandb\u001b[0m: \toptimizer: SGD\n",
      "\u001b[34m\u001b[1mwandb\u001b[0m: \ttemperature: 0.5\n",
      "\u001b[34m\u001b[1mwandb\u001b[0m: \tweight_decay: 1e-05\n"
     ]
    },
    {
     "data": {
      "application/vnd.jupyter.widget-view+json": {
       "model_id": "dfd86334628a40048d6b6afd3f9c4a7b",
       "version_major": 2,
       "version_minor": 0
      },
      "text/plain": [
       "VBox(children=(Label(value='Waiting for wandb.init()...\\r'), FloatProgress(value=0.011201765277979172, max=1.0…"
      ]
     },
     "metadata": {},
     "output_type": "display_data"
    },
    {
     "data": {
      "text/html": [
       "wandb version 0.18.7 is available!  To upgrade, please run:\n",
       " $ pip install wandb --upgrade"
      ],
      "text/plain": [
       "<IPython.core.display.HTML object>"
      ]
     },
     "metadata": {},
     "output_type": "display_data"
    },
    {
     "data": {
      "text/html": [
       "Tracking run with wandb version 0.16.5"
      ],
      "text/plain": [
       "<IPython.core.display.HTML object>"
      ]
     },
     "metadata": {},
     "output_type": "display_data"
    },
    {
     "data": {
      "text/html": [
       "Run data is saved locally in <code>/Users/revanth/Documents/Assignments/CV/TPA/wandb/run-20241121_052710-ts0ytjs3</code>"
      ],
      "text/plain": [
       "<IPython.core.display.HTML object>"
      ]
     },
     "metadata": {},
     "output_type": "display_data"
    },
    {
     "data": {
      "text/html": [
       "Syncing run <strong><a href='https://wandb.ai/ns24z093/distillation/runs/ts0ytjs3/workspace' target=\"_blank\">flowing-sweep-14</a></strong> to <a href='https://wandb.ai/ns24z093/distillation' target=\"_blank\">Weights & Biases</a> (<a href='https://wandb.me/run' target=\"_blank\">docs</a>)<br/>Sweep page: <a href='https://wandb.ai/ns24z093/distillation/sweeps/sk61moht' target=\"_blank\">https://wandb.ai/ns24z093/distillation/sweeps/sk61moht</a>"
      ],
      "text/plain": [
       "<IPython.core.display.HTML object>"
      ]
     },
     "metadata": {},
     "output_type": "display_data"
    },
    {
     "data": {
      "text/html": [
       " View project at <a href='https://wandb.ai/ns24z093/distillation' target=\"_blank\">https://wandb.ai/ns24z093/distillation</a>"
      ],
      "text/plain": [
       "<IPython.core.display.HTML object>"
      ]
     },
     "metadata": {},
     "output_type": "display_data"
    },
    {
     "data": {
      "text/html": [
       " View sweep at <a href='https://wandb.ai/ns24z093/distillation/sweeps/sk61moht' target=\"_blank\">https://wandb.ai/ns24z093/distillation/sweeps/sk61moht</a>"
      ],
      "text/plain": [
       "<IPython.core.display.HTML object>"
      ]
     },
     "metadata": {},
     "output_type": "display_data"
    },
    {
     "data": {
      "text/html": [
       " View run at <a href='https://wandb.ai/ns24z093/distillation/runs/ts0ytjs3/workspace' target=\"_blank\">https://wandb.ai/ns24z093/distillation/runs/ts0ytjs3/workspace</a>"
      ],
      "text/plain": [
       "<IPython.core.display.HTML object>"
      ]
     },
     "metadata": {},
     "output_type": "display_data"
    },
    {
     "name": "stdout",
     "output_type": "stream",
     "text": [
      "Run name:  SGD / lr_0.05 / alpha_0.9 / dropout_0.3 / growth_18 / bottleneck_False / lr_gamma_0.3 / temp_0.5 / weight_decay_1e-05\n",
      "loss: 4.306124 [0/40000]\n",
      "loss: 3.848259 [6400/40000]\n",
      "loss: 3.691851 [12800/40000]\n",
      "loss: 3.692580 [19200/40000]\n",
      "loss: 3.378096 [25600/40000]\n",
      "loss: 3.394649 [32000/40000]\n",
      "loss: 3.088682 [38400/40000]\n",
      "Test Error: \n",
      " Accuracy: 14.9%, Avg loss: 3.557024\n",
      "\n",
      "loss: 3.263147 [0/40000]\n",
      "loss: 3.323675 [6400/40000]\n",
      "loss: 2.844238 [12800/40000]\n",
      "loss: 3.288754 [19200/40000]\n",
      "loss: 2.707074 [25600/40000]\n",
      "loss: 2.755441 [32000/40000]\n",
      "loss: 2.837940 [38400/40000]\n",
      "Test Error: \n",
      " Accuracy: 27.3%, Avg loss: 2.868462\n",
      "\n",
      "loss: 2.698695 [0/40000]\n",
      "loss: 2.690529 [6400/40000]\n",
      "loss: 2.405286 [12800/40000]\n",
      "loss: 2.443734 [19200/40000]\n",
      "loss: 2.635622 [25600/40000]\n",
      "loss: 2.510779 [32000/40000]\n",
      "loss: 2.502064 [38400/40000]\n",
      "Test Error: \n",
      " Accuracy: 34.8%, Avg loss: 2.508545\n",
      "\n",
      "loss: 2.588014 [0/40000]\n",
      "loss: 2.342636 [6400/40000]\n",
      "loss: 2.105269 [12800/40000]\n",
      "loss: 2.165405 [19200/40000]\n",
      "loss: 2.104213 [25600/40000]\n",
      "loss: 2.297731 [32000/40000]\n",
      "loss: 2.284593 [38400/40000]\n",
      "Test Error: \n",
      " Accuracy: 40.8%, Avg loss: 2.217350\n",
      "\n",
      "loss: 1.880108 [0/40000]\n",
      "loss: 2.057779 [6400/40000]\n",
      "loss: 1.774967 [12800/40000]\n",
      "loss: 1.954915 [19200/40000]\n",
      "loss: 1.652033 [25600/40000]\n",
      "loss: 1.761161 [32000/40000]\n",
      "loss: 1.782686 [38400/40000]\n",
      "Test Error: \n",
      " Accuracy: 48.5%, Avg loss: 1.870534\n",
      "\n"
     ]
    },
    {
     "data": {
      "application/vnd.jupyter.widget-view+json": {
       "model_id": "",
       "version_major": 2,
       "version_minor": 0
      },
      "text/plain": [
       "VBox(children=(Label(value='0.001 MB of 0.001 MB uploaded\\r'), FloatProgress(value=1.0, max=1.0)))"
      ]
     },
     "metadata": {},
     "output_type": "display_data"
    },
    {
     "data": {
      "text/html": [
       "<style>\n",
       "    table.wandb td:nth-child(1) { padding: 0 10px; text-align: left ; width: auto;} td:nth-child(2) {text-align: left ; width: 100%}\n",
       "    .wandb-row { display: flex; flex-direction: row; flex-wrap: wrap; justify-content: flex-start; width: 100% }\n",
       "    .wandb-col { display: flex; flex-direction: column; flex-basis: 100%; flex: 1; padding: 10px; }\n",
       "    </style>\n",
       "<div class=\"wandb-row\"><div class=\"wandb-col\"><h3>Run history:</h3><br/><table class=\"wandb\"><tr><td>epoch</td><td>▁▃▅▆█</td></tr><tr><td>val_accuracy</td><td>▁▄▅▆█</td></tr><tr><td>val_loss</td><td>█▅▄▂▁</td></tr></table><br/></div><div class=\"wandb-col\"><h3>Run summary:</h3><br/><table class=\"wandb\"><tr><td>epoch</td><td>5</td></tr><tr><td>val_accuracy</td><td>48.455</td></tr><tr><td>val_loss</td><td>1.87053</td></tr></table><br/></div></div>"
      ],
      "text/plain": [
       "<IPython.core.display.HTML object>"
      ]
     },
     "metadata": {},
     "output_type": "display_data"
    },
    {
     "data": {
      "text/html": [
       " View run <strong style=\"color:#cdcd00\">flowing-sweep-14</strong> at: <a href='https://wandb.ai/ns24z093/distillation/runs/ts0ytjs3/workspace' target=\"_blank\">https://wandb.ai/ns24z093/distillation/runs/ts0ytjs3/workspace</a><br/>Synced 6 W&B file(s), 0 media file(s), 0 artifact file(s) and 0 other file(s)"
      ],
      "text/plain": [
       "<IPython.core.display.HTML object>"
      ]
     },
     "metadata": {},
     "output_type": "display_data"
    },
    {
     "data": {
      "text/html": [
       "Find logs at: <code>./wandb/run-20241121_052710-ts0ytjs3/logs</code>"
      ],
      "text/plain": [
       "<IPython.core.display.HTML object>"
      ]
     },
     "metadata": {},
     "output_type": "display_data"
    },
    {
     "name": "stderr",
     "output_type": "stream",
     "text": [
      "\u001b[34m\u001b[1mwandb\u001b[0m: Agent Starting Run: f8x8mtax with config:\n",
      "\u001b[34m\u001b[1mwandb\u001b[0m: \talpha: 0.7\n",
      "\u001b[34m\u001b[1mwandb\u001b[0m: \tbottleneck: False\n",
      "\u001b[34m\u001b[1mwandb\u001b[0m: \tdropout: 0\n",
      "\u001b[34m\u001b[1mwandb\u001b[0m: \tgrowth_rate: 18\n",
      "\u001b[34m\u001b[1mwandb\u001b[0m: \tlearning_rate: 0.05\n",
      "\u001b[34m\u001b[1mwandb\u001b[0m: \tlr_gamma: 0.3\n",
      "\u001b[34m\u001b[1mwandb\u001b[0m: \toptimizer: SGD\n",
      "\u001b[34m\u001b[1mwandb\u001b[0m: \ttemperature: 0.5\n",
      "\u001b[34m\u001b[1mwandb\u001b[0m: \tweight_decay: 1e-05\n"
     ]
    },
    {
     "data": {
      "application/vnd.jupyter.widget-view+json": {
       "model_id": "263b1a07d9b247ee807ebda47ef0233c",
       "version_major": 2,
       "version_minor": 0
      },
      "text/plain": [
       "VBox(children=(Label(value='Waiting for wandb.init()...\\r'), FloatProgress(value=0.011223398611117671, max=1.0…"
      ]
     },
     "metadata": {},
     "output_type": "display_data"
    },
    {
     "data": {
      "text/html": [
       "wandb version 0.18.7 is available!  To upgrade, please run:\n",
       " $ pip install wandb --upgrade"
      ],
      "text/plain": [
       "<IPython.core.display.HTML object>"
      ]
     },
     "metadata": {},
     "output_type": "display_data"
    },
    {
     "data": {
      "text/html": [
       "Tracking run with wandb version 0.16.5"
      ],
      "text/plain": [
       "<IPython.core.display.HTML object>"
      ]
     },
     "metadata": {},
     "output_type": "display_data"
    },
    {
     "data": {
      "text/html": [
       "Run data is saved locally in <code>/Users/revanth/Documents/Assignments/CV/TPA/wandb/run-20241121_055359-f8x8mtax</code>"
      ],
      "text/plain": [
       "<IPython.core.display.HTML object>"
      ]
     },
     "metadata": {},
     "output_type": "display_data"
    },
    {
     "data": {
      "text/html": [
       "Syncing run <strong><a href='https://wandb.ai/ns24z093/distillation/runs/f8x8mtax/workspace' target=\"_blank\">dark-sweep-15</a></strong> to <a href='https://wandb.ai/ns24z093/distillation' target=\"_blank\">Weights & Biases</a> (<a href='https://wandb.me/run' target=\"_blank\">docs</a>)<br/>Sweep page: <a href='https://wandb.ai/ns24z093/distillation/sweeps/sk61moht' target=\"_blank\">https://wandb.ai/ns24z093/distillation/sweeps/sk61moht</a>"
      ],
      "text/plain": [
       "<IPython.core.display.HTML object>"
      ]
     },
     "metadata": {},
     "output_type": "display_data"
    },
    {
     "data": {
      "text/html": [
       " View project at <a href='https://wandb.ai/ns24z093/distillation' target=\"_blank\">https://wandb.ai/ns24z093/distillation</a>"
      ],
      "text/plain": [
       "<IPython.core.display.HTML object>"
      ]
     },
     "metadata": {},
     "output_type": "display_data"
    },
    {
     "data": {
      "text/html": [
       " View sweep at <a href='https://wandb.ai/ns24z093/distillation/sweeps/sk61moht' target=\"_blank\">https://wandb.ai/ns24z093/distillation/sweeps/sk61moht</a>"
      ],
      "text/plain": [
       "<IPython.core.display.HTML object>"
      ]
     },
     "metadata": {},
     "output_type": "display_data"
    },
    {
     "data": {
      "text/html": [
       " View run at <a href='https://wandb.ai/ns24z093/distillation/runs/f8x8mtax/workspace' target=\"_blank\">https://wandb.ai/ns24z093/distillation/runs/f8x8mtax/workspace</a>"
      ],
      "text/plain": [
       "<IPython.core.display.HTML object>"
      ]
     },
     "metadata": {},
     "output_type": "display_data"
    },
    {
     "name": "stdout",
     "output_type": "stream",
     "text": [
      "Run name:  SGD / lr_0.05 / alpha_0.7 / dropout_0 / growth_18 / bottleneck_False / lr_gamma_0.3 / temp_0.5 / weight_decay_1e-05\n",
      "loss: 3.572153 [0/40000]\n",
      "loss: 3.265350 [6400/40000]\n",
      "loss: 3.113343 [12800/40000]\n",
      "loss: 3.157789 [19200/40000]\n",
      "loss: 3.142596 [25600/40000]\n",
      "loss: 2.851784 [32000/40000]\n",
      "loss: 2.876231 [38400/40000]\n",
      "Test Error: \n",
      " Accuracy: 15.2%, Avg loss: 3.543154\n",
      "\n",
      "loss: 2.790482 [0/40000]\n",
      "loss: 2.634310 [6400/40000]\n",
      "loss: 2.407294 [12800/40000]\n",
      "loss: 2.884216 [19200/40000]\n",
      "loss: 2.439633 [25600/40000]\n",
      "loss: 2.388529 [32000/40000]\n",
      "loss: 2.084669 [38400/40000]\n",
      "Test Error: \n",
      " Accuracy: 26.3%, Avg loss: 2.908301\n",
      "\n",
      "loss: 2.211584 [0/40000]\n",
      "loss: 2.334589 [6400/40000]\n",
      "loss: 2.113340 [12800/40000]\n",
      "loss: 2.203331 [19200/40000]\n",
      "loss: 2.219975 [25600/40000]\n",
      "loss: 1.834858 [32000/40000]\n",
      "loss: 1.955353 [38400/40000]\n",
      "Test Error: \n",
      " Accuracy: 32.7%, Avg loss: 2.586802\n",
      "\n",
      "loss: 2.002132 [0/40000]\n",
      "loss: 1.889491 [6400/40000]\n",
      "loss: 1.875852 [12800/40000]\n",
      "loss: 1.802874 [19200/40000]\n",
      "loss: 1.775884 [25600/40000]\n",
      "loss: 1.623196 [32000/40000]\n",
      "loss: 2.000029 [38400/40000]\n",
      "Test Error: \n",
      " Accuracy: 41.2%, Avg loss: 2.202713\n",
      "\n",
      "loss: 1.838583 [0/40000]\n",
      "loss: 1.844613 [6400/40000]\n",
      "loss: 1.679547 [12800/40000]\n",
      "loss: 1.632652 [19200/40000]\n",
      "loss: 1.627572 [25600/40000]\n",
      "loss: 1.660505 [32000/40000]\n",
      "loss: 1.580763 [38400/40000]\n",
      "Test Error: \n",
      " Accuracy: 43.2%, Avg loss: 2.139036\n",
      "\n"
     ]
    },
    {
     "data": {
      "application/vnd.jupyter.widget-view+json": {
       "model_id": "",
       "version_major": 2,
       "version_minor": 0
      },
      "text/plain": [
       "VBox(children=(Label(value='0.001 MB of 0.001 MB uploaded\\r'), FloatProgress(value=1.0, max=1.0)))"
      ]
     },
     "metadata": {},
     "output_type": "display_data"
    },
    {
     "data": {
      "text/html": [
       "<style>\n",
       "    table.wandb td:nth-child(1) { padding: 0 10px; text-align: left ; width: auto;} td:nth-child(2) {text-align: left ; width: 100%}\n",
       "    .wandb-row { display: flex; flex-direction: row; flex-wrap: wrap; justify-content: flex-start; width: 100% }\n",
       "    .wandb-col { display: flex; flex-direction: column; flex-basis: 100%; flex: 1; padding: 10px; }\n",
       "    </style>\n",
       "<div class=\"wandb-row\"><div class=\"wandb-col\"><h3>Run history:</h3><br/><table class=\"wandb\"><tr><td>epoch</td><td>▁▃▅▆█</td></tr><tr><td>val_accuracy</td><td>▁▄▅██</td></tr><tr><td>val_loss</td><td>█▅▃▁▁</td></tr></table><br/></div><div class=\"wandb-col\"><h3>Run summary:</h3><br/><table class=\"wandb\"><tr><td>epoch</td><td>5</td></tr><tr><td>val_accuracy</td><td>43.2175</td></tr><tr><td>val_loss</td><td>2.13904</td></tr></table><br/></div></div>"
      ],
      "text/plain": [
       "<IPython.core.display.HTML object>"
      ]
     },
     "metadata": {},
     "output_type": "display_data"
    },
    {
     "data": {
      "text/html": [
       " View run <strong style=\"color:#cdcd00\">dark-sweep-15</strong> at: <a href='https://wandb.ai/ns24z093/distillation/runs/f8x8mtax/workspace' target=\"_blank\">https://wandb.ai/ns24z093/distillation/runs/f8x8mtax/workspace</a><br/>Synced 6 W&B file(s), 0 media file(s), 0 artifact file(s) and 0 other file(s)"
      ],
      "text/plain": [
       "<IPython.core.display.HTML object>"
      ]
     },
     "metadata": {},
     "output_type": "display_data"
    },
    {
     "data": {
      "text/html": [
       "Find logs at: <code>./wandb/run-20241121_055359-f8x8mtax/logs</code>"
      ],
      "text/plain": [
       "<IPython.core.display.HTML object>"
      ]
     },
     "metadata": {},
     "output_type": "display_data"
    },
    {
     "name": "stderr",
     "output_type": "stream",
     "text": [
      "\u001b[34m\u001b[1mwandb\u001b[0m: Agent Starting Run: x69696ex with config:\n",
      "\u001b[34m\u001b[1mwandb\u001b[0m: \talpha: 0.9\n",
      "\u001b[34m\u001b[1mwandb\u001b[0m: \tbottleneck: False\n",
      "\u001b[34m\u001b[1mwandb\u001b[0m: \tdropout: 0.3\n",
      "\u001b[34m\u001b[1mwandb\u001b[0m: \tgrowth_rate: 18\n",
      "\u001b[34m\u001b[1mwandb\u001b[0m: \tlearning_rate: 0.05\n",
      "\u001b[34m\u001b[1mwandb\u001b[0m: \tlr_gamma: 0.3\n",
      "\u001b[34m\u001b[1mwandb\u001b[0m: \toptimizer: SGD\n",
      "\u001b[34m\u001b[1mwandb\u001b[0m: \ttemperature: 0.5\n",
      "\u001b[34m\u001b[1mwandb\u001b[0m: \tweight_decay: 1e-05\n"
     ]
    },
    {
     "data": {
      "text/html": [
       "wandb version 0.18.7 is available!  To upgrade, please run:\n",
       " $ pip install wandb --upgrade"
      ],
      "text/plain": [
       "<IPython.core.display.HTML object>"
      ]
     },
     "metadata": {},
     "output_type": "display_data"
    },
    {
     "data": {
      "text/html": [
       "Tracking run with wandb version 0.16.5"
      ],
      "text/plain": [
       "<IPython.core.display.HTML object>"
      ]
     },
     "metadata": {},
     "output_type": "display_data"
    },
    {
     "data": {
      "text/html": [
       "Run data is saved locally in <code>/Users/revanth/Documents/Assignments/CV/TPA/wandb/run-20241121_062046-x69696ex</code>"
      ],
      "text/plain": [
       "<IPython.core.display.HTML object>"
      ]
     },
     "metadata": {},
     "output_type": "display_data"
    },
    {
     "data": {
      "text/html": [
       "Syncing run <strong><a href='https://wandb.ai/ns24z093/distillation/runs/x69696ex/workspace' target=\"_blank\">soft-sweep-16</a></strong> to <a href='https://wandb.ai/ns24z093/distillation' target=\"_blank\">Weights & Biases</a> (<a href='https://wandb.me/run' target=\"_blank\">docs</a>)<br/>Sweep page: <a href='https://wandb.ai/ns24z093/distillation/sweeps/sk61moht' target=\"_blank\">https://wandb.ai/ns24z093/distillation/sweeps/sk61moht</a>"
      ],
      "text/plain": [
       "<IPython.core.display.HTML object>"
      ]
     },
     "metadata": {},
     "output_type": "display_data"
    },
    {
     "data": {
      "text/html": [
       " View project at <a href='https://wandb.ai/ns24z093/distillation' target=\"_blank\">https://wandb.ai/ns24z093/distillation</a>"
      ],
      "text/plain": [
       "<IPython.core.display.HTML object>"
      ]
     },
     "metadata": {},
     "output_type": "display_data"
    },
    {
     "data": {
      "text/html": [
       " View sweep at <a href='https://wandb.ai/ns24z093/distillation/sweeps/sk61moht' target=\"_blank\">https://wandb.ai/ns24z093/distillation/sweeps/sk61moht</a>"
      ],
      "text/plain": [
       "<IPython.core.display.HTML object>"
      ]
     },
     "metadata": {},
     "output_type": "display_data"
    },
    {
     "data": {
      "text/html": [
       " View run at <a href='https://wandb.ai/ns24z093/distillation/runs/x69696ex/workspace' target=\"_blank\">https://wandb.ai/ns24z093/distillation/runs/x69696ex/workspace</a>"
      ],
      "text/plain": [
       "<IPython.core.display.HTML object>"
      ]
     },
     "metadata": {},
     "output_type": "display_data"
    },
    {
     "name": "stdout",
     "output_type": "stream",
     "text": [
      "Run name:  SGD / lr_0.05 / alpha_0.9 / dropout_0.3 / growth_18 / bottleneck_False / lr_gamma_0.3 / temp_0.5 / weight_decay_1e-05\n",
      "loss: 4.227479 [0/40000]\n",
      "loss: 3.980433 [6400/40000]\n",
      "loss: 3.624254 [12800/40000]\n",
      "loss: 3.808121 [19200/40000]\n",
      "loss: 3.325144 [25600/40000]\n",
      "loss: 3.387464 [32000/40000]\n",
      "loss: 3.131479 [38400/40000]\n",
      "Test Error: \n",
      " Accuracy: 16.0%, Avg loss: 3.469704\n",
      "\n",
      "loss: 3.266784 [0/40000]\n",
      "loss: 3.055146 [6400/40000]\n",
      "loss: 3.032740 [12800/40000]\n",
      "loss: 2.856745 [19200/40000]\n",
      "loss: 2.878380 [25600/40000]\n",
      "loss: 2.846563 [32000/40000]\n",
      "loss: 2.696573 [38400/40000]\n",
      "Test Error: \n",
      " Accuracy: 26.6%, Avg loss: 2.864699\n",
      "\n",
      "loss: 2.498207 [0/40000]\n",
      "loss: 2.764250 [6400/40000]\n",
      "loss: 2.408621 [12800/40000]\n",
      "loss: 2.459475 [19200/40000]\n",
      "loss: 2.586199 [25600/40000]\n",
      "loss: 2.357044 [32000/40000]\n",
      "loss: 2.307050 [38400/40000]\n",
      "Test Error: \n",
      " Accuracy: 34.5%, Avg loss: 2.490743\n",
      "\n",
      "loss: 2.334879 [0/40000]\n",
      "loss: 2.645073 [6400/40000]\n",
      "loss: 2.290902 [12800/40000]\n",
      "loss: 1.833744 [19200/40000]\n",
      "loss: 2.192135 [25600/40000]\n",
      "loss: 1.859888 [32000/40000]\n",
      "loss: 2.006289 [38400/40000]\n",
      "Test Error: \n",
      " Accuracy: 34.9%, Avg loss: 2.527740\n",
      "\n",
      "loss: 1.948048 [0/40000]\n",
      "loss: 1.672413 [6400/40000]\n",
      "loss: 2.103828 [12800/40000]\n",
      "loss: 2.054065 [19200/40000]\n",
      "loss: 1.877201 [25600/40000]\n",
      "loss: 2.020069 [32000/40000]\n",
      "loss: 1.717150 [38400/40000]\n",
      "Test Error: \n",
      " Accuracy: 43.7%, Avg loss: 2.058472\n",
      "\n"
     ]
    },
    {
     "data": {
      "application/vnd.jupyter.widget-view+json": {
       "model_id": "",
       "version_major": 2,
       "version_minor": 0
      },
      "text/plain": [
       "VBox(children=(Label(value='0.001 MB of 0.001 MB uploaded\\r'), FloatProgress(value=1.0, max=1.0)))"
      ]
     },
     "metadata": {},
     "output_type": "display_data"
    },
    {
     "data": {
      "text/html": [
       "<style>\n",
       "    table.wandb td:nth-child(1) { padding: 0 10px; text-align: left ; width: auto;} td:nth-child(2) {text-align: left ; width: 100%}\n",
       "    .wandb-row { display: flex; flex-direction: row; flex-wrap: wrap; justify-content: flex-start; width: 100% }\n",
       "    .wandb-col { display: flex; flex-direction: column; flex-basis: 100%; flex: 1; padding: 10px; }\n",
       "    </style>\n",
       "<div class=\"wandb-row\"><div class=\"wandb-col\"><h3>Run history:</h3><br/><table class=\"wandb\"><tr><td>epoch</td><td>▁▃▅▆█</td></tr><tr><td>val_accuracy</td><td>▁▄▆▆█</td></tr><tr><td>val_loss</td><td>█▅▃▃▁</td></tr></table><br/></div><div class=\"wandb-col\"><h3>Run summary:</h3><br/><table class=\"wandb\"><tr><td>epoch</td><td>5</td></tr><tr><td>val_accuracy</td><td>43.74</td></tr><tr><td>val_loss</td><td>2.05847</td></tr></table><br/></div></div>"
      ],
      "text/plain": [
       "<IPython.core.display.HTML object>"
      ]
     },
     "metadata": {},
     "output_type": "display_data"
    },
    {
     "data": {
      "text/html": [
       " View run <strong style=\"color:#cdcd00\">soft-sweep-16</strong> at: <a href='https://wandb.ai/ns24z093/distillation/runs/x69696ex/workspace' target=\"_blank\">https://wandb.ai/ns24z093/distillation/runs/x69696ex/workspace</a><br/>Synced 6 W&B file(s), 0 media file(s), 0 artifact file(s) and 0 other file(s)"
      ],
      "text/plain": [
       "<IPython.core.display.HTML object>"
      ]
     },
     "metadata": {},
     "output_type": "display_data"
    },
    {
     "data": {
      "text/html": [
       "Find logs at: <code>./wandb/run-20241121_062046-x69696ex/logs</code>"
      ],
      "text/plain": [
       "<IPython.core.display.HTML object>"
      ]
     },
     "metadata": {},
     "output_type": "display_data"
    },
    {
     "name": "stderr",
     "output_type": "stream",
     "text": [
      "\u001b[34m\u001b[1mwandb\u001b[0m: Sweep Agent: Waiting for job.\n",
      "\u001b[34m\u001b[1mwandb\u001b[0m: Job received.\n",
      "\u001b[34m\u001b[1mwandb\u001b[0m: Agent Starting Run: s16ff9yc with config:\n",
      "\u001b[34m\u001b[1mwandb\u001b[0m: \talpha: 0.5\n",
      "\u001b[34m\u001b[1mwandb\u001b[0m: \tbottleneck: True\n",
      "\u001b[34m\u001b[1mwandb\u001b[0m: \tdropout: 0.3\n",
      "\u001b[34m\u001b[1mwandb\u001b[0m: \tgrowth_rate: 18\n",
      "\u001b[34m\u001b[1mwandb\u001b[0m: \tlearning_rate: 0.05\n",
      "\u001b[34m\u001b[1mwandb\u001b[0m: \tlr_gamma: 0.3\n",
      "\u001b[34m\u001b[1mwandb\u001b[0m: \toptimizer: SGD\n",
      "\u001b[34m\u001b[1mwandb\u001b[0m: \ttemperature: 0.5\n",
      "\u001b[34m\u001b[1mwandb\u001b[0m: \tweight_decay: 1e-05\n"
     ]
    },
    {
     "data": {
      "application/vnd.jupyter.widget-view+json": {
       "model_id": "3b17a2f493c647d8b46242db75bd4078",
       "version_major": 2,
       "version_minor": 0
      },
      "text/plain": [
       "VBox(children=(Label(value='Waiting for wandb.init()...\\r'), FloatProgress(value=0.011223520366669012, max=1.0…"
      ]
     },
     "metadata": {},
     "output_type": "display_data"
    },
    {
     "data": {
      "text/html": [
       "wandb version 0.18.7 is available!  To upgrade, please run:\n",
       " $ pip install wandb --upgrade"
      ],
      "text/plain": [
       "<IPython.core.display.HTML object>"
      ]
     },
     "metadata": {},
     "output_type": "display_data"
    },
    {
     "data": {
      "text/html": [
       "Tracking run with wandb version 0.16.5"
      ],
      "text/plain": [
       "<IPython.core.display.HTML object>"
      ]
     },
     "metadata": {},
     "output_type": "display_data"
    },
    {
     "data": {
      "text/html": [
       "Run data is saved locally in <code>/Users/revanth/Documents/Assignments/CV/TPA/wandb/run-20241121_064742-s16ff9yc</code>"
      ],
      "text/plain": [
       "<IPython.core.display.HTML object>"
      ]
     },
     "metadata": {},
     "output_type": "display_data"
    },
    {
     "data": {
      "text/html": [
       "Syncing run <strong><a href='https://wandb.ai/ns24z093/distillation/runs/s16ff9yc/workspace' target=\"_blank\">fallen-sweep-17</a></strong> to <a href='https://wandb.ai/ns24z093/distillation' target=\"_blank\">Weights & Biases</a> (<a href='https://wandb.me/run' target=\"_blank\">docs</a>)<br/>Sweep page: <a href='https://wandb.ai/ns24z093/distillation/sweeps/sk61moht' target=\"_blank\">https://wandb.ai/ns24z093/distillation/sweeps/sk61moht</a>"
      ],
      "text/plain": [
       "<IPython.core.display.HTML object>"
      ]
     },
     "metadata": {},
     "output_type": "display_data"
    },
    {
     "data": {
      "text/html": [
       " View project at <a href='https://wandb.ai/ns24z093/distillation' target=\"_blank\">https://wandb.ai/ns24z093/distillation</a>"
      ],
      "text/plain": [
       "<IPython.core.display.HTML object>"
      ]
     },
     "metadata": {},
     "output_type": "display_data"
    },
    {
     "data": {
      "text/html": [
       " View sweep at <a href='https://wandb.ai/ns24z093/distillation/sweeps/sk61moht' target=\"_blank\">https://wandb.ai/ns24z093/distillation/sweeps/sk61moht</a>"
      ],
      "text/plain": [
       "<IPython.core.display.HTML object>"
      ]
     },
     "metadata": {},
     "output_type": "display_data"
    },
    {
     "data": {
      "text/html": [
       " View run at <a href='https://wandb.ai/ns24z093/distillation/runs/s16ff9yc/workspace' target=\"_blank\">https://wandb.ai/ns24z093/distillation/runs/s16ff9yc/workspace</a>"
      ],
      "text/plain": [
       "<IPython.core.display.HTML object>"
      ]
     },
     "metadata": {},
     "output_type": "display_data"
    },
    {
     "name": "stdout",
     "output_type": "stream",
     "text": [
      "Run name:  SGD / lr_0.05 / alpha_0.5 / dropout_0.3 / growth_18 / bottleneck_True / lr_gamma_0.3 / temp_0.5 / weight_decay_1e-05\n",
      "loss: 2.952329 [0/40000]\n",
      "loss: 2.611945 [6400/40000]\n",
      "loss: 2.471727 [12800/40000]\n",
      "loss: 2.477351 [19200/40000]\n",
      "loss: 2.259022 [25600/40000]\n",
      "loss: 2.255201 [32000/40000]\n",
      "loss: 2.209257 [38400/40000]\n",
      "Test Error: \n",
      " Accuracy: 17.8%, Avg loss: 3.402300\n",
      "\n",
      "loss: 2.236706 [0/40000]\n",
      "loss: 2.104675 [6400/40000]\n",
      "loss: 1.876648 [12800/40000]\n",
      "loss: 1.893790 [19200/40000]\n",
      "loss: 1.741797 [25600/40000]\n",
      "loss: 1.837792 [32000/40000]\n",
      "loss: 1.740600 [38400/40000]\n",
      "Test Error: \n",
      " Accuracy: 27.7%, Avg loss: 2.888272\n",
      "\n",
      "loss: 1.874713 [0/40000]\n",
      "loss: 1.761022 [6400/40000]\n",
      "loss: 1.978493 [12800/40000]\n",
      "loss: 1.898691 [19200/40000]\n",
      "loss: 1.590222 [25600/40000]\n",
      "loss: 1.786619 [32000/40000]\n",
      "loss: 1.515616 [38400/40000]\n",
      "Test Error: \n",
      " Accuracy: 30.8%, Avg loss: 2.665944\n",
      "\n",
      "loss: 1.766292 [0/40000]\n",
      "loss: 1.711910 [6400/40000]\n",
      "loss: 1.362355 [12800/40000]\n",
      "loss: 1.615754 [19200/40000]\n",
      "loss: 1.718261 [25600/40000]\n",
      "loss: 1.460195 [32000/40000]\n",
      "loss: 1.435604 [38400/40000]\n",
      "Test Error: \n",
      " Accuracy: 40.5%, Avg loss: 2.237900\n",
      "\n",
      "loss: 1.476886 [0/40000]\n",
      "loss: 1.573366 [6400/40000]\n",
      "loss: 1.592510 [12800/40000]\n",
      "loss: 1.591077 [19200/40000]\n",
      "loss: 1.364726 [25600/40000]\n",
      "loss: 1.324834 [32000/40000]\n",
      "loss: 1.341637 [38400/40000]\n",
      "Test Error: \n",
      " Accuracy: 44.9%, Avg loss: 2.052499\n",
      "\n"
     ]
    },
    {
     "data": {
      "application/vnd.jupyter.widget-view+json": {
       "model_id": "",
       "version_major": 2,
       "version_minor": 0
      },
      "text/plain": [
       "VBox(children=(Label(value='0.001 MB of 0.001 MB uploaded\\r'), FloatProgress(value=1.0, max=1.0)))"
      ]
     },
     "metadata": {},
     "output_type": "display_data"
    },
    {
     "data": {
      "text/html": [
       "<style>\n",
       "    table.wandb td:nth-child(1) { padding: 0 10px; text-align: left ; width: auto;} td:nth-child(2) {text-align: left ; width: 100%}\n",
       "    .wandb-row { display: flex; flex-direction: row; flex-wrap: wrap; justify-content: flex-start; width: 100% }\n",
       "    .wandb-col { display: flex; flex-direction: column; flex-basis: 100%; flex: 1; padding: 10px; }\n",
       "    </style>\n",
       "<div class=\"wandb-row\"><div class=\"wandb-col\"><h3>Run history:</h3><br/><table class=\"wandb\"><tr><td>epoch</td><td>▁▃▅▆█</td></tr><tr><td>val_accuracy</td><td>▁▄▄▇█</td></tr><tr><td>val_loss</td><td>█▅▄▂▁</td></tr></table><br/></div><div class=\"wandb-col\"><h3>Run summary:</h3><br/><table class=\"wandb\"><tr><td>epoch</td><td>5</td></tr><tr><td>val_accuracy</td><td>44.92</td></tr><tr><td>val_loss</td><td>2.0525</td></tr></table><br/></div></div>"
      ],
      "text/plain": [
       "<IPython.core.display.HTML object>"
      ]
     },
     "metadata": {},
     "output_type": "display_data"
    },
    {
     "data": {
      "text/html": [
       " View run <strong style=\"color:#cdcd00\">fallen-sweep-17</strong> at: <a href='https://wandb.ai/ns24z093/distillation/runs/s16ff9yc/workspace' target=\"_blank\">https://wandb.ai/ns24z093/distillation/runs/s16ff9yc/workspace</a><br/>Synced 6 W&B file(s), 0 media file(s), 0 artifact file(s) and 0 other file(s)"
      ],
      "text/plain": [
       "<IPython.core.display.HTML object>"
      ]
     },
     "metadata": {},
     "output_type": "display_data"
    },
    {
     "data": {
      "text/html": [
       "Find logs at: <code>./wandb/run-20241121_064742-s16ff9yc/logs</code>"
      ],
      "text/plain": [
       "<IPython.core.display.HTML object>"
      ]
     },
     "metadata": {},
     "output_type": "display_data"
    },
    {
     "name": "stderr",
     "output_type": "stream",
     "text": [
      "\u001b[34m\u001b[1mwandb\u001b[0m: Agent Starting Run: 30sml0az with config:\n",
      "\u001b[34m\u001b[1mwandb\u001b[0m: \talpha: 0.5\n",
      "\u001b[34m\u001b[1mwandb\u001b[0m: \tbottleneck: True\n",
      "\u001b[34m\u001b[1mwandb\u001b[0m: \tdropout: 0.3\n",
      "\u001b[34m\u001b[1mwandb\u001b[0m: \tgrowth_rate: 18\n",
      "\u001b[34m\u001b[1mwandb\u001b[0m: \tlearning_rate: 0.05\n",
      "\u001b[34m\u001b[1mwandb\u001b[0m: \tlr_gamma: 0.3\n",
      "\u001b[34m\u001b[1mwandb\u001b[0m: \toptimizer: SGD\n",
      "\u001b[34m\u001b[1mwandb\u001b[0m: \ttemperature: 0.3\n",
      "\u001b[34m\u001b[1mwandb\u001b[0m: \tweight_decay: 4e-05\n"
     ]
    },
    {
     "data": {
      "application/vnd.jupyter.widget-view+json": {
       "model_id": "959361fb115646b5868c8ecbf7bf38e8",
       "version_major": 2,
       "version_minor": 0
      },
      "text/plain": [
       "VBox(children=(Label(value='Waiting for wandb.init()...\\r'), FloatProgress(value=0.011223344444361929, max=1.0…"
      ]
     },
     "metadata": {},
     "output_type": "display_data"
    },
    {
     "data": {
      "text/html": [
       "wandb version 0.18.7 is available!  To upgrade, please run:\n",
       " $ pip install wandb --upgrade"
      ],
      "text/plain": [
       "<IPython.core.display.HTML object>"
      ]
     },
     "metadata": {},
     "output_type": "display_data"
    },
    {
     "data": {
      "text/html": [
       "Tracking run with wandb version 0.16.5"
      ],
      "text/plain": [
       "<IPython.core.display.HTML object>"
      ]
     },
     "metadata": {},
     "output_type": "display_data"
    },
    {
     "data": {
      "text/html": [
       "Run data is saved locally in <code>/Users/revanth/Documents/Assignments/CV/TPA/wandb/run-20241121_071432-30sml0az</code>"
      ],
      "text/plain": [
       "<IPython.core.display.HTML object>"
      ]
     },
     "metadata": {},
     "output_type": "display_data"
    },
    {
     "data": {
      "text/html": [
       "Syncing run <strong><a href='https://wandb.ai/ns24z093/distillation/runs/30sml0az/workspace' target=\"_blank\">jolly-sweep-18</a></strong> to <a href='https://wandb.ai/ns24z093/distillation' target=\"_blank\">Weights & Biases</a> (<a href='https://wandb.me/run' target=\"_blank\">docs</a>)<br/>Sweep page: <a href='https://wandb.ai/ns24z093/distillation/sweeps/sk61moht' target=\"_blank\">https://wandb.ai/ns24z093/distillation/sweeps/sk61moht</a>"
      ],
      "text/plain": [
       "<IPython.core.display.HTML object>"
      ]
     },
     "metadata": {},
     "output_type": "display_data"
    },
    {
     "data": {
      "text/html": [
       " View project at <a href='https://wandb.ai/ns24z093/distillation' target=\"_blank\">https://wandb.ai/ns24z093/distillation</a>"
      ],
      "text/plain": [
       "<IPython.core.display.HTML object>"
      ]
     },
     "metadata": {},
     "output_type": "display_data"
    },
    {
     "data": {
      "text/html": [
       " View sweep at <a href='https://wandb.ai/ns24z093/distillation/sweeps/sk61moht' target=\"_blank\">https://wandb.ai/ns24z093/distillation/sweeps/sk61moht</a>"
      ],
      "text/plain": [
       "<IPython.core.display.HTML object>"
      ]
     },
     "metadata": {},
     "output_type": "display_data"
    },
    {
     "data": {
      "text/html": [
       " View run at <a href='https://wandb.ai/ns24z093/distillation/runs/30sml0az/workspace' target=\"_blank\">https://wandb.ai/ns24z093/distillation/runs/30sml0az/workspace</a>"
      ],
      "text/plain": [
       "<IPython.core.display.HTML object>"
      ]
     },
     "metadata": {},
     "output_type": "display_data"
    },
    {
     "name": "stdout",
     "output_type": "stream",
     "text": [
      "Run name:  SGD / lr_0.05 / alpha_0.5 / dropout_0.3 / growth_18 / bottleneck_True / lr_gamma_0.3 / temp_0.3 / weight_decay_4e-05\n",
      "loss: 2.552216 [0/40000]\n",
      "loss: 2.447219 [6400/40000]\n",
      "loss: 2.279592 [12800/40000]\n",
      "loss: 2.117611 [19200/40000]\n",
      "loss: 2.109565 [25600/40000]\n",
      "loss: 2.256026 [32000/40000]\n",
      "loss: 2.000983 [38400/40000]\n",
      "Test Error: \n",
      " Accuracy: 12.6%, Avg loss: 3.736635\n",
      "\n",
      "loss: 2.092804 [0/40000]\n",
      "loss: 1.954897 [6400/40000]\n",
      "loss: 1.851500 [12800/40000]\n",
      "loss: 1.972035 [19200/40000]\n",
      "loss: 1.835198 [25600/40000]\n",
      "loss: 1.703855 [32000/40000]\n",
      "loss: 1.775987 [38400/40000]\n",
      "Test Error: \n",
      " Accuracy: 21.9%, Avg loss: 3.133246\n",
      "\n",
      "loss: 1.733083 [0/40000]\n",
      "loss: 1.530245 [6400/40000]\n",
      "loss: 1.568824 [12800/40000]\n",
      "loss: 1.592893 [19200/40000]\n",
      "loss: 1.596741 [25600/40000]\n",
      "loss: 1.879893 [32000/40000]\n",
      "loss: 1.369430 [38400/40000]\n",
      "Test Error: \n",
      " Accuracy: 31.9%, Avg loss: 2.634771\n",
      "\n",
      "loss: 1.526479 [0/40000]\n",
      "loss: 1.535437 [6400/40000]\n",
      "loss: 1.445748 [12800/40000]\n",
      "loss: 1.224848 [19200/40000]\n",
      "loss: 1.173769 [25600/40000]\n",
      "loss: 1.585864 [32000/40000]\n",
      "loss: 1.429729 [38400/40000]\n",
      "Test Error: \n",
      " Accuracy: 38.1%, Avg loss: 2.348639\n",
      "\n",
      "loss: 1.251199 [0/40000]\n",
      "loss: 1.234597 [6400/40000]\n",
      "loss: 1.344402 [12800/40000]\n",
      "loss: 1.393151 [19200/40000]\n",
      "loss: 1.403179 [25600/40000]\n",
      "loss: 1.166747 [32000/40000]\n",
      "loss: 1.087376 [38400/40000]\n",
      "Test Error: \n",
      " Accuracy: 44.0%, Avg loss: 2.100028\n",
      "\n"
     ]
    },
    {
     "data": {
      "application/vnd.jupyter.widget-view+json": {
       "model_id": "",
       "version_major": 2,
       "version_minor": 0
      },
      "text/plain": [
       "VBox(children=(Label(value='0.001 MB of 0.013 MB uploaded\\r'), FloatProgress(value=0.07367296045600286, max=1.…"
      ]
     },
     "metadata": {},
     "output_type": "display_data"
    },
    {
     "data": {
      "text/html": [
       "<style>\n",
       "    table.wandb td:nth-child(1) { padding: 0 10px; text-align: left ; width: auto;} td:nth-child(2) {text-align: left ; width: 100%}\n",
       "    .wandb-row { display: flex; flex-direction: row; flex-wrap: wrap; justify-content: flex-start; width: 100% }\n",
       "    .wandb-col { display: flex; flex-direction: column; flex-basis: 100%; flex: 1; padding: 10px; }\n",
       "    </style>\n",
       "<div class=\"wandb-row\"><div class=\"wandb-col\"><h3>Run history:</h3><br/><table class=\"wandb\"><tr><td>epoch</td><td>▁▃▅▆█</td></tr><tr><td>val_accuracy</td><td>▁▃▅▇█</td></tr><tr><td>val_loss</td><td>█▅▃▂▁</td></tr></table><br/></div><div class=\"wandb-col\"><h3>Run summary:</h3><br/><table class=\"wandb\"><tr><td>epoch</td><td>5</td></tr><tr><td>val_accuracy</td><td>43.95</td></tr><tr><td>val_loss</td><td>2.10003</td></tr></table><br/></div></div>"
      ],
      "text/plain": [
       "<IPython.core.display.HTML object>"
      ]
     },
     "metadata": {},
     "output_type": "display_data"
    },
    {
     "data": {
      "text/html": [
       " View run <strong style=\"color:#cdcd00\">jolly-sweep-18</strong> at: <a href='https://wandb.ai/ns24z093/distillation/runs/30sml0az/workspace' target=\"_blank\">https://wandb.ai/ns24z093/distillation/runs/30sml0az/workspace</a><br/>Synced 6 W&B file(s), 0 media file(s), 0 artifact file(s) and 0 other file(s)"
      ],
      "text/plain": [
       "<IPython.core.display.HTML object>"
      ]
     },
     "metadata": {},
     "output_type": "display_data"
    },
    {
     "data": {
      "text/html": [
       "Find logs at: <code>./wandb/run-20241121_071432-30sml0az/logs</code>"
      ],
      "text/plain": [
       "<IPython.core.display.HTML object>"
      ]
     },
     "metadata": {},
     "output_type": "display_data"
    },
    {
     "name": "stderr",
     "output_type": "stream",
     "text": [
      "\u001b[34m\u001b[1mwandb\u001b[0m: Sweep Agent: Waiting for job.\n",
      "\u001b[34m\u001b[1mwandb\u001b[0m: Job received.\n",
      "\u001b[34m\u001b[1mwandb\u001b[0m: Agent Starting Run: f7j5011f with config:\n",
      "\u001b[34m\u001b[1mwandb\u001b[0m: \talpha: 0.9\n",
      "\u001b[34m\u001b[1mwandb\u001b[0m: \tbottleneck: True\n",
      "\u001b[34m\u001b[1mwandb\u001b[0m: \tdropout: 0.2\n",
      "\u001b[34m\u001b[1mwandb\u001b[0m: \tgrowth_rate: 18\n",
      "\u001b[34m\u001b[1mwandb\u001b[0m: \tlearning_rate: 0.05\n",
      "\u001b[34m\u001b[1mwandb\u001b[0m: \tlr_gamma: 0.3\n",
      "\u001b[34m\u001b[1mwandb\u001b[0m: \toptimizer: SGD\n",
      "\u001b[34m\u001b[1mwandb\u001b[0m: \ttemperature: 0.5\n",
      "\u001b[34m\u001b[1mwandb\u001b[0m: \tweight_decay: 4e-05\n"
     ]
    },
    {
     "data": {
      "application/vnd.jupyter.widget-view+json": {
       "model_id": "c5ea26018cde4556a36544c4f36d52c4",
       "version_major": 2,
       "version_minor": 0
      },
      "text/plain": [
       "VBox(children=(Label(value='Waiting for wandb.init()...\\r'), FloatProgress(value=0.011223273144181197, max=1.0…"
      ]
     },
     "metadata": {},
     "output_type": "display_data"
    },
    {
     "data": {
      "text/html": [
       "wandb version 0.18.7 is available!  To upgrade, please run:\n",
       " $ pip install wandb --upgrade"
      ],
      "text/plain": [
       "<IPython.core.display.HTML object>"
      ]
     },
     "metadata": {},
     "output_type": "display_data"
    },
    {
     "data": {
      "text/html": [
       "Tracking run with wandb version 0.16.5"
      ],
      "text/plain": [
       "<IPython.core.display.HTML object>"
      ]
     },
     "metadata": {},
     "output_type": "display_data"
    },
    {
     "data": {
      "text/html": [
       "Run data is saved locally in <code>/Users/revanth/Documents/Assignments/CV/TPA/wandb/run-20241121_074130-f7j5011f</code>"
      ],
      "text/plain": [
       "<IPython.core.display.HTML object>"
      ]
     },
     "metadata": {},
     "output_type": "display_data"
    },
    {
     "data": {
      "text/html": [
       "Syncing run <strong><a href='https://wandb.ai/ns24z093/distillation/runs/f7j5011f/workspace' target=\"_blank\">faithful-sweep-18</a></strong> to <a href='https://wandb.ai/ns24z093/distillation' target=\"_blank\">Weights & Biases</a> (<a href='https://wandb.me/run' target=\"_blank\">docs</a>)<br/>Sweep page: <a href='https://wandb.ai/ns24z093/distillation/sweeps/sk61moht' target=\"_blank\">https://wandb.ai/ns24z093/distillation/sweeps/sk61moht</a>"
      ],
      "text/plain": [
       "<IPython.core.display.HTML object>"
      ]
     },
     "metadata": {},
     "output_type": "display_data"
    },
    {
     "data": {
      "text/html": [
       " View project at <a href='https://wandb.ai/ns24z093/distillation' target=\"_blank\">https://wandb.ai/ns24z093/distillation</a>"
      ],
      "text/plain": [
       "<IPython.core.display.HTML object>"
      ]
     },
     "metadata": {},
     "output_type": "display_data"
    },
    {
     "data": {
      "text/html": [
       " View sweep at <a href='https://wandb.ai/ns24z093/distillation/sweeps/sk61moht' target=\"_blank\">https://wandb.ai/ns24z093/distillation/sweeps/sk61moht</a>"
      ],
      "text/plain": [
       "<IPython.core.display.HTML object>"
      ]
     },
     "metadata": {},
     "output_type": "display_data"
    },
    {
     "data": {
      "text/html": [
       " View run at <a href='https://wandb.ai/ns24z093/distillation/runs/f7j5011f/workspace' target=\"_blank\">https://wandb.ai/ns24z093/distillation/runs/f7j5011f/workspace</a>"
      ],
      "text/plain": [
       "<IPython.core.display.HTML object>"
      ]
     },
     "metadata": {},
     "output_type": "display_data"
    },
    {
     "name": "stdout",
     "output_type": "stream",
     "text": [
      "Run name:  SGD / lr_0.05 / alpha_0.9 / dropout_0.2 / growth_18 / bottleneck_True / lr_gamma_0.3 / temp_0.5 / weight_decay_4e-05\n",
      "loss: 4.346490 [0/40000]\n",
      "loss: 3.949597 [6400/40000]\n",
      "loss: 4.012076 [12800/40000]\n",
      "loss: 3.475628 [19200/40000]\n",
      "loss: 3.366695 [25600/40000]\n",
      "loss: 3.403450 [32000/40000]\n",
      "loss: 3.146581 [38400/40000]\n",
      "Test Error: \n",
      " Accuracy: 16.1%, Avg loss: 3.453281\n",
      "\n",
      "loss: 3.222385 [0/40000]\n",
      "loss: 3.340034 [6400/40000]\n",
      "loss: 2.798954 [12800/40000]\n",
      "loss: 2.855089 [19200/40000]\n",
      "loss: 3.130921 [25600/40000]\n",
      "loss: 2.902505 [32000/40000]\n",
      "loss: 2.543183 [38400/40000]\n",
      "Test Error: \n",
      " Accuracy: 25.9%, Avg loss: 2.962364\n",
      "\n",
      "loss: 2.534345 [0/40000]\n",
      "loss: 2.421487 [6400/40000]\n",
      "loss: 2.032638 [12800/40000]\n",
      "loss: 2.509492 [19200/40000]\n",
      "loss: 2.317562 [25600/40000]\n",
      "loss: 2.076983 [32000/40000]\n",
      "loss: 2.417805 [38400/40000]\n",
      "Test Error: \n",
      " Accuracy: 35.7%, Avg loss: 2.433757\n",
      "\n",
      "loss: 2.363886 [0/40000]\n",
      "loss: 2.245544 [6400/40000]\n",
      "loss: 2.335655 [12800/40000]\n",
      "loss: 2.031116 [19200/40000]\n",
      "loss: 2.299143 [25600/40000]\n",
      "loss: 2.246092 [32000/40000]\n",
      "loss: 2.407064 [38400/40000]\n",
      "Test Error: \n",
      " Accuracy: 42.7%, Avg loss: 2.095333\n",
      "\n",
      "loss: 2.183979 [0/40000]\n",
      "loss: 2.039510 [6400/40000]\n",
      "loss: 2.191033 [12800/40000]\n",
      "loss: 2.006752 [19200/40000]\n",
      "loss: 1.969804 [25600/40000]\n",
      "loss: 1.995551 [32000/40000]\n",
      "loss: 1.576458 [38400/40000]\n",
      "Test Error: \n",
      " Accuracy: 44.6%, Avg loss: 2.033049\n",
      "\n"
     ]
    },
    {
     "data": {
      "application/vnd.jupyter.widget-view+json": {
       "model_id": "",
       "version_major": 2,
       "version_minor": 0
      },
      "text/plain": [
       "VBox(children=(Label(value='0.001 MB of 0.001 MB uploaded\\r'), FloatProgress(value=1.0, max=1.0)))"
      ]
     },
     "metadata": {},
     "output_type": "display_data"
    },
    {
     "data": {
      "text/html": [
       "<style>\n",
       "    table.wandb td:nth-child(1) { padding: 0 10px; text-align: left ; width: auto;} td:nth-child(2) {text-align: left ; width: 100%}\n",
       "    .wandb-row { display: flex; flex-direction: row; flex-wrap: wrap; justify-content: flex-start; width: 100% }\n",
       "    .wandb-col { display: flex; flex-direction: column; flex-basis: 100%; flex: 1; padding: 10px; }\n",
       "    </style>\n",
       "<div class=\"wandb-row\"><div class=\"wandb-col\"><h3>Run history:</h3><br/><table class=\"wandb\"><tr><td>epoch</td><td>▁▃▅▆█</td></tr><tr><td>val_accuracy</td><td>▁▃▆██</td></tr><tr><td>val_loss</td><td>█▆▃▁▁</td></tr></table><br/></div><div class=\"wandb-col\"><h3>Run summary:</h3><br/><table class=\"wandb\"><tr><td>epoch</td><td>5</td></tr><tr><td>val_accuracy</td><td>44.5875</td></tr><tr><td>val_loss</td><td>2.03305</td></tr></table><br/></div></div>"
      ],
      "text/plain": [
       "<IPython.core.display.HTML object>"
      ]
     },
     "metadata": {},
     "output_type": "display_data"
    },
    {
     "data": {
      "text/html": [
       " View run <strong style=\"color:#cdcd00\">faithful-sweep-18</strong> at: <a href='https://wandb.ai/ns24z093/distillation/runs/f7j5011f/workspace' target=\"_blank\">https://wandb.ai/ns24z093/distillation/runs/f7j5011f/workspace</a><br/>Synced 6 W&B file(s), 0 media file(s), 0 artifact file(s) and 0 other file(s)"
      ],
      "text/plain": [
       "<IPython.core.display.HTML object>"
      ]
     },
     "metadata": {},
     "output_type": "display_data"
    },
    {
     "data": {
      "text/html": [
       "Find logs at: <code>./wandb/run-20241121_074130-f7j5011f/logs</code>"
      ],
      "text/plain": [
       "<IPython.core.display.HTML object>"
      ]
     },
     "metadata": {},
     "output_type": "display_data"
    },
    {
     "name": "stderr",
     "output_type": "stream",
     "text": [
      "\u001b[34m\u001b[1mwandb\u001b[0m: Agent Starting Run: 7xjqzuq7 with config:\n",
      "\u001b[34m\u001b[1mwandb\u001b[0m: \talpha: 0.9\n",
      "\u001b[34m\u001b[1mwandb\u001b[0m: \tbottleneck: False\n",
      "\u001b[34m\u001b[1mwandb\u001b[0m: \tdropout: 0.2\n",
      "\u001b[34m\u001b[1mwandb\u001b[0m: \tgrowth_rate: 18\n",
      "\u001b[34m\u001b[1mwandb\u001b[0m: \tlearning_rate: 0.05\n",
      "\u001b[34m\u001b[1mwandb\u001b[0m: \tlr_gamma: 0.3\n",
      "\u001b[34m\u001b[1mwandb\u001b[0m: \toptimizer: SGD\n",
      "\u001b[34m\u001b[1mwandb\u001b[0m: \ttemperature: 0.3\n",
      "\u001b[34m\u001b[1mwandb\u001b[0m: \tweight_decay: 1e-05\n"
     ]
    },
    {
     "data": {
      "application/vnd.jupyter.widget-view+json": {
       "model_id": "9553c841a05e45dfaf552aceb5295d00",
       "version_major": 2,
       "version_minor": 0
      },
      "text/plain": [
       "VBox(children=(Label(value='Waiting for wandb.init()...\\r'), FloatProgress(value=0.01122382037768451, max=1.0)…"
      ]
     },
     "metadata": {},
     "output_type": "display_data"
    },
    {
     "data": {
      "text/html": [
       "wandb version 0.18.7 is available!  To upgrade, please run:\n",
       " $ pip install wandb --upgrade"
      ],
      "text/plain": [
       "<IPython.core.display.HTML object>"
      ]
     },
     "metadata": {},
     "output_type": "display_data"
    },
    {
     "data": {
      "text/html": [
       "Tracking run with wandb version 0.16.5"
      ],
      "text/plain": [
       "<IPython.core.display.HTML object>"
      ]
     },
     "metadata": {},
     "output_type": "display_data"
    },
    {
     "data": {
      "text/html": [
       "Run data is saved locally in <code>/Users/revanth/Documents/Assignments/CV/TPA/wandb/run-20241121_080832-7xjqzuq7</code>"
      ],
      "text/plain": [
       "<IPython.core.display.HTML object>"
      ]
     },
     "metadata": {},
     "output_type": "display_data"
    },
    {
     "data": {
      "text/html": [
       "Syncing run <strong><a href='https://wandb.ai/ns24z093/distillation/runs/7xjqzuq7/workspace' target=\"_blank\">breezy-sweep-19</a></strong> to <a href='https://wandb.ai/ns24z093/distillation' target=\"_blank\">Weights & Biases</a> (<a href='https://wandb.me/run' target=\"_blank\">docs</a>)<br/>Sweep page: <a href='https://wandb.ai/ns24z093/distillation/sweeps/sk61moht' target=\"_blank\">https://wandb.ai/ns24z093/distillation/sweeps/sk61moht</a>"
      ],
      "text/plain": [
       "<IPython.core.display.HTML object>"
      ]
     },
     "metadata": {},
     "output_type": "display_data"
    },
    {
     "data": {
      "text/html": [
       " View project at <a href='https://wandb.ai/ns24z093/distillation' target=\"_blank\">https://wandb.ai/ns24z093/distillation</a>"
      ],
      "text/plain": [
       "<IPython.core.display.HTML object>"
      ]
     },
     "metadata": {},
     "output_type": "display_data"
    },
    {
     "data": {
      "text/html": [
       " View sweep at <a href='https://wandb.ai/ns24z093/distillation/sweeps/sk61moht' target=\"_blank\">https://wandb.ai/ns24z093/distillation/sweeps/sk61moht</a>"
      ],
      "text/plain": [
       "<IPython.core.display.HTML object>"
      ]
     },
     "metadata": {},
     "output_type": "display_data"
    },
    {
     "data": {
      "text/html": [
       " View run at <a href='https://wandb.ai/ns24z093/distillation/runs/7xjqzuq7/workspace' target=\"_blank\">https://wandb.ai/ns24z093/distillation/runs/7xjqzuq7/workspace</a>"
      ],
      "text/plain": [
       "<IPython.core.display.HTML object>"
      ]
     },
     "metadata": {},
     "output_type": "display_data"
    },
    {
     "name": "stdout",
     "output_type": "stream",
     "text": [
      "Run name:  SGD / lr_0.05 / alpha_0.9 / dropout_0.2 / growth_18 / bottleneck_False / lr_gamma_0.3 / temp_0.3 / weight_decay_1e-05\n",
      "loss: 4.231745 [0/40000]\n",
      "loss: 3.834834 [6400/40000]\n"
     ]
    },
    {
     "name": "stderr",
     "output_type": "stream",
     "text": [
      "wandb: Network error (ConnectionError), entering retry loop.\n"
     ]
    },
    {
     "name": "stdout",
     "output_type": "stream",
     "text": [
      "loss: 3.549063 [12800/40000]\n"
     ]
    },
    {
     "name": "stderr",
     "output_type": "stream",
     "text": [
      "\u001b[34m\u001b[1mwandb\u001b[0m: Network error (ConnectionError), entering retry loop.\n"
     ]
    },
    {
     "name": "stdout",
     "output_type": "stream",
     "text": [
      "loss: 3.414405 [19200/40000]\n",
      "loss: 3.266970 [25600/40000]\n",
      "loss: 3.392025 [32000/40000]\n",
      "loss: 3.233953 [38400/40000]\n",
      "Test Error: \n",
      " Accuracy: 14.4%, Avg loss: 3.638867\n",
      "\n",
      "loss: 3.145591 [0/40000]\n",
      "loss: 3.006533 [6400/40000]\n",
      "loss: 2.961030 [12800/40000]\n",
      "loss: 2.820025 [19200/40000]\n",
      "loss: 2.588237 [25600/40000]\n",
      "loss: 2.584831 [32000/40000]\n",
      "loss: 2.432291 [38400/40000]\n",
      "Test Error: \n",
      " Accuracy: 27.5%, Avg loss: 2.827490\n",
      "\n",
      "loss: 2.347822 [0/40000]\n",
      "loss: 2.163829 [6400/40000]\n",
      "loss: 2.555655 [12800/40000]\n",
      "loss: 2.176779 [19200/40000]\n",
      "loss: 2.355064 [25600/40000]\n",
      "loss: 2.485780 [32000/40000]\n",
      "loss: 2.296734 [38400/40000]\n",
      "Test Error: \n",
      " Accuracy: 34.7%, Avg loss: 2.478217\n",
      "\n",
      "loss: 2.397866 [0/40000]\n",
      "loss: 1.839357 [6400/40000]\n",
      "loss: 2.111107 [12800/40000]\n",
      "loss: 2.167364 [19200/40000]\n",
      "loss: 2.302803 [25600/40000]\n",
      "loss: 1.910862 [32000/40000]\n",
      "loss: 2.020895 [38400/40000]\n",
      "Test Error: \n",
      " Accuracy: 42.2%, Avg loss: 2.132821\n",
      "\n",
      "loss: 1.658976 [0/40000]\n",
      "loss: 1.884217 [6400/40000]\n",
      "loss: 1.853250 [12800/40000]\n",
      "loss: 2.488841 [19200/40000]\n",
      "loss: 1.646747 [25600/40000]\n",
      "loss: 1.663085 [32000/40000]\n",
      "loss: 1.948806 [38400/40000]\n",
      "Test Error: \n",
      " Accuracy: 48.0%, Avg loss: 1.872984\n",
      "\n"
     ]
    },
    {
     "data": {
      "application/vnd.jupyter.widget-view+json": {
       "model_id": "",
       "version_major": 2,
       "version_minor": 0
      },
      "text/plain": [
       "VBox(children=(Label(value='0.001 MB of 0.001 MB uploaded\\r'), FloatProgress(value=1.0, max=1.0)))"
      ]
     },
     "metadata": {},
     "output_type": "display_data"
    },
    {
     "data": {
      "text/html": [
       "<style>\n",
       "    table.wandb td:nth-child(1) { padding: 0 10px; text-align: left ; width: auto;} td:nth-child(2) {text-align: left ; width: 100%}\n",
       "    .wandb-row { display: flex; flex-direction: row; flex-wrap: wrap; justify-content: flex-start; width: 100% }\n",
       "    .wandb-col { display: flex; flex-direction: column; flex-basis: 100%; flex: 1; padding: 10px; }\n",
       "    </style>\n",
       "<div class=\"wandb-row\"><div class=\"wandb-col\"><h3>Run history:</h3><br/><table class=\"wandb\"><tr><td>epoch</td><td>▁▃▅▆█</td></tr><tr><td>val_accuracy</td><td>▁▄▅▇█</td></tr><tr><td>val_loss</td><td>█▅▃▂▁</td></tr></table><br/></div><div class=\"wandb-col\"><h3>Run summary:</h3><br/><table class=\"wandb\"><tr><td>epoch</td><td>5</td></tr><tr><td>val_accuracy</td><td>47.985</td></tr><tr><td>val_loss</td><td>1.87298</td></tr></table><br/></div></div>"
      ],
      "text/plain": [
       "<IPython.core.display.HTML object>"
      ]
     },
     "metadata": {},
     "output_type": "display_data"
    },
    {
     "data": {
      "text/html": [
       " View run <strong style=\"color:#cdcd00\">breezy-sweep-19</strong> at: <a href='https://wandb.ai/ns24z093/distillation/runs/7xjqzuq7/workspace' target=\"_blank\">https://wandb.ai/ns24z093/distillation/runs/7xjqzuq7/workspace</a><br/>Synced 6 W&B file(s), 0 media file(s), 0 artifact file(s) and 0 other file(s)"
      ],
      "text/plain": [
       "<IPython.core.display.HTML object>"
      ]
     },
     "metadata": {},
     "output_type": "display_data"
    },
    {
     "data": {
      "text/html": [
       "Find logs at: <code>./wandb/run-20241121_080832-7xjqzuq7/logs</code>"
      ],
      "text/plain": [
       "<IPython.core.display.HTML object>"
      ]
     },
     "metadata": {},
     "output_type": "display_data"
    },
    {
     "name": "stderr",
     "output_type": "stream",
     "text": [
      "\u001b[34m\u001b[1mwandb\u001b[0m: Agent Starting Run: m10ylofi with config:\n",
      "\u001b[34m\u001b[1mwandb\u001b[0m: \talpha: 0.9\n",
      "\u001b[34m\u001b[1mwandb\u001b[0m: \tbottleneck: True\n",
      "\u001b[34m\u001b[1mwandb\u001b[0m: \tdropout: 0.2\n",
      "\u001b[34m\u001b[1mwandb\u001b[0m: \tgrowth_rate: 18\n",
      "\u001b[34m\u001b[1mwandb\u001b[0m: \tlearning_rate: 0.1\n",
      "\u001b[34m\u001b[1mwandb\u001b[0m: \tlr_gamma: 0.3\n",
      "\u001b[34m\u001b[1mwandb\u001b[0m: \toptimizer: SGD\n",
      "\u001b[34m\u001b[1mwandb\u001b[0m: \ttemperature: 0.5\n",
      "\u001b[34m\u001b[1mwandb\u001b[0m: \tweight_decay: 1e-05\n"
     ]
    },
    {
     "data": {
      "application/vnd.jupyter.widget-view+json": {
       "model_id": "2bb8a996635149bf998ab96c1b7e2c17",
       "version_major": 2,
       "version_minor": 0
      },
      "text/plain": [
       "VBox(children=(Label(value='Waiting for wandb.init()...\\r'), FloatProgress(value=0.011223392588888399, max=1.0…"
      ]
     },
     "metadata": {},
     "output_type": "display_data"
    },
    {
     "data": {
      "text/html": [
       "wandb version 0.18.7 is available!  To upgrade, please run:\n",
       " $ pip install wandb --upgrade"
      ],
      "text/plain": [
       "<IPython.core.display.HTML object>"
      ]
     },
     "metadata": {},
     "output_type": "display_data"
    },
    {
     "data": {
      "text/html": [
       "Tracking run with wandb version 0.16.5"
      ],
      "text/plain": [
       "<IPython.core.display.HTML object>"
      ]
     },
     "metadata": {},
     "output_type": "display_data"
    },
    {
     "data": {
      "text/html": [
       "Run data is saved locally in <code>/Users/revanth/Documents/Assignments/CV/TPA/wandb/run-20241121_084612-m10ylofi</code>"
      ],
      "text/plain": [
       "<IPython.core.display.HTML object>"
      ]
     },
     "metadata": {},
     "output_type": "display_data"
    },
    {
     "data": {
      "text/html": [
       "Syncing run <strong><a href='https://wandb.ai/ns24z093/distillation/runs/m10ylofi/workspace' target=\"_blank\">serene-sweep-20</a></strong> to <a href='https://wandb.ai/ns24z093/distillation' target=\"_blank\">Weights & Biases</a> (<a href='https://wandb.me/run' target=\"_blank\">docs</a>)<br/>Sweep page: <a href='https://wandb.ai/ns24z093/distillation/sweeps/sk61moht' target=\"_blank\">https://wandb.ai/ns24z093/distillation/sweeps/sk61moht</a>"
      ],
      "text/plain": [
       "<IPython.core.display.HTML object>"
      ]
     },
     "metadata": {},
     "output_type": "display_data"
    },
    {
     "data": {
      "text/html": [
       " View project at <a href='https://wandb.ai/ns24z093/distillation' target=\"_blank\">https://wandb.ai/ns24z093/distillation</a>"
      ],
      "text/plain": [
       "<IPython.core.display.HTML object>"
      ]
     },
     "metadata": {},
     "output_type": "display_data"
    },
    {
     "data": {
      "text/html": [
       " View sweep at <a href='https://wandb.ai/ns24z093/distillation/sweeps/sk61moht' target=\"_blank\">https://wandb.ai/ns24z093/distillation/sweeps/sk61moht</a>"
      ],
      "text/plain": [
       "<IPython.core.display.HTML object>"
      ]
     },
     "metadata": {},
     "output_type": "display_data"
    },
    {
     "data": {
      "text/html": [
       " View run at <a href='https://wandb.ai/ns24z093/distillation/runs/m10ylofi/workspace' target=\"_blank\">https://wandb.ai/ns24z093/distillation/runs/m10ylofi/workspace</a>"
      ],
      "text/plain": [
       "<IPython.core.display.HTML object>"
      ]
     },
     "metadata": {},
     "output_type": "display_data"
    },
    {
     "name": "stdout",
     "output_type": "stream",
     "text": [
      "Run name:  SGD / lr_0.1 / alpha_0.9 / dropout_0.2 / growth_18 / bottleneck_True / lr_gamma_0.3 / temp_0.5 / weight_decay_1e-05\n",
      "loss: 4.308201 [0/40000]\n",
      "loss: 3.907932 [6400/40000]\n",
      "loss: 3.572792 [12800/40000]\n",
      "loss: 3.463505 [19200/40000]\n",
      "loss: 3.615295 [25600/40000]\n",
      "loss: 3.298095 [32000/40000]\n",
      "loss: 3.078516 [38400/40000]\n",
      "Test Error: \n",
      " Accuracy: 19.0%, Avg loss: 3.348083\n",
      "\n",
      "loss: 3.183243 [0/40000]\n",
      "loss: 3.089086 [6400/40000]\n",
      "loss: 2.628766 [12800/40000]\n",
      "loss: 2.742583 [19200/40000]\n",
      "loss: 2.685783 [25600/40000]\n",
      "loss: 2.741322 [32000/40000]\n",
      "loss: 2.722209 [38400/40000]\n",
      "Test Error: \n",
      " Accuracy: 29.5%, Avg loss: 2.728895\n",
      "\n",
      "loss: 2.588046 [0/40000]\n",
      "loss: 2.843583 [6400/40000]\n",
      "loss: 2.401692 [12800/40000]\n",
      "loss: 2.406142 [19200/40000]\n",
      "loss: 2.259803 [25600/40000]\n",
      "loss: 2.319631 [32000/40000]\n",
      "loss: 2.206593 [38400/40000]\n",
      "Test Error: \n",
      " Accuracy: 35.5%, Avg loss: 2.468783\n",
      "\n",
      "loss: 2.422567 [0/40000]\n",
      "loss: 2.411598 [6400/40000]\n",
      "loss: 1.990793 [12800/40000]\n",
      "loss: 1.633236 [19200/40000]\n",
      "loss: 2.014681 [25600/40000]\n",
      "loss: 2.264233 [32000/40000]\n",
      "loss: 1.838045 [38400/40000]\n",
      "Test Error: \n",
      " Accuracy: 44.7%, Avg loss: 2.025705\n",
      "\n",
      "loss: 2.038071 [0/40000]\n",
      "loss: 1.885714 [6400/40000]\n",
      "loss: 1.592965 [12800/40000]\n",
      "loss: 1.665468 [19200/40000]\n",
      "loss: 1.819662 [25600/40000]\n",
      "loss: 1.986350 [32000/40000]\n",
      "loss: 2.041437 [38400/40000]\n",
      "Test Error: \n",
      " Accuracy: 47.1%, Avg loss: 1.952306\n",
      "\n"
     ]
    },
    {
     "data": {
      "application/vnd.jupyter.widget-view+json": {
       "model_id": "",
       "version_major": 2,
       "version_minor": 0
      },
      "text/plain": [
       "VBox(children=(Label(value='0.001 MB of 0.001 MB uploaded\\r'), FloatProgress(value=1.0, max=1.0)))"
      ]
     },
     "metadata": {},
     "output_type": "display_data"
    },
    {
     "data": {
      "text/html": [
       "<style>\n",
       "    table.wandb td:nth-child(1) { padding: 0 10px; text-align: left ; width: auto;} td:nth-child(2) {text-align: left ; width: 100%}\n",
       "    .wandb-row { display: flex; flex-direction: row; flex-wrap: wrap; justify-content: flex-start; width: 100% }\n",
       "    .wandb-col { display: flex; flex-direction: column; flex-basis: 100%; flex: 1; padding: 10px; }\n",
       "    </style>\n",
       "<div class=\"wandb-row\"><div class=\"wandb-col\"><h3>Run history:</h3><br/><table class=\"wandb\"><tr><td>epoch</td><td>▁▃▅▆█</td></tr><tr><td>val_accuracy</td><td>▁▄▅▇█</td></tr><tr><td>val_loss</td><td>█▅▄▁▁</td></tr></table><br/></div><div class=\"wandb-col\"><h3>Run summary:</h3><br/><table class=\"wandb\"><tr><td>epoch</td><td>5</td></tr><tr><td>val_accuracy</td><td>47.1275</td></tr><tr><td>val_loss</td><td>1.95231</td></tr></table><br/></div></div>"
      ],
      "text/plain": [
       "<IPython.core.display.HTML object>"
      ]
     },
     "metadata": {},
     "output_type": "display_data"
    },
    {
     "data": {
      "text/html": [
       " View run <strong style=\"color:#cdcd00\">serene-sweep-20</strong> at: <a href='https://wandb.ai/ns24z093/distillation/runs/m10ylofi/workspace' target=\"_blank\">https://wandb.ai/ns24z093/distillation/runs/m10ylofi/workspace</a><br/>Synced 6 W&B file(s), 0 media file(s), 0 artifact file(s) and 0 other file(s)"
      ],
      "text/plain": [
       "<IPython.core.display.HTML object>"
      ]
     },
     "metadata": {},
     "output_type": "display_data"
    },
    {
     "data": {
      "text/html": [
       "Find logs at: <code>./wandb/run-20241121_084612-m10ylofi/logs</code>"
      ],
      "text/plain": [
       "<IPython.core.display.HTML object>"
      ]
     },
     "metadata": {},
     "output_type": "display_data"
    },
    {
     "name": "stderr",
     "output_type": "stream",
     "text": [
      "\u001b[34m\u001b[1mwandb\u001b[0m: Agent Starting Run: ctci5i0k with config:\n",
      "\u001b[34m\u001b[1mwandb\u001b[0m: \talpha: 0.9\n",
      "\u001b[34m\u001b[1mwandb\u001b[0m: \tbottleneck: False\n",
      "\u001b[34m\u001b[1mwandb\u001b[0m: \tdropout: 0.3\n",
      "\u001b[34m\u001b[1mwandb\u001b[0m: \tgrowth_rate: 18\n",
      "\u001b[34m\u001b[1mwandb\u001b[0m: \tlearning_rate: 0.1\n",
      "\u001b[34m\u001b[1mwandb\u001b[0m: \tlr_gamma: 0.3\n",
      "\u001b[34m\u001b[1mwandb\u001b[0m: \toptimizer: SGD\n",
      "\u001b[34m\u001b[1mwandb\u001b[0m: \ttemperature: 0.5\n",
      "\u001b[34m\u001b[1mwandb\u001b[0m: \tweight_decay: 1e-05\n"
     ]
    },
    {
     "data": {
      "text/html": [
       "wandb version 0.18.7 is available!  To upgrade, please run:\n",
       " $ pip install wandb --upgrade"
      ],
      "text/plain": [
       "<IPython.core.display.HTML object>"
      ]
     },
     "metadata": {},
     "output_type": "display_data"
    },
    {
     "data": {
      "text/html": [
       "Tracking run with wandb version 0.16.5"
      ],
      "text/plain": [
       "<IPython.core.display.HTML object>"
      ]
     },
     "metadata": {},
     "output_type": "display_data"
    },
    {
     "data": {
      "text/html": [
       "Run data is saved locally in <code>/Users/revanth/Documents/Assignments/CV/TPA/wandb/run-20241121_091308-ctci5i0k</code>"
      ],
      "text/plain": [
       "<IPython.core.display.HTML object>"
      ]
     },
     "metadata": {},
     "output_type": "display_data"
    },
    {
     "data": {
      "text/html": [
       "Syncing run <strong><a href='https://wandb.ai/ns24z093/distillation/runs/ctci5i0k/workspace' target=\"_blank\">giddy-sweep-21</a></strong> to <a href='https://wandb.ai/ns24z093/distillation' target=\"_blank\">Weights & Biases</a> (<a href='https://wandb.me/run' target=\"_blank\">docs</a>)<br/>Sweep page: <a href='https://wandb.ai/ns24z093/distillation/sweeps/sk61moht' target=\"_blank\">https://wandb.ai/ns24z093/distillation/sweeps/sk61moht</a>"
      ],
      "text/plain": [
       "<IPython.core.display.HTML object>"
      ]
     },
     "metadata": {},
     "output_type": "display_data"
    },
    {
     "data": {
      "text/html": [
       " View project at <a href='https://wandb.ai/ns24z093/distillation' target=\"_blank\">https://wandb.ai/ns24z093/distillation</a>"
      ],
      "text/plain": [
       "<IPython.core.display.HTML object>"
      ]
     },
     "metadata": {},
     "output_type": "display_data"
    },
    {
     "data": {
      "text/html": [
       " View sweep at <a href='https://wandb.ai/ns24z093/distillation/sweeps/sk61moht' target=\"_blank\">https://wandb.ai/ns24z093/distillation/sweeps/sk61moht</a>"
      ],
      "text/plain": [
       "<IPython.core.display.HTML object>"
      ]
     },
     "metadata": {},
     "output_type": "display_data"
    },
    {
     "data": {
      "text/html": [
       " View run at <a href='https://wandb.ai/ns24z093/distillation/runs/ctci5i0k/workspace' target=\"_blank\">https://wandb.ai/ns24z093/distillation/runs/ctci5i0k/workspace</a>"
      ],
      "text/plain": [
       "<IPython.core.display.HTML object>"
      ]
     },
     "metadata": {},
     "output_type": "display_data"
    },
    {
     "name": "stdout",
     "output_type": "stream",
     "text": [
      "Run name:  SGD / lr_0.1 / alpha_0.9 / dropout_0.3 / growth_18 / bottleneck_False / lr_gamma_0.3 / temp_0.5 / weight_decay_1e-05\n",
      "loss: 4.261663 [0/40000]\n",
      "loss: 3.934130 [6400/40000]\n",
      "loss: 3.608915 [12800/40000]\n",
      "loss: 3.743326 [19200/40000]\n",
      "loss: 3.341441 [25600/40000]\n",
      "loss: 3.227503 [32000/40000]\n",
      "loss: 3.417485 [38400/40000]\n",
      "Test Error: \n",
      " Accuracy: 15.3%, Avg loss: 3.490589\n",
      "\n",
      "loss: 2.812170 [0/40000]\n",
      "loss: 3.190781 [6400/40000]\n",
      "loss: 2.936044 [12800/40000]\n",
      "loss: 2.924950 [19200/40000]\n",
      "loss: 3.130913 [25600/40000]\n",
      "loss: 2.701691 [32000/40000]\n",
      "loss: 2.872542 [38400/40000]\n",
      "Test Error: \n",
      " Accuracy: 29.4%, Avg loss: 2.744645\n",
      "\n",
      "loss: 2.398973 [0/40000]\n",
      "loss: 2.407709 [6400/40000]\n",
      "loss: 2.515553 [12800/40000]\n",
      "loss: 2.337357 [19200/40000]\n",
      "loss: 2.138769 [25600/40000]\n",
      "loss: 2.329593 [32000/40000]\n",
      "loss: 2.023126 [38400/40000]\n",
      "Test Error: \n",
      " Accuracy: 36.7%, Avg loss: 2.380362\n",
      "\n",
      "loss: 2.397195 [0/40000]\n",
      "loss: 2.158615 [6400/40000]\n",
      "loss: 2.073389 [12800/40000]\n",
      "loss: 1.907106 [19200/40000]\n",
      "loss: 1.965130 [25600/40000]\n",
      "loss: 1.809652 [32000/40000]\n",
      "loss: 2.202021 [38400/40000]\n",
      "Test Error: \n",
      " Accuracy: 41.0%, Avg loss: 2.226095\n",
      "\n",
      "loss: 1.993639 [0/40000]\n",
      "loss: 1.677252 [6400/40000]\n",
      "loss: 1.636839 [12800/40000]\n",
      "loss: 1.847924 [19200/40000]\n",
      "loss: 1.493748 [25600/40000]\n",
      "loss: 2.014605 [32000/40000]\n",
      "loss: 2.074854 [38400/40000]\n",
      "Test Error: \n",
      " Accuracy: 46.2%, Avg loss: 1.973970\n",
      "\n"
     ]
    },
    {
     "data": {
      "application/vnd.jupyter.widget-view+json": {
       "model_id": "",
       "version_major": 2,
       "version_minor": 0
      },
      "text/plain": [
       "VBox(children=(Label(value='0.001 MB of 0.001 MB uploaded\\r'), FloatProgress(value=1.0, max=1.0)))"
      ]
     },
     "metadata": {},
     "output_type": "display_data"
    },
    {
     "data": {
      "text/html": [
       "<style>\n",
       "    table.wandb td:nth-child(1) { padding: 0 10px; text-align: left ; width: auto;} td:nth-child(2) {text-align: left ; width: 100%}\n",
       "    .wandb-row { display: flex; flex-direction: row; flex-wrap: wrap; justify-content: flex-start; width: 100% }\n",
       "    .wandb-col { display: flex; flex-direction: column; flex-basis: 100%; flex: 1; padding: 10px; }\n",
       "    </style>\n",
       "<div class=\"wandb-row\"><div class=\"wandb-col\"><h3>Run history:</h3><br/><table class=\"wandb\"><tr><td>epoch</td><td>▁▃▅▆█</td></tr><tr><td>val_accuracy</td><td>▁▄▆▇█</td></tr><tr><td>val_loss</td><td>█▅▃▂▁</td></tr></table><br/></div><div class=\"wandb-col\"><h3>Run summary:</h3><br/><table class=\"wandb\"><tr><td>epoch</td><td>5</td></tr><tr><td>val_accuracy</td><td>46.24</td></tr><tr><td>val_loss</td><td>1.97397</td></tr></table><br/></div></div>"
      ],
      "text/plain": [
       "<IPython.core.display.HTML object>"
      ]
     },
     "metadata": {},
     "output_type": "display_data"
    },
    {
     "data": {
      "text/html": [
       " View run <strong style=\"color:#cdcd00\">giddy-sweep-21</strong> at: <a href='https://wandb.ai/ns24z093/distillation/runs/ctci5i0k/workspace' target=\"_blank\">https://wandb.ai/ns24z093/distillation/runs/ctci5i0k/workspace</a><br/>Synced 6 W&B file(s), 0 media file(s), 0 artifact file(s) and 0 other file(s)"
      ],
      "text/plain": [
       "<IPython.core.display.HTML object>"
      ]
     },
     "metadata": {},
     "output_type": "display_data"
    },
    {
     "data": {
      "text/html": [
       "Find logs at: <code>./wandb/run-20241121_091308-ctci5i0k/logs</code>"
      ],
      "text/plain": [
       "<IPython.core.display.HTML object>"
      ]
     },
     "metadata": {},
     "output_type": "display_data"
    },
    {
     "name": "stderr",
     "output_type": "stream",
     "text": [
      "\u001b[34m\u001b[1mwandb\u001b[0m: Agent Starting Run: 582owxij with config:\n",
      "\u001b[34m\u001b[1mwandb\u001b[0m: \talpha: 0.9\n",
      "\u001b[34m\u001b[1mwandb\u001b[0m: \tbottleneck: True\n",
      "\u001b[34m\u001b[1mwandb\u001b[0m: \tdropout: 0.3\n",
      "\u001b[34m\u001b[1mwandb\u001b[0m: \tgrowth_rate: 18\n",
      "\u001b[34m\u001b[1mwandb\u001b[0m: \tlearning_rate: 0.05\n",
      "\u001b[34m\u001b[1mwandb\u001b[0m: \tlr_gamma: 0.3\n",
      "\u001b[34m\u001b[1mwandb\u001b[0m: \toptimizer: SGD\n",
      "\u001b[34m\u001b[1mwandb\u001b[0m: \ttemperature: 0.5\n",
      "\u001b[34m\u001b[1mwandb\u001b[0m: \tweight_decay: 1e-05\n"
     ]
    },
    {
     "data": {
      "application/vnd.jupyter.widget-view+json": {
       "model_id": "5eb7243076d54384bf840c07cdad9b33",
       "version_major": 2,
       "version_minor": 0
      },
      "text/plain": [
       "VBox(children=(Label(value='Waiting for wandb.init()...\\r'), FloatProgress(value=0.011223477322427141, max=1.0…"
      ]
     },
     "metadata": {},
     "output_type": "display_data"
    },
    {
     "data": {
      "text/html": [
       "wandb version 0.18.7 is available!  To upgrade, please run:\n",
       " $ pip install wandb --upgrade"
      ],
      "text/plain": [
       "<IPython.core.display.HTML object>"
      ]
     },
     "metadata": {},
     "output_type": "display_data"
    },
    {
     "data": {
      "text/html": [
       "Tracking run with wandb version 0.16.5"
      ],
      "text/plain": [
       "<IPython.core.display.HTML object>"
      ]
     },
     "metadata": {},
     "output_type": "display_data"
    },
    {
     "data": {
      "text/html": [
       "Run data is saved locally in <code>/Users/revanth/Documents/Assignments/CV/TPA/wandb/run-20241121_094004-582owxij</code>"
      ],
      "text/plain": [
       "<IPython.core.display.HTML object>"
      ]
     },
     "metadata": {},
     "output_type": "display_data"
    },
    {
     "data": {
      "text/html": [
       "Syncing run <strong><a href='https://wandb.ai/ns24z093/distillation/runs/582owxij/workspace' target=\"_blank\">wild-sweep-22</a></strong> to <a href='https://wandb.ai/ns24z093/distillation' target=\"_blank\">Weights & Biases</a> (<a href='https://wandb.me/run' target=\"_blank\">docs</a>)<br/>Sweep page: <a href='https://wandb.ai/ns24z093/distillation/sweeps/sk61moht' target=\"_blank\">https://wandb.ai/ns24z093/distillation/sweeps/sk61moht</a>"
      ],
      "text/plain": [
       "<IPython.core.display.HTML object>"
      ]
     },
     "metadata": {},
     "output_type": "display_data"
    },
    {
     "data": {
      "text/html": [
       " View project at <a href='https://wandb.ai/ns24z093/distillation' target=\"_blank\">https://wandb.ai/ns24z093/distillation</a>"
      ],
      "text/plain": [
       "<IPython.core.display.HTML object>"
      ]
     },
     "metadata": {},
     "output_type": "display_data"
    },
    {
     "data": {
      "text/html": [
       " View sweep at <a href='https://wandb.ai/ns24z093/distillation/sweeps/sk61moht' target=\"_blank\">https://wandb.ai/ns24z093/distillation/sweeps/sk61moht</a>"
      ],
      "text/plain": [
       "<IPython.core.display.HTML object>"
      ]
     },
     "metadata": {},
     "output_type": "display_data"
    },
    {
     "data": {
      "text/html": [
       " View run at <a href='https://wandb.ai/ns24z093/distillation/runs/582owxij/workspace' target=\"_blank\">https://wandb.ai/ns24z093/distillation/runs/582owxij/workspace</a>"
      ],
      "text/plain": [
       "<IPython.core.display.HTML object>"
      ]
     },
     "metadata": {},
     "output_type": "display_data"
    },
    {
     "name": "stdout",
     "output_type": "stream",
     "text": [
      "Run name:  SGD / lr_0.05 / alpha_0.9 / dropout_0.3 / growth_18 / bottleneck_True / lr_gamma_0.3 / temp_0.5 / weight_decay_1e-05\n",
      "loss: 4.311179 [0/40000]\n",
      "loss: 3.919492 [6400/40000]\n",
      "loss: 3.668296 [12800/40000]\n",
      "loss: 3.328015 [19200/40000]\n",
      "loss: 3.347681 [25600/40000]\n",
      "loss: 3.370659 [32000/40000]\n",
      "loss: 2.893643 [38400/40000]\n",
      "Test Error: \n",
      " Accuracy: 16.6%, Avg loss: 3.407986\n",
      "\n",
      "loss: 3.236651 [0/40000]\n",
      "loss: 3.057373 [6400/40000]\n",
      "loss: 2.905179 [12800/40000]\n",
      "loss: 2.809231 [19200/40000]\n",
      "loss: 2.314089 [25600/40000]\n",
      "loss: 3.037251 [32000/40000]\n",
      "loss: 2.760852 [38400/40000]\n",
      "Test Error: \n",
      " Accuracy: 27.8%, Avg loss: 2.814843\n",
      "\n",
      "loss: 2.451884 [0/40000]\n",
      "loss: 2.719365 [6400/40000]\n",
      "loss: 2.513929 [12800/40000]\n",
      "loss: 2.098386 [19200/40000]\n",
      "loss: 2.331665 [25600/40000]\n",
      "loss: 2.302519 [32000/40000]\n",
      "loss: 2.323035 [38400/40000]\n",
      "Test Error: \n",
      " Accuracy: 34.9%, Avg loss: 2.454741\n",
      "\n",
      "loss: 2.305219 [0/40000]\n",
      "loss: 1.922729 [6400/40000]\n",
      "loss: 2.006063 [12800/40000]\n",
      "loss: 2.140831 [19200/40000]\n",
      "loss: 1.956712 [25600/40000]\n",
      "loss: 2.237403 [32000/40000]\n",
      "loss: 2.211696 [38400/40000]\n",
      "Test Error: \n",
      " Accuracy: 40.4%, Avg loss: 2.256211\n",
      "\n",
      "loss: 1.776530 [0/40000]\n",
      "loss: 2.116878 [6400/40000]\n",
      "loss: 1.731061 [12800/40000]\n",
      "loss: 2.039255 [19200/40000]\n",
      "loss: 2.024420 [25600/40000]\n",
      "loss: 2.059438 [32000/40000]\n",
      "loss: 1.796349 [38400/40000]\n",
      "Test Error: \n",
      " Accuracy: 45.5%, Avg loss: 1.969907\n",
      "\n"
     ]
    },
    {
     "data": {
      "application/vnd.jupyter.widget-view+json": {
       "model_id": "",
       "version_major": 2,
       "version_minor": 0
      },
      "text/plain": [
       "VBox(children=(Label(value='0.001 MB of 0.001 MB uploaded\\r'), FloatProgress(value=1.0, max=1.0)))"
      ]
     },
     "metadata": {},
     "output_type": "display_data"
    },
    {
     "data": {
      "text/html": [
       "<style>\n",
       "    table.wandb td:nth-child(1) { padding: 0 10px; text-align: left ; width: auto;} td:nth-child(2) {text-align: left ; width: 100%}\n",
       "    .wandb-row { display: flex; flex-direction: row; flex-wrap: wrap; justify-content: flex-start; width: 100% }\n",
       "    .wandb-col { display: flex; flex-direction: column; flex-basis: 100%; flex: 1; padding: 10px; }\n",
       "    </style>\n",
       "<div class=\"wandb-row\"><div class=\"wandb-col\"><h3>Run history:</h3><br/><table class=\"wandb\"><tr><td>epoch</td><td>▁▃▅▆█</td></tr><tr><td>val_accuracy</td><td>▁▄▅▇█</td></tr><tr><td>val_loss</td><td>█▅▃▂▁</td></tr></table><br/></div><div class=\"wandb-col\"><h3>Run summary:</h3><br/><table class=\"wandb\"><tr><td>epoch</td><td>5</td></tr><tr><td>val_accuracy</td><td>45.5075</td></tr><tr><td>val_loss</td><td>1.96991</td></tr></table><br/></div></div>"
      ],
      "text/plain": [
       "<IPython.core.display.HTML object>"
      ]
     },
     "metadata": {},
     "output_type": "display_data"
    },
    {
     "data": {
      "text/html": [
       " View run <strong style=\"color:#cdcd00\">wild-sweep-22</strong> at: <a href='https://wandb.ai/ns24z093/distillation/runs/582owxij/workspace' target=\"_blank\">https://wandb.ai/ns24z093/distillation/runs/582owxij/workspace</a><br/>Synced 6 W&B file(s), 0 media file(s), 0 artifact file(s) and 0 other file(s)"
      ],
      "text/plain": [
       "<IPython.core.display.HTML object>"
      ]
     },
     "metadata": {},
     "output_type": "display_data"
    },
    {
     "data": {
      "text/html": [
       "Find logs at: <code>./wandb/run-20241121_094004-582owxij/logs</code>"
      ],
      "text/plain": [
       "<IPython.core.display.HTML object>"
      ]
     },
     "metadata": {},
     "output_type": "display_data"
    },
    {
     "name": "stderr",
     "output_type": "stream",
     "text": [
      "\u001b[34m\u001b[1mwandb\u001b[0m: Agent Starting Run: ygp4jah6 with config:\n",
      "\u001b[34m\u001b[1mwandb\u001b[0m: \talpha: 0.9\n",
      "\u001b[34m\u001b[1mwandb\u001b[0m: \tbottleneck: True\n",
      "\u001b[34m\u001b[1mwandb\u001b[0m: \tdropout: 0.3\n",
      "\u001b[34m\u001b[1mwandb\u001b[0m: \tgrowth_rate: 18\n",
      "\u001b[34m\u001b[1mwandb\u001b[0m: \tlearning_rate: 0.1\n",
      "\u001b[34m\u001b[1mwandb\u001b[0m: \tlr_gamma: 0.3\n",
      "\u001b[34m\u001b[1mwandb\u001b[0m: \toptimizer: SGD\n",
      "\u001b[34m\u001b[1mwandb\u001b[0m: \ttemperature: 0.5\n",
      "\u001b[34m\u001b[1mwandb\u001b[0m: \tweight_decay: 1e-05\n"
     ]
    },
    {
     "data": {
      "application/vnd.jupyter.widget-view+json": {
       "model_id": "e4302b1d018a46ad88992c2e8e3a6683",
       "version_major": 2,
       "version_minor": 0
      },
      "text/plain": [
       "VBox(children=(Label(value='Waiting for wandb.init()...\\r'), FloatProgress(value=0.01114390694452191, max=1.0)…"
      ]
     },
     "metadata": {},
     "output_type": "display_data"
    },
    {
     "data": {
      "text/html": [
       "wandb version 0.18.7 is available!  To upgrade, please run:\n",
       " $ pip install wandb --upgrade"
      ],
      "text/plain": [
       "<IPython.core.display.HTML object>"
      ]
     },
     "metadata": {},
     "output_type": "display_data"
    },
    {
     "data": {
      "text/html": [
       "Tracking run with wandb version 0.16.5"
      ],
      "text/plain": [
       "<IPython.core.display.HTML object>"
      ]
     },
     "metadata": {},
     "output_type": "display_data"
    },
    {
     "data": {
      "text/html": [
       "Run data is saved locally in <code>/Users/revanth/Documents/Assignments/CV/TPA/wandb/run-20241121_100703-ygp4jah6</code>"
      ],
      "text/plain": [
       "<IPython.core.display.HTML object>"
      ]
     },
     "metadata": {},
     "output_type": "display_data"
    },
    {
     "data": {
      "text/html": [
       "Syncing run <strong><a href='https://wandb.ai/ns24z093/distillation/runs/ygp4jah6/workspace' target=\"_blank\">good-sweep-23</a></strong> to <a href='https://wandb.ai/ns24z093/distillation' target=\"_blank\">Weights & Biases</a> (<a href='https://wandb.me/run' target=\"_blank\">docs</a>)<br/>Sweep page: <a href='https://wandb.ai/ns24z093/distillation/sweeps/sk61moht' target=\"_blank\">https://wandb.ai/ns24z093/distillation/sweeps/sk61moht</a>"
      ],
      "text/plain": [
       "<IPython.core.display.HTML object>"
      ]
     },
     "metadata": {},
     "output_type": "display_data"
    },
    {
     "data": {
      "text/html": [
       " View project at <a href='https://wandb.ai/ns24z093/distillation' target=\"_blank\">https://wandb.ai/ns24z093/distillation</a>"
      ],
      "text/plain": [
       "<IPython.core.display.HTML object>"
      ]
     },
     "metadata": {},
     "output_type": "display_data"
    },
    {
     "data": {
      "text/html": [
       " View sweep at <a href='https://wandb.ai/ns24z093/distillation/sweeps/sk61moht' target=\"_blank\">https://wandb.ai/ns24z093/distillation/sweeps/sk61moht</a>"
      ],
      "text/plain": [
       "<IPython.core.display.HTML object>"
      ]
     },
     "metadata": {},
     "output_type": "display_data"
    },
    {
     "data": {
      "text/html": [
       " View run at <a href='https://wandb.ai/ns24z093/distillation/runs/ygp4jah6/workspace' target=\"_blank\">https://wandb.ai/ns24z093/distillation/runs/ygp4jah6/workspace</a>"
      ],
      "text/plain": [
       "<IPython.core.display.HTML object>"
      ]
     },
     "metadata": {},
     "output_type": "display_data"
    },
    {
     "name": "stdout",
     "output_type": "stream",
     "text": [
      "Run name:  SGD / lr_0.1 / alpha_0.9 / dropout_0.3 / growth_18 / bottleneck_True / lr_gamma_0.3 / temp_0.5 / weight_decay_1e-05\n",
      "loss: 4.218929 [0/40000]\n",
      "loss: 3.811833 [6400/40000]\n",
      "loss: 3.771649 [12800/40000]\n",
      "loss: 3.607079 [19200/40000]\n",
      "loss: 3.624594 [25600/40000]\n",
      "loss: 3.457611 [32000/40000]\n",
      "loss: 3.083219 [38400/40000]\n",
      "Test Error: \n",
      " Accuracy: 12.1%, Avg loss: 3.733317\n",
      "\n",
      "loss: 3.021126 [0/40000]\n",
      "loss: 3.290119 [6400/40000]\n",
      "loss: 2.910751 [12800/40000]\n",
      "loss: 2.954216 [19200/40000]\n",
      "loss: 2.877865 [25600/40000]\n",
      "loss: 3.066600 [32000/40000]\n",
      "loss: 2.294977 [38400/40000]\n",
      "Test Error: \n",
      " Accuracy: 26.2%, Avg loss: 2.944865\n",
      "\n",
      "loss: 2.651605 [0/40000]\n",
      "loss: 2.574262 [6400/40000]\n",
      "loss: 2.223831 [12800/40000]\n",
      "loss: 2.405437 [19200/40000]\n",
      "loss: 2.508388 [25600/40000]\n",
      "loss: 2.716457 [32000/40000]\n",
      "loss: 1.895089 [38400/40000]\n",
      "Test Error: \n",
      " Accuracy: 36.0%, Avg loss: 2.440603\n",
      "\n",
      "loss: 2.072308 [0/40000]\n",
      "loss: 2.170182 [6400/40000]\n",
      "loss: 2.356375 [12800/40000]\n",
      "loss: 2.192872 [19200/40000]\n",
      "loss: 2.114227 [25600/40000]\n",
      "loss: 1.945159 [32000/40000]\n",
      "loss: 2.039337 [38400/40000]\n",
      "Test Error: \n",
      " Accuracy: 44.3%, Avg loss: 2.060031\n",
      "\n",
      "loss: 1.883094 [0/40000]\n",
      "loss: 1.789725 [6400/40000]\n",
      "loss: 1.957146 [12800/40000]\n",
      "loss: 1.721471 [19200/40000]\n",
      "loss: 1.959116 [25600/40000]\n",
      "loss: 1.980852 [32000/40000]\n",
      "loss: 1.902312 [38400/40000]\n",
      "Test Error: \n",
      " Accuracy: 48.8%, Avg loss: 1.855540\n",
      "\n"
     ]
    },
    {
     "data": {
      "application/vnd.jupyter.widget-view+json": {
       "model_id": "",
       "version_major": 2,
       "version_minor": 0
      },
      "text/plain": [
       "VBox(children=(Label(value='0.001 MB of 0.001 MB uploaded\\r'), FloatProgress(value=1.0, max=1.0)))"
      ]
     },
     "metadata": {},
     "output_type": "display_data"
    },
    {
     "data": {
      "text/html": [
       "<style>\n",
       "    table.wandb td:nth-child(1) { padding: 0 10px; text-align: left ; width: auto;} td:nth-child(2) {text-align: left ; width: 100%}\n",
       "    .wandb-row { display: flex; flex-direction: row; flex-wrap: wrap; justify-content: flex-start; width: 100% }\n",
       "    .wandb-col { display: flex; flex-direction: column; flex-basis: 100%; flex: 1; padding: 10px; }\n",
       "    </style>\n",
       "<div class=\"wandb-row\"><div class=\"wandb-col\"><h3>Run history:</h3><br/><table class=\"wandb\"><tr><td>epoch</td><td>▁▃▅▆█</td></tr><tr><td>val_accuracy</td><td>▁▄▆▇█</td></tr><tr><td>val_loss</td><td>█▅▃▂▁</td></tr></table><br/></div><div class=\"wandb-col\"><h3>Run summary:</h3><br/><table class=\"wandb\"><tr><td>epoch</td><td>5</td></tr><tr><td>val_accuracy</td><td>48.7525</td></tr><tr><td>val_loss</td><td>1.85554</td></tr></table><br/></div></div>"
      ],
      "text/plain": [
       "<IPython.core.display.HTML object>"
      ]
     },
     "metadata": {},
     "output_type": "display_data"
    },
    {
     "data": {
      "text/html": [
       " View run <strong style=\"color:#cdcd00\">good-sweep-23</strong> at: <a href='https://wandb.ai/ns24z093/distillation/runs/ygp4jah6/workspace' target=\"_blank\">https://wandb.ai/ns24z093/distillation/runs/ygp4jah6/workspace</a><br/>Synced 6 W&B file(s), 0 media file(s), 0 artifact file(s) and 0 other file(s)"
      ],
      "text/plain": [
       "<IPython.core.display.HTML object>"
      ]
     },
     "metadata": {},
     "output_type": "display_data"
    },
    {
     "data": {
      "text/html": [
       "Find logs at: <code>./wandb/run-20241121_100703-ygp4jah6/logs</code>"
      ],
      "text/plain": [
       "<IPython.core.display.HTML object>"
      ]
     },
     "metadata": {},
     "output_type": "display_data"
    },
    {
     "name": "stderr",
     "output_type": "stream",
     "text": [
      "\u001b[34m\u001b[1mwandb\u001b[0m: Sweep Agent: Waiting for job.\n",
      "\u001b[34m\u001b[1mwandb\u001b[0m: Job received.\n",
      "\u001b[34m\u001b[1mwandb\u001b[0m: Agent Starting Run: b2c9gbbb with config:\n",
      "\u001b[34m\u001b[1mwandb\u001b[0m: \talpha: 0.7\n",
      "\u001b[34m\u001b[1mwandb\u001b[0m: \tbottleneck: False\n",
      "\u001b[34m\u001b[1mwandb\u001b[0m: \tdropout: 0.2\n",
      "\u001b[34m\u001b[1mwandb\u001b[0m: \tgrowth_rate: 18\n",
      "\u001b[34m\u001b[1mwandb\u001b[0m: \tlearning_rate: 0.05\n",
      "\u001b[34m\u001b[1mwandb\u001b[0m: \tlr_gamma: 0.3\n",
      "\u001b[34m\u001b[1mwandb\u001b[0m: \toptimizer: SGD\n",
      "\u001b[34m\u001b[1mwandb\u001b[0m: \ttemperature: 0.3\n",
      "\u001b[34m\u001b[1mwandb\u001b[0m: \tweight_decay: 4e-05\n"
     ]
    },
    {
     "data": {
      "text/html": [
       "wandb version 0.18.7 is available!  To upgrade, please run:\n",
       " $ pip install wandb --upgrade"
      ],
      "text/plain": [
       "<IPython.core.display.HTML object>"
      ]
     },
     "metadata": {},
     "output_type": "display_data"
    },
    {
     "data": {
      "text/html": [
       "Tracking run with wandb version 0.16.5"
      ],
      "text/plain": [
       "<IPython.core.display.HTML object>"
      ]
     },
     "metadata": {},
     "output_type": "display_data"
    },
    {
     "data": {
      "text/html": [
       "Run data is saved locally in <code>/Users/revanth/Documents/Assignments/CV/TPA/wandb/run-20241121_103414-b2c9gbbb</code>"
      ],
      "text/plain": [
       "<IPython.core.display.HTML object>"
      ]
     },
     "metadata": {},
     "output_type": "display_data"
    },
    {
     "data": {
      "text/html": [
       "Syncing run <strong><a href='https://wandb.ai/ns24z093/distillation/runs/b2c9gbbb/workspace' target=\"_blank\">hardy-sweep-24</a></strong> to <a href='https://wandb.ai/ns24z093/distillation' target=\"_blank\">Weights & Biases</a> (<a href='https://wandb.me/run' target=\"_blank\">docs</a>)<br/>Sweep page: <a href='https://wandb.ai/ns24z093/distillation/sweeps/sk61moht' target=\"_blank\">https://wandb.ai/ns24z093/distillation/sweeps/sk61moht</a>"
      ],
      "text/plain": [
       "<IPython.core.display.HTML object>"
      ]
     },
     "metadata": {},
     "output_type": "display_data"
    },
    {
     "data": {
      "text/html": [
       " View project at <a href='https://wandb.ai/ns24z093/distillation' target=\"_blank\">https://wandb.ai/ns24z093/distillation</a>"
      ],
      "text/plain": [
       "<IPython.core.display.HTML object>"
      ]
     },
     "metadata": {},
     "output_type": "display_data"
    },
    {
     "data": {
      "text/html": [
       " View sweep at <a href='https://wandb.ai/ns24z093/distillation/sweeps/sk61moht' target=\"_blank\">https://wandb.ai/ns24z093/distillation/sweeps/sk61moht</a>"
      ],
      "text/plain": [
       "<IPython.core.display.HTML object>"
      ]
     },
     "metadata": {},
     "output_type": "display_data"
    },
    {
     "data": {
      "text/html": [
       " View run at <a href='https://wandb.ai/ns24z093/distillation/runs/b2c9gbbb/workspace' target=\"_blank\">https://wandb.ai/ns24z093/distillation/runs/b2c9gbbb/workspace</a>"
      ],
      "text/plain": [
       "<IPython.core.display.HTML object>"
      ]
     },
     "metadata": {},
     "output_type": "display_data"
    },
    {
     "name": "stdout",
     "output_type": "stream",
     "text": [
      "Run name:  SGD / lr_0.05 / alpha_0.7 / dropout_0.2 / growth_18 / bottleneck_False / lr_gamma_0.3 / temp_0.3 / weight_decay_4e-05\n",
      "loss: 3.354159 [0/40000]\n",
      "loss: 3.073051 [6400/40000]\n",
      "loss: 3.243021 [12800/40000]\n",
      "loss: 2.685098 [19200/40000]\n",
      "loss: 2.831759 [25600/40000]\n",
      "loss: 2.454076 [32000/40000]\n",
      "loss: 2.743147 [38400/40000]\n",
      "Test Error: \n",
      " Accuracy: 16.7%, Avg loss: 3.434104\n",
      "\n",
      "loss: 2.464139 [0/40000]\n",
      "loss: 2.520153 [6400/40000]\n",
      "loss: 2.392344 [12800/40000]\n",
      "loss: 2.465183 [19200/40000]\n",
      "loss: 2.380396 [25600/40000]\n",
      "loss: 2.419028 [32000/40000]\n",
      "loss: 2.063451 [38400/40000]\n",
      "Test Error: \n",
      " Accuracy: 26.6%, Avg loss: 2.883815\n",
      "\n",
      "loss: 2.087478 [0/40000]\n",
      "loss: 2.206781 [6400/40000]\n",
      "loss: 2.372774 [12800/40000]\n",
      "loss: 1.821325 [19200/40000]\n",
      "loss: 1.840449 [25600/40000]\n",
      "loss: 1.933722 [32000/40000]\n",
      "loss: 1.756778 [38400/40000]\n",
      "Test Error: \n",
      " Accuracy: 32.2%, Avg loss: 2.600117\n",
      "\n",
      "loss: 2.031932 [0/40000]\n",
      "loss: 2.091281 [6400/40000]\n",
      "loss: 2.012183 [12800/40000]\n",
      "loss: 1.842877 [19200/40000]\n",
      "loss: 1.662453 [25600/40000]\n",
      "loss: 1.945857 [32000/40000]\n",
      "loss: 1.821877 [38400/40000]\n",
      "Test Error: \n",
      " Accuracy: 35.8%, Avg loss: 2.432565\n",
      "\n",
      "loss: 1.390442 [0/40000]\n",
      "loss: 1.523861 [6400/40000]\n",
      "loss: 1.822626 [12800/40000]\n",
      "loss: 1.579100 [19200/40000]\n",
      "loss: 1.605464 [25600/40000]\n",
      "loss: 1.442916 [32000/40000]\n",
      "loss: 1.366848 [38400/40000]\n",
      "Test Error: \n",
      " Accuracy: 40.9%, Avg loss: 2.159471\n",
      "\n"
     ]
    },
    {
     "data": {
      "application/vnd.jupyter.widget-view+json": {
       "model_id": "",
       "version_major": 2,
       "version_minor": 0
      },
      "text/plain": [
       "VBox(children=(Label(value='0.001 MB of 0.001 MB uploaded\\r'), FloatProgress(value=1.0, max=1.0)))"
      ]
     },
     "metadata": {},
     "output_type": "display_data"
    },
    {
     "data": {
      "text/html": [
       "<style>\n",
       "    table.wandb td:nth-child(1) { padding: 0 10px; text-align: left ; width: auto;} td:nth-child(2) {text-align: left ; width: 100%}\n",
       "    .wandb-row { display: flex; flex-direction: row; flex-wrap: wrap; justify-content: flex-start; width: 100% }\n",
       "    .wandb-col { display: flex; flex-direction: column; flex-basis: 100%; flex: 1; padding: 10px; }\n",
       "    </style>\n",
       "<div class=\"wandb-row\"><div class=\"wandb-col\"><h3>Run history:</h3><br/><table class=\"wandb\"><tr><td>epoch</td><td>▁▃▅▆█</td></tr><tr><td>val_accuracy</td><td>▁▄▅▇█</td></tr><tr><td>val_loss</td><td>█▅▃▂▁</td></tr></table><br/></div><div class=\"wandb-col\"><h3>Run summary:</h3><br/><table class=\"wandb\"><tr><td>epoch</td><td>5</td></tr><tr><td>val_accuracy</td><td>40.89</td></tr><tr><td>val_loss</td><td>2.15947</td></tr></table><br/></div></div>"
      ],
      "text/plain": [
       "<IPython.core.display.HTML object>"
      ]
     },
     "metadata": {},
     "output_type": "display_data"
    },
    {
     "data": {
      "text/html": [
       " View run <strong style=\"color:#cdcd00\">hardy-sweep-24</strong> at: <a href='https://wandb.ai/ns24z093/distillation/runs/b2c9gbbb/workspace' target=\"_blank\">https://wandb.ai/ns24z093/distillation/runs/b2c9gbbb/workspace</a><br/>Synced 6 W&B file(s), 0 media file(s), 0 artifact file(s) and 0 other file(s)"
      ],
      "text/plain": [
       "<IPython.core.display.HTML object>"
      ]
     },
     "metadata": {},
     "output_type": "display_data"
    },
    {
     "data": {
      "text/html": [
       "Find logs at: <code>./wandb/run-20241121_103414-b2c9gbbb/logs</code>"
      ],
      "text/plain": [
       "<IPython.core.display.HTML object>"
      ]
     },
     "metadata": {},
     "output_type": "display_data"
    }
   ],
   "source": [
    "from student import densenet\n",
    "from teacher import wide_resnet\n",
    "\n",
    "def train_test_model(config=None):\n",
    "    with wandb.init(config = config):\n",
    "        config = wandb.config\n",
    "        config.update(additional_config)\n",
    "        run_name_template = \"{} / lr_{} / alpha_{} / dropout_{} / growth_{} / bottleneck_{} / lr_gamma_{} / temp_{} / weight_decay_{}\"\n",
    "        run_name = run_name_template.format(config[\"optimizer\"], config[\"learning_rate\"], config[\"alpha\"],\n",
    "                                            config[\"dropout\"], config[\"growth_rate\"],\n",
    "                                            config[\"bottleneck\"], config[\"lr_gamma\"],\n",
    "                                            config[\"temperature\"], config[\"weight_decay\"])\n",
    "        print(\"Run name: \", run_name)\n",
    "        wandb.run.name = run_name\n",
    "\n",
    "        teacher_model = wide_resnet().to(device)\n",
    "        teacher_model.eval()\n",
    "        \n",
    "        student_model = densenet().to(device)\n",
    "        student_model.train()\n",
    "\n",
    "        train(train_loader, teacher_model, student_model, config)\n",
    "\n",
    "\n",
    "sweep_id = wandb.sweep(sweep_config, project=\"distillation\")\n",
    "wandb.agent(sweep_id, train_test_model, count=25)"
   ]
  }
 ],
 "metadata": {
  "kernelspec": {
   "display_name": "Python 3 (ipykernel)",
   "language": "python",
   "name": "python3"
  },
  "language_info": {
   "codemirror_mode": {
    "name": "ipython",
    "version": 3
   },
   "file_extension": ".py",
   "mimetype": "text/x-python",
   "name": "python",
   "nbconvert_exporter": "python",
   "pygments_lexer": "ipython3",
   "version": "3.12.1"
  }
 },
 "nbformat": 4,
 "nbformat_minor": 5
}

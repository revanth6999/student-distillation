{
 "cells": [
  {
   "cell_type": "code",
   "execution_count": 1,
   "id": "8a705841-dccb-41cc-94cf-905e14f2fb80",
   "metadata": {},
   "outputs": [
    {
     "name": "stdout",
     "output_type": "stream",
     "text": [
      "Using mps device\n",
      "Filtered dataset contains 13000 samples across 10 classes.\n"
     ]
    }
   ],
   "source": [
    "import json\n",
    "import numpy as np\n",
    "import pandas as pd\n",
    "import matplotlib.pyplot as plt\n",
    "import warnings\n",
    "import os\n",
    "import time\n",
    "import torch\n",
    "import torchvision\n",
    "import torchvision.transforms as transforms\n",
    "import torchvision.datasets as datasets\n",
    "from torch.utils.data import DataLoader, random_split\n",
    "import torch.nn as nn\n",
    "import torch.optim as optim\n",
    "import torch.nn.functional as F\n",
    "warnings.filterwarnings('ignore')\n",
    "\n",
    "def show_image(image, label):\n",
    "    image = image.permute(1, 2, 0)\n",
    "    plt.imshow(image.squeeze())\n",
    "    plt.title(f'Label: {label}')\n",
    "    plt.show()\n",
    "\n",
    "device = (\"cuda\" if torch.cuda.is_available() else \"mps\" if torch.backends.mps.is_available() else \"cpu\")\n",
    "print(f\"Using {device} device\")\n",
    "            \n",
    "class Params:\n",
    "    def __init__(self):\n",
    "        self.batch_size = 96\n",
    "        self.name = \"resnet_152_sgd1\"\n",
    "        self.workers = 4\n",
    "        self.momentum = 0.9\n",
    "        self.weight_decay = 4e-5\n",
    "        self.lr_step_size = 30\n",
    "        self.lr_gamma = 0.1\n",
    "        self.alpha = 0.5\n",
    "        self.temperature = 3.0\n",
    "        self.num_epochs = 20\n",
    "        self.learning_rate = 0.0045\n",
    "\n",
    "    def __repr__(self):\n",
    "        return str(self.__dict__)\n",
    "    \n",
    "    def __eq__(self, other):\n",
    "        return self.__dict__ == other.__dict__\n",
    "\n",
    "params = Params()\n",
    "training_folder_name = '/Users/revanth/Documents/Assignments/CV/TPA/ILSVRC/Data/CLS-LOC/train'\n",
    "val_folder_name = '/Users/revanth/Documents/Assignments/CV/TPA/ILSVRC/Data/CLS-LOC/val'\n",
    "\n",
    "train_transformation = transforms.Compose([\n",
    "    transforms.ToTensor(),\n",
    "    transforms.RandomResizedCrop(224, interpolation=transforms.InterpolationMode.BILINEAR, antialias=True),\n",
    "    transforms.RandomHorizontalFlip(0.5),\n",
    "    # Normalize the pixel values (in R, G, and B channels)\n",
    "    transforms.Normalize(mean=[0.485, 0.485, 0.406], std=[0.229, 0.224, 0.225])\n",
    "])\n",
    "\n",
    "# Define dataset with ImageFolder\n",
    "train_dataset = torchvision.datasets.ImageFolder(\n",
    "    root=training_folder_name,\n",
    "    transform=train_transformation\n",
    ")\n",
    "classes = [ 'n04507155', 'n04254680', 'n03642806', 'n02782093', 'n03792782', 'n03393912', 'n03895866', 'n04204347', 'n03791053', 'n02701002' ] #, 'n02930766', 'n03594945', 'n03770679', 'n04037443', 'n03345487', 'n03417042', 'n04461696', 'n04467665', 'n03796401', 'n03977966', 'n04335435', 'n04380533', 'n03337140', 'n03179701', 'n04550184', 'n07747607', 'n07749582', 'n07753113', 'n07753275', 'n07753592', 'n07754684', 'n07760859', 'n07768694', 'n12620546', 'n13133613', 'n12144580', 'n03017168', 'n03249569', 'n03447721', 'n03954731', 'n03481172', 'n03109150', 'n02951585', 'n03970156', 'n04154565', 'n04208210', 'n03000684', 'n03876231', 'n03691459', 'n03759954', 'n04152593', 'n03793489', 'n03271574', 'n04118776', 'n03196217', 'n04548280', 'n03197337', 'n04376876', 'n03706229', 'n04356056', 'n03085013', 'n04505470', 'n03666591', 'n03180011', 'n03485407', 'n03832673', 'n04004767', 'n04355933', 'n04074963', 'n02948072', 'n04456115', 'n03485794', 'n07579787', 'n03814906', 'n02795169', 'n04553703', 'n02783161', 'n02802426', 'n02808304', 'n04548362', 'n06794110', 'n03388183', 'n04540053', 'n04026417', 'n04404412', 'n04204238', 'n04597913', 'n09835506', 'n04557648', 'n03958227', 'n02786058', 'n04409515', 'n03223299', 'n07614500', 'n03729826', 'n04254777', 'n02988304', 'n03063599', 'n04116512', 'n03255030' ]\n",
    "allowed_class_to_idx = {cls: train_dataset.class_to_idx[cls] for cls in classes if cls in train_dataset.class_to_idx}\n",
    "filtered_samples = [\n",
    "    (path, label) for path, label in train_dataset.samples if label in allowed_class_to_idx.values()\n",
    "]\n",
    "\n",
    "train_dataset.samples = filtered_samples\n",
    "train_dataset.targets = [s[1] for s in filtered_samples]\n",
    "train_dataset.class_to_idx = allowed_class_to_idx\n",
    "train_dataset.classes = list(allowed_class_to_idx.keys())\n",
    "\n",
    "print(f\"Filtered dataset contains {len(train_dataset.samples)} samples across {len(train_dataset.classes)} classes.\")\n",
    "\n",
    "# Define the split ratios\n",
    "train_size = int(0.1 * len(train_dataset))\n",
    "val_size = int(0.05 * len(train_dataset)) #len(train_dataset) - train_size\n",
    "rem_size = len(train_dataset) - train_size - val_size\n",
    "\n",
    "# Split the dataset into training and validation sets\n",
    "train_data, val_data, _ = random_split(train_dataset, [train_size, val_size, rem_size])\n",
    "\n",
    "# Define the sampler and DataLoader for the training set\n",
    "train_sampler = torch.utils.data.RandomSampler(train_data)\n",
    "train_loader = DataLoader(\n",
    "    train_data,\n",
    "    batch_size=params.batch_size,\n",
    "    sampler=train_sampler,\n",
    "    num_workers=params.workers,\n",
    "    pin_memory=True,\n",
    ")\n",
    "\n",
    "# Define the DataLoader for the validation set (no sampler needed, as we'll just shuffle it)\n",
    "val_loader = DataLoader(\n",
    "    val_data,\n",
    "    batch_size=params.batch_size,\n",
    "    shuffle=True,  # Shuffling validation data is optional\n",
    "    num_workers=params.workers,\n",
    "    pin_memory=True,\n",
    ")"
   ]
  },
  {
   "cell_type": "code",
   "execution_count": 2,
   "id": "9731d4b7-dff8-4343-a69c-02c9f60b2193",
   "metadata": {},
   "outputs": [],
   "source": [
    "class DistillationLoss(nn.Module):\n",
    "    def __init__(self, alpha, temperature):\n",
    "        super(DistillationLoss, self).__init__()\n",
    "        self.alpha = alpha\n",
    "        self.temperature = temperature\n",
    "        self.criterion = nn.CrossEntropyLoss()\n",
    "\n",
    "    def forward(self, student_logits, teacher_logits, targets):\n",
    "        # CrossEntropy Loss for student's hard predictions\n",
    "        student_loss = self.criterion(student_logits, targets)\n",
    "        \n",
    "        # KL Divergence Loss for soft predictions\n",
    "        distillation_loss = F.kl_div(\n",
    "            F.log_softmax(student_logits / self.temperature, dim=1),\n",
    "            F.softmax(teacher_logits / self.temperature, dim=1),\n",
    "            reduction='batchmean'\n",
    "        ) * (self.temperature ** 2)\n",
    "\n",
    "        # Combine losses with alpha weighting\n",
    "        loss = self.alpha * student_loss + (1 - self.alpha) * distillation_loss\n",
    "        return loss"
   ]
  },
  {
   "cell_type": "code",
   "execution_count": 3,
   "id": "8f385649-d96e-48d1-9568-259ac5e53bae",
   "metadata": {},
   "outputs": [],
   "source": [
    "def distill(dataloader, teacher, model, epoch):\n",
    "    size = len(dataloader.dataset)\n",
    "    model.train()\n",
    "    distillation_criterion = DistillationLoss(params.alpha, params.temperature)\n",
    "    optimizer = optim.RMSprop(student_model.parameters(), lr=params.learning_rate, alpha=0.9, momentum=params.momentum, weight_decay=params.weight_decay)\n",
    "    scheduler = optim.lr_scheduler.StepLR(optimizer, step_size=params.lr_step_size, gamma=params.lr_gamma)\n",
    "\n",
    "    for batch, (X, y) in enumerate(dataloader):\n",
    "        X, y = X.to(device), y.to(device)\n",
    "        with torch.no_grad():\n",
    "            teacher_logits = teacher(X)\n",
    "        student_logits = model(X)\n",
    "        loss = distillation_criterion(student_logits, teacher_logits, y)\n",
    "        loss.backward()\n",
    "        torch.nn.utils.clip_grad_norm_(student_model.parameters(), max_norm=5.0)\n",
    "        optimizer.step()\n",
    "        optimizer.zero_grad()\n",
    "\n",
    "        if batch % 100 == 0:\n",
    "            print(f\"loss: {loss.item():.6f} [{batch * len(X)}/{size}]\")\n",
    "\n",
    "    scheduler.step()\n",
    "\n",
    "def train(dataloader, teacher, model):\n",
    "    start_epoch = 0\n",
    "    # total_epochs = 20\n",
    "    for epoch in range(start_epoch, params.num_epochs):\n",
    "        distill(dataloader, teacher, model, epoch)\n",
    "        test(val_loader, model, nn.CrossEntropyLoss(), epoch)\n",
    "        \n",
    "\n",
    "def test(dataloader, model, loss_fn, epoch):\n",
    "    size = len(dataloader.dataset)\n",
    "    num_batches = len(dataloader)\n",
    "    model.eval()\n",
    "    test_loss, correct = 0, 0\n",
    "    with torch.no_grad():\n",
    "        for X, y in dataloader:\n",
    "            X, y = X.to(device), y.to(device)\n",
    "            pred = model(X)\n",
    "            test_loss += loss_fn(pred, y).item()\n",
    "            correct += (pred.argmax(1) == y).type(torch.float).sum().item()\n",
    "    test_loss /= num_batches\n",
    "    step = epoch * len(dataloader.dataset)\n",
    "    correct /= size\n",
    "    print(f\"Test Error: \\n Accuracy: {(100*correct):>0.1f}%, Avg loss: {test_loss:>8f} , Step: {step}\\n\")"
   ]
  },
  {
   "cell_type": "code",
   "execution_count": 4,
   "id": "705328ed-3df5-417d-abbf-e2805d08bfef",
   "metadata": {},
   "outputs": [
    {
     "name": "stdout",
     "output_type": "stream",
     "text": [
      "loss: 3.843838 [0/1300]\n"
     ]
    },
    {
     "name": "stderr",
     "output_type": "stream",
     "text": [
      "python(74278) MallocStackLogging: can't turn off malloc stack logging because it was not enabled.\n",
      "python(74281) MallocStackLogging: can't turn off malloc stack logging because it was not enabled.\n",
      "python(74282) MallocStackLogging: can't turn off malloc stack logging because it was not enabled.\n",
      "python(74283) MallocStackLogging: can't turn off malloc stack logging because it was not enabled.\n"
     ]
    },
    {
     "name": "stdout",
     "output_type": "stream",
     "text": [
      "Test Error: \n",
      " Accuracy: 11.7%, Avg loss: 4.784631 , Step: 0\n",
      "\n"
     ]
    },
    {
     "name": "stderr",
     "output_type": "stream",
     "text": [
      "python(74296) MallocStackLogging: can't turn off malloc stack logging because it was not enabled.\n",
      "python(74300) MallocStackLogging: can't turn off malloc stack logging because it was not enabled.\n",
      "python(74301) MallocStackLogging: can't turn off malloc stack logging because it was not enabled.\n",
      "python(74302) MallocStackLogging: can't turn off malloc stack logging because it was not enabled.\n"
     ]
    },
    {
     "name": "stdout",
     "output_type": "stream",
     "text": [
      "loss: 1.833974 [0/1300]\n"
     ]
    },
    {
     "name": "stderr",
     "output_type": "stream",
     "text": [
      "python(74441) MallocStackLogging: can't turn off malloc stack logging because it was not enabled.\n",
      "python(74444) MallocStackLogging: can't turn off malloc stack logging because it was not enabled.\n",
      "python(74445) MallocStackLogging: can't turn off malloc stack logging because it was not enabled.\n",
      "python(74446) MallocStackLogging: can't turn off malloc stack logging because it was not enabled.\n"
     ]
    },
    {
     "name": "stdout",
     "output_type": "stream",
     "text": [
      "Test Error: \n",
      " Accuracy: 10.8%, Avg loss: 4.681284 , Step: 650\n",
      "\n"
     ]
    },
    {
     "name": "stderr",
     "output_type": "stream",
     "text": [
      "python(74464) MallocStackLogging: can't turn off malloc stack logging because it was not enabled.\n",
      "python(74467) MallocStackLogging: can't turn off malloc stack logging because it was not enabled.\n",
      "python(74468) MallocStackLogging: can't turn off malloc stack logging because it was not enabled.\n",
      "python(74470) MallocStackLogging: can't turn off malloc stack logging because it was not enabled.\n"
     ]
    },
    {
     "name": "stdout",
     "output_type": "stream",
     "text": [
      "loss: 1.759503 [0/1300]\n"
     ]
    },
    {
     "name": "stderr",
     "output_type": "stream",
     "text": [
      "python(74592) MallocStackLogging: can't turn off malloc stack logging because it was not enabled.\n",
      "python(74595) MallocStackLogging: can't turn off malloc stack logging because it was not enabled.\n",
      "python(74596) MallocStackLogging: can't turn off malloc stack logging because it was not enabled.\n",
      "python(74597) MallocStackLogging: can't turn off malloc stack logging because it was not enabled.\n"
     ]
    },
    {
     "name": "stdout",
     "output_type": "stream",
     "text": [
      "Test Error: \n",
      " Accuracy: 11.8%, Avg loss: 2.732299 , Step: 1300\n",
      "\n"
     ]
    },
    {
     "name": "stderr",
     "output_type": "stream",
     "text": [
      "python(74618) MallocStackLogging: can't turn off malloc stack logging because it was not enabled.\n",
      "python(74621) MallocStackLogging: can't turn off malloc stack logging because it was not enabled.\n",
      "python(74622) MallocStackLogging: can't turn off malloc stack logging because it was not enabled.\n",
      "python(74624) MallocStackLogging: can't turn off malloc stack logging because it was not enabled.\n"
     ]
    },
    {
     "name": "stdout",
     "output_type": "stream",
     "text": [
      "loss: 1.851325 [0/1300]\n"
     ]
    },
    {
     "name": "stderr",
     "output_type": "stream",
     "text": [
      "python(74754) MallocStackLogging: can't turn off malloc stack logging because it was not enabled.\n",
      "python(74757) MallocStackLogging: can't turn off malloc stack logging because it was not enabled.\n",
      "python(74760) MallocStackLogging: can't turn off malloc stack logging because it was not enabled.\n",
      "python(74761) MallocStackLogging: can't turn off malloc stack logging because it was not enabled.\n"
     ]
    },
    {
     "name": "stdout",
     "output_type": "stream",
     "text": [
      "Test Error: \n",
      " Accuracy: 11.2%, Avg loss: 3.037619 , Step: 1950\n",
      "\n"
     ]
    },
    {
     "name": "stderr",
     "output_type": "stream",
     "text": [
      "python(74775) MallocStackLogging: can't turn off malloc stack logging because it was not enabled.\n",
      "python(74779) MallocStackLogging: can't turn off malloc stack logging because it was not enabled.\n",
      "python(74781) MallocStackLogging: can't turn off malloc stack logging because it was not enabled.\n",
      "python(74782) MallocStackLogging: can't turn off malloc stack logging because it was not enabled.\n"
     ]
    },
    {
     "name": "stdout",
     "output_type": "stream",
     "text": [
      "loss: 1.890518 [0/1300]\n"
     ]
    },
    {
     "name": "stderr",
     "output_type": "stream",
     "text": [
      "python(74862) MallocStackLogging: can't turn off malloc stack logging because it was not enabled.\n",
      "python(74865) MallocStackLogging: can't turn off malloc stack logging because it was not enabled.\n",
      "python(74866) MallocStackLogging: can't turn off malloc stack logging because it was not enabled.\n",
      "python(74867) MallocStackLogging: can't turn off malloc stack logging because it was not enabled.\n"
     ]
    },
    {
     "name": "stdout",
     "output_type": "stream",
     "text": [
      "Test Error: \n",
      " Accuracy: 10.8%, Avg loss: 2.573600 , Step: 2600\n",
      "\n"
     ]
    },
    {
     "name": "stderr",
     "output_type": "stream",
     "text": [
      "python(74891) MallocStackLogging: can't turn off malloc stack logging because it was not enabled.\n",
      "python(74896) MallocStackLogging: can't turn off malloc stack logging because it was not enabled.\n",
      "python(74897) MallocStackLogging: can't turn off malloc stack logging because it was not enabled.\n",
      "python(74898) MallocStackLogging: can't turn off malloc stack logging because it was not enabled.\n"
     ]
    },
    {
     "name": "stdout",
     "output_type": "stream",
     "text": [
      "loss: 1.750341 [0/1300]\n"
     ]
    },
    {
     "name": "stderr",
     "output_type": "stream",
     "text": [
      "python(75037) MallocStackLogging: can't turn off malloc stack logging because it was not enabled.\n",
      "python(75040) MallocStackLogging: can't turn off malloc stack logging because it was not enabled.\n",
      "python(75041) MallocStackLogging: can't turn off malloc stack logging because it was not enabled.\n",
      "python(75043) MallocStackLogging: can't turn off malloc stack logging because it was not enabled.\n"
     ]
    },
    {
     "name": "stdout",
     "output_type": "stream",
     "text": [
      "Test Error: \n",
      " Accuracy: 10.8%, Avg loss: 2.598214 , Step: 3250\n",
      "\n"
     ]
    },
    {
     "name": "stderr",
     "output_type": "stream",
     "text": [
      "python(75071) MallocStackLogging: can't turn off malloc stack logging because it was not enabled.\n",
      "python(75074) MallocStackLogging: can't turn off malloc stack logging because it was not enabled.\n",
      "python(75076) MallocStackLogging: can't turn off malloc stack logging because it was not enabled.\n",
      "python(75077) MallocStackLogging: can't turn off malloc stack logging because it was not enabled.\n"
     ]
    },
    {
     "name": "stdout",
     "output_type": "stream",
     "text": [
      "loss: 1.767687 [0/1300]\n"
     ]
    },
    {
     "name": "stderr",
     "output_type": "stream",
     "text": [
      "python(75178) MallocStackLogging: can't turn off malloc stack logging because it was not enabled.\n",
      "python(75181) MallocStackLogging: can't turn off malloc stack logging because it was not enabled.\n",
      "python(75182) MallocStackLogging: can't turn off malloc stack logging because it was not enabled.\n",
      "python(75184) MallocStackLogging: can't turn off malloc stack logging because it was not enabled.\n"
     ]
    },
    {
     "name": "stdout",
     "output_type": "stream",
     "text": [
      "Test Error: \n",
      " Accuracy: 11.2%, Avg loss: 2.503245 , Step: 3900\n",
      "\n"
     ]
    },
    {
     "name": "stderr",
     "output_type": "stream",
     "text": [
      "python(75197) MallocStackLogging: can't turn off malloc stack logging because it was not enabled.\n",
      "python(75200) MallocStackLogging: can't turn off malloc stack logging because it was not enabled.\n",
      "python(75201) MallocStackLogging: can't turn off malloc stack logging because it was not enabled.\n",
      "python(75202) MallocStackLogging: can't turn off malloc stack logging because it was not enabled.\n"
     ]
    },
    {
     "name": "stdout",
     "output_type": "stream",
     "text": [
      "loss: 1.739387 [0/1300]\n"
     ]
    },
    {
     "name": "stderr",
     "output_type": "stream",
     "text": [
      "python(75319) MallocStackLogging: can't turn off malloc stack logging because it was not enabled.\n",
      "python(75322) MallocStackLogging: can't turn off malloc stack logging because it was not enabled.\n",
      "python(75323) MallocStackLogging: can't turn off malloc stack logging because it was not enabled.\n",
      "python(75324) MallocStackLogging: can't turn off malloc stack logging because it was not enabled.\n"
     ]
    },
    {
     "name": "stdout",
     "output_type": "stream",
     "text": [
      "Test Error: \n",
      " Accuracy: 11.4%, Avg loss: 2.800154 , Step: 4550\n",
      "\n"
     ]
    },
    {
     "name": "stderr",
     "output_type": "stream",
     "text": [
      "python(75333) MallocStackLogging: can't turn off malloc stack logging because it was not enabled.\n",
      "python(75336) MallocStackLogging: can't turn off malloc stack logging because it was not enabled.\n",
      "python(75337) MallocStackLogging: can't turn off malloc stack logging because it was not enabled.\n",
      "python(75338) MallocStackLogging: can't turn off malloc stack logging because it was not enabled.\n"
     ]
    },
    {
     "name": "stdout",
     "output_type": "stream",
     "text": [
      "loss: 1.930172 [0/1300]\n"
     ]
    },
    {
     "name": "stderr",
     "output_type": "stream",
     "text": [
      "python(75453) MallocStackLogging: can't turn off malloc stack logging because it was not enabled.\n",
      "python(75456) MallocStackLogging: can't turn off malloc stack logging because it was not enabled.\n",
      "python(75457) MallocStackLogging: can't turn off malloc stack logging because it was not enabled.\n",
      "python(75459) MallocStackLogging: can't turn off malloc stack logging because it was not enabled.\n"
     ]
    },
    {
     "name": "stdout",
     "output_type": "stream",
     "text": [
      "Test Error: \n",
      " Accuracy: 6.8%, Avg loss: 4.634768 , Step: 5200\n",
      "\n"
     ]
    },
    {
     "name": "stderr",
     "output_type": "stream",
     "text": [
      "python(75477) MallocStackLogging: can't turn off malloc stack logging because it was not enabled.\n",
      "python(75480) MallocStackLogging: can't turn off malloc stack logging because it was not enabled.\n",
      "python(75481) MallocStackLogging: can't turn off malloc stack logging because it was not enabled.\n",
      "python(75484) MallocStackLogging: can't turn off malloc stack logging because it was not enabled.\n"
     ]
    },
    {
     "name": "stdout",
     "output_type": "stream",
     "text": [
      "loss: 1.856771 [0/1300]\n"
     ]
    },
    {
     "name": "stderr",
     "output_type": "stream",
     "text": [
      "python(75586) MallocStackLogging: can't turn off malloc stack logging because it was not enabled.\n",
      "python(75589) MallocStackLogging: can't turn off malloc stack logging because it was not enabled.\n",
      "python(75590) MallocStackLogging: can't turn off malloc stack logging because it was not enabled.\n",
      "python(75592) MallocStackLogging: can't turn off malloc stack logging because it was not enabled.\n"
     ]
    },
    {
     "name": "stdout",
     "output_type": "stream",
     "text": [
      "Test Error: \n",
      " Accuracy: 11.1%, Avg loss: 3.951894 , Step: 5850\n",
      "\n"
     ]
    },
    {
     "name": "stderr",
     "output_type": "stream",
     "text": [
      "python(75616) MallocStackLogging: can't turn off malloc stack logging because it was not enabled.\n",
      "python(75619) MallocStackLogging: can't turn off malloc stack logging because it was not enabled.\n",
      "python(75620) MallocStackLogging: can't turn off malloc stack logging because it was not enabled.\n",
      "python(75621) MallocStackLogging: can't turn off malloc stack logging because it was not enabled.\n"
     ]
    },
    {
     "name": "stdout",
     "output_type": "stream",
     "text": [
      "loss: 1.782046 [0/1300]\n"
     ]
    },
    {
     "name": "stderr",
     "output_type": "stream",
     "text": [
      "python(75702) MallocStackLogging: can't turn off malloc stack logging because it was not enabled.\n",
      "python(75725) MallocStackLogging: can't turn off malloc stack logging because it was not enabled.\n",
      "python(75726) MallocStackLogging: can't turn off malloc stack logging because it was not enabled.\n",
      "python(75729) MallocStackLogging: can't turn off malloc stack logging because it was not enabled.\n"
     ]
    },
    {
     "name": "stdout",
     "output_type": "stream",
     "text": [
      "Test Error: \n",
      " Accuracy: 9.8%, Avg loss: 3.134273 , Step: 6500\n",
      "\n"
     ]
    },
    {
     "name": "stderr",
     "output_type": "stream",
     "text": [
      "python(75753) MallocStackLogging: can't turn off malloc stack logging because it was not enabled.\n",
      "python(75756) MallocStackLogging: can't turn off malloc stack logging because it was not enabled.\n",
      "python(75757) MallocStackLogging: can't turn off malloc stack logging because it was not enabled.\n",
      "python(75758) MallocStackLogging: can't turn off malloc stack logging because it was not enabled.\n"
     ]
    },
    {
     "name": "stdout",
     "output_type": "stream",
     "text": [
      "loss: 1.757365 [0/1300]\n"
     ]
    },
    {
     "name": "stderr",
     "output_type": "stream",
     "text": [
      "python(75839) MallocStackLogging: can't turn off malloc stack logging because it was not enabled.\n",
      "python(75842) MallocStackLogging: can't turn off malloc stack logging because it was not enabled.\n",
      "python(75843) MallocStackLogging: can't turn off malloc stack logging because it was not enabled.\n",
      "python(75847) MallocStackLogging: can't turn off malloc stack logging because it was not enabled.\n"
     ]
    },
    {
     "name": "stdout",
     "output_type": "stream",
     "text": [
      "Test Error: \n",
      " Accuracy: 11.1%, Avg loss: 3.310654 , Step: 7150\n",
      "\n"
     ]
    },
    {
     "name": "stderr",
     "output_type": "stream",
     "text": [
      "python(75922) MallocStackLogging: can't turn off malloc stack logging because it was not enabled.\n",
      "python(75925) MallocStackLogging: can't turn off malloc stack logging because it was not enabled.\n",
      "python(75926) MallocStackLogging: can't turn off malloc stack logging because it was not enabled.\n",
      "python(75927) MallocStackLogging: can't turn off malloc stack logging because it was not enabled.\n"
     ]
    },
    {
     "name": "stdout",
     "output_type": "stream",
     "text": [
      "loss: 1.755320 [0/1300]\n"
     ]
    },
    {
     "name": "stderr",
     "output_type": "stream",
     "text": [
      "python(76018) MallocStackLogging: can't turn off malloc stack logging because it was not enabled.\n",
      "python(76021) MallocStackLogging: can't turn off malloc stack logging because it was not enabled.\n",
      "python(76022) MallocStackLogging: can't turn off malloc stack logging because it was not enabled.\n",
      "python(76024) MallocStackLogging: can't turn off malloc stack logging because it was not enabled.\n"
     ]
    },
    {
     "name": "stdout",
     "output_type": "stream",
     "text": [
      "Test Error: \n",
      " Accuracy: 6.8%, Avg loss: 22.484444 , Step: 7800\n",
      "\n"
     ]
    },
    {
     "name": "stderr",
     "output_type": "stream",
     "text": [
      "python(76039) MallocStackLogging: can't turn off malloc stack logging because it was not enabled.\n",
      "python(76042) MallocStackLogging: can't turn off malloc stack logging because it was not enabled.\n",
      "python(76043) MallocStackLogging: can't turn off malloc stack logging because it was not enabled.\n",
      "python(76044) MallocStackLogging: can't turn off malloc stack logging because it was not enabled.\n"
     ]
    },
    {
     "name": "stdout",
     "output_type": "stream",
     "text": [
      "loss: 1.748047 [0/1300]\n"
     ]
    },
    {
     "name": "stderr",
     "output_type": "stream",
     "text": [
      "python(76117) MallocStackLogging: can't turn off malloc stack logging because it was not enabled.\n",
      "python(76120) MallocStackLogging: can't turn off malloc stack logging because it was not enabled.\n",
      "python(76121) MallocStackLogging: can't turn off malloc stack logging because it was not enabled.\n",
      "python(76123) MallocStackLogging: can't turn off malloc stack logging because it was not enabled.\n"
     ]
    },
    {
     "name": "stdout",
     "output_type": "stream",
     "text": [
      "Test Error: \n",
      " Accuracy: 6.5%, Avg loss: 7.935783 , Step: 8450\n",
      "\n"
     ]
    },
    {
     "name": "stderr",
     "output_type": "stream",
     "text": [
      "python(76170) MallocStackLogging: can't turn off malloc stack logging because it was not enabled.\n",
      "python(76173) MallocStackLogging: can't turn off malloc stack logging because it was not enabled.\n",
      "python(76174) MallocStackLogging: can't turn off malloc stack logging because it was not enabled.\n",
      "python(76177) MallocStackLogging: can't turn off malloc stack logging because it was not enabled.\n"
     ]
    },
    {
     "name": "stdout",
     "output_type": "stream",
     "text": [
      "loss: 1.838407 [0/1300]\n"
     ]
    },
    {
     "name": "stderr",
     "output_type": "stream",
     "text": [
      "python(76293) MallocStackLogging: can't turn off malloc stack logging because it was not enabled.\n",
      "python(76296) MallocStackLogging: can't turn off malloc stack logging because it was not enabled.\n",
      "python(76297) MallocStackLogging: can't turn off malloc stack logging because it was not enabled.\n",
      "python(76299) MallocStackLogging: can't turn off malloc stack logging because it was not enabled.\n"
     ]
    },
    {
     "name": "stdout",
     "output_type": "stream",
     "text": [
      "Test Error: \n",
      " Accuracy: 9.4%, Avg loss: 3.749347 , Step: 9100\n",
      "\n"
     ]
    },
    {
     "name": "stderr",
     "output_type": "stream",
     "text": [
      "python(76311) MallocStackLogging: can't turn off malloc stack logging because it was not enabled.\n",
      "python(76314) MallocStackLogging: can't turn off malloc stack logging because it was not enabled.\n",
      "python(76315) MallocStackLogging: can't turn off malloc stack logging because it was not enabled.\n",
      "python(76316) MallocStackLogging: can't turn off malloc stack logging because it was not enabled.\n"
     ]
    },
    {
     "name": "stdout",
     "output_type": "stream",
     "text": [
      "loss: 2.028296 [0/1300]\n"
     ]
    },
    {
     "name": "stderr",
     "output_type": "stream",
     "text": [
      "python(76439) MallocStackLogging: can't turn off malloc stack logging because it was not enabled.\n",
      "python(76443) MallocStackLogging: can't turn off malloc stack logging because it was not enabled.\n",
      "python(76445) MallocStackLogging: can't turn off malloc stack logging because it was not enabled.\n",
      "python(76447) MallocStackLogging: can't turn off malloc stack logging because it was not enabled.\n"
     ]
    },
    {
     "name": "stdout",
     "output_type": "stream",
     "text": [
      "Test Error: \n",
      " Accuracy: 11.5%, Avg loss: 8.196679 , Step: 9750\n",
      "\n"
     ]
    },
    {
     "name": "stderr",
     "output_type": "stream",
     "text": [
      "python(76483) MallocStackLogging: can't turn off malloc stack logging because it was not enabled.\n",
      "python(76486) MallocStackLogging: can't turn off malloc stack logging because it was not enabled.\n",
      "python(76487) MallocStackLogging: can't turn off malloc stack logging because it was not enabled.\n",
      "python(76488) MallocStackLogging: can't turn off malloc stack logging because it was not enabled.\n"
     ]
    },
    {
     "name": "stdout",
     "output_type": "stream",
     "text": [
      "loss: 1.831571 [0/1300]\n"
     ]
    },
    {
     "name": "stderr",
     "output_type": "stream",
     "text": [
      "python(76549) MallocStackLogging: can't turn off malloc stack logging because it was not enabled.\n",
      "python(76552) MallocStackLogging: can't turn off malloc stack logging because it was not enabled.\n",
      "python(76553) MallocStackLogging: can't turn off malloc stack logging because it was not enabled.\n",
      "python(76554) MallocStackLogging: can't turn off malloc stack logging because it was not enabled.\n"
     ]
    },
    {
     "name": "stdout",
     "output_type": "stream",
     "text": [
      "Test Error: \n",
      " Accuracy: 18.2%, Avg loss: 2.878485 , Step: 10400\n",
      "\n"
     ]
    },
    {
     "name": "stderr",
     "output_type": "stream",
     "text": [
      "python(76574) MallocStackLogging: can't turn off malloc stack logging because it was not enabled.\n",
      "python(76577) MallocStackLogging: can't turn off malloc stack logging because it was not enabled.\n",
      "python(76579) MallocStackLogging: can't turn off malloc stack logging because it was not enabled.\n",
      "python(76580) MallocStackLogging: can't turn off malloc stack logging because it was not enabled.\n"
     ]
    },
    {
     "name": "stdout",
     "output_type": "stream",
     "text": [
      "loss: 1.639027 [0/1300]\n"
     ]
    },
    {
     "name": "stderr",
     "output_type": "stream",
     "text": [
      "python(76716) MallocStackLogging: can't turn off malloc stack logging because it was not enabled.\n",
      "python(76719) MallocStackLogging: can't turn off malloc stack logging because it was not enabled.\n",
      "python(76720) MallocStackLogging: can't turn off malloc stack logging because it was not enabled.\n",
      "python(76722) MallocStackLogging: can't turn off malloc stack logging because it was not enabled.\n"
     ]
    },
    {
     "name": "stdout",
     "output_type": "stream",
     "text": [
      "Test Error: \n",
      " Accuracy: 13.2%, Avg loss: 8.006303 , Step: 11050\n",
      "\n"
     ]
    },
    {
     "name": "stderr",
     "output_type": "stream",
     "text": [
      "python(76736) MallocStackLogging: can't turn off malloc stack logging because it was not enabled.\n",
      "python(76739) MallocStackLogging: can't turn off malloc stack logging because it was not enabled.\n",
      "python(76742) MallocStackLogging: can't turn off malloc stack logging because it was not enabled.\n",
      "python(76743) MallocStackLogging: can't turn off malloc stack logging because it was not enabled.\n"
     ]
    },
    {
     "name": "stdout",
     "output_type": "stream",
     "text": [
      "loss: 1.764007 [0/1300]\n"
     ]
    },
    {
     "name": "stderr",
     "output_type": "stream",
     "text": [
      "python(76841) MallocStackLogging: can't turn off malloc stack logging because it was not enabled.\n",
      "python(76844) MallocStackLogging: can't turn off malloc stack logging because it was not enabled.\n",
      "python(76845) MallocStackLogging: can't turn off malloc stack logging because it was not enabled.\n",
      "python(76846) MallocStackLogging: can't turn off malloc stack logging because it was not enabled.\n"
     ]
    },
    {
     "name": "stdout",
     "output_type": "stream",
     "text": [
      "Test Error: \n",
      " Accuracy: 17.4%, Avg loss: 2.646545 , Step: 11700\n",
      "\n"
     ]
    },
    {
     "name": "stderr",
     "output_type": "stream",
     "text": [
      "python(76866) MallocStackLogging: can't turn off malloc stack logging because it was not enabled.\n",
      "python(76869) MallocStackLogging: can't turn off malloc stack logging because it was not enabled.\n",
      "python(76870) MallocStackLogging: can't turn off malloc stack logging because it was not enabled.\n",
      "python(76871) MallocStackLogging: can't turn off malloc stack logging because it was not enabled.\n"
     ]
    },
    {
     "name": "stdout",
     "output_type": "stream",
     "text": [
      "loss: 1.879700 [0/1300]\n"
     ]
    },
    {
     "name": "stderr",
     "output_type": "stream",
     "text": [
      "python(76978) MallocStackLogging: can't turn off malloc stack logging because it was not enabled.\n",
      "python(76981) MallocStackLogging: can't turn off malloc stack logging because it was not enabled.\n",
      "python(76982) MallocStackLogging: can't turn off malloc stack logging because it was not enabled.\n",
      "python(76983) MallocStackLogging: can't turn off malloc stack logging because it was not enabled.\n"
     ]
    },
    {
     "name": "stdout",
     "output_type": "stream",
     "text": [
      "Test Error: \n",
      " Accuracy: 10.9%, Avg loss: 6.872127 , Step: 12350\n",
      "\n",
      "Student model saved as 'student_mobilenet_v3_large.pth'\n"
     ]
    }
   ],
   "source": [
    "teacher_model = torchvision.models.swin_t(weights=\"IMAGENET1K_V1\").to(device)\n",
    "teacher_model.eval()\n",
    "student_model = torchvision.models.mobilenet_v2(weights=None).to(device) # weights=torchvision.models.MobileNet_V2_Weights.IMAGENET1K_V1\n",
    "student_model.train()\n",
    "\n",
    "train(train_loader, teacher_model, student_model)\n",
    "\n",
    "torch.save(student_model.state_dict(), 'student_mobilenet_v3_large.pth')\n",
    "print(\"Student model saved as 'student_mobilenet_v3_large.pth'\")"
   ]
  },
  {
   "cell_type": "code",
   "execution_count": null,
   "id": "3e825aa8-b19b-48aa-a9db-c524c3f646b8",
   "metadata": {},
   "outputs": [],
   "source": []
  }
 ],
 "metadata": {
  "kernelspec": {
   "display_name": "Python 3 (ipykernel)",
   "language": "python",
   "name": "python3"
  },
  "language_info": {
   "codemirror_mode": {
    "name": "ipython",
    "version": 3
   },
   "file_extension": ".py",
   "mimetype": "text/x-python",
   "name": "python",
   "nbconvert_exporter": "python",
   "pygments_lexer": "ipython3",
   "version": "3.12.1"
  }
 },
 "nbformat": 4,
 "nbformat_minor": 5
}
